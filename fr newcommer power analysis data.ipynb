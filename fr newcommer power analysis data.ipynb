{
 "cells": [
  {
   "cell_type": "markdown",
   "metadata": {},
   "source": [
    "# Goal\n",
    "\n",
    "data document: https://docs.google.com/document/d/1zj-yIR7s7-MWEk3u9O1kQTfL0d6bF0Yz1H_CV-n1T4U/edit#"
   ]
  },
  {
   "cell_type": "code",
   "execution_count": 2,
   "metadata": {},
   "outputs": [],
   "source": [
    "%%capture\n",
    "!pip install mwclient\n",
    "!pip install mwviews\n",
    "\n",
    "from itertools import islice\n",
    "\n",
    "def window_seq(seq, n=2):\n",
    "    \"Returns a sliding window (of width n) over data from the iterable\"\n",
    "    \"   s -> (s0,s1,...s[n-1]), (s1,s2,...,sn), ...                   \"\n",
    "    it = iter(seq)\n",
    "    result = tuple(islice(it, n))\n",
    "    if len(result) == n:\n",
    "        yield result\n",
    "    for elem in it:\n",
    "        result = result[1:] + (elem,)\n",
    "        yield result\n",
    "        \n",
    "def wmftimestamp(bytestring):\n",
    "    if bytestring:\n",
    "        s = bytestring.decode('utf-8')\n",
    "        return dt.strptime(s, '%Y%m%d%H%M%S')\n",
    "    else:\n",
    "        return bytestring\n",
    "    \n",
    "\n",
    "def decode_or_nouser(b):\n",
    "    return b.decode('utf-8') if b else '#nosuchuser'\n",
    "\n",
    "!mkdir outputs\n",
    "!mkdir checkpoints\n",
    "\n",
    "\n",
    "import json\n",
    "import requests\n",
    "\n",
    "from sqlalchemy import create_engine\n",
    "from sqlalchemy.exc import ProgrammingError\n",
    "from pymysql.err import InternalError, OperationalError\n",
    "import sys, os\n",
    "import pandas as pd\n",
    "import numpy as np\n",
    "\n",
    "import mwclient\n",
    "import mwviews\n",
    "\n",
    "from datetime import datetime as dt\n",
    "from datetime import timedelta as td\n",
    "\n",
    "%pylab inline\n",
    "\n",
    "langs = ['ar', 'fa', 'pl']\n",
    "\n",
    "langcode = langs[0]\n",
    "\n",
    "datadir = os.path.join('data', langcode)\n",
    "\n",
    "\n",
    "site = mwclient.Site(('https', f'{langcode}.wikipedia.org'), path = '/w/')\n",
    "\n",
    "os.makedirs(datadir, exist_ok=True)\n",
    "\n",
    "constr = 'mysql+pymysql://{user}:{pwd}@{host}/DB?charset=utf8'.format(user=os.environ['MYSQL_USERNAME'],\n",
    "                                                      pwd=os.environ['MYSQL_PASSWORD'],\n",
    "                                                      host=os.environ['MYSQL_HOST'])\n",
    "\n",
    "con = create_engine(constr, encoding='utf-8')\n",
    "\n",
    "\n",
    "con.execute(f'use enwiki_p;')\n",
    "\n",
    "\n",
    "# Wednesday  Mar 7 2018 (mid week)\n",
    "# Saturday March 24 2018 (beginning weekend)\n",
    "\n",
    "sim_onboard_start_dates = (dt(2018,3,7), dt(2018,3,24))\n",
    "sim_onboard_start_date = sim_onboard_start_dates[0]\n",
    "onboard_days= 90\n",
    "observation_days=90\n",
    "sim_onboard_end_date = sim_onboard_start_date + td(days=onboard_days)\n",
    "sim_experiment_end_date = sim_onboard_start_date + td(days=onboard_days+observation_days)\n",
    "\n",
    "lang = 'fr'"
   ]
  },
  {
   "cell_type": "code",
   "execution_count": 4,
   "metadata": {},
   "outputs": [],
   "source": [
    "def get_registered_users(lang, start_date, end_date):\n",
    "    db_prefix = f'{lang}wiki_p'\n",
    "    con.execute(f'use {db_prefix}')\n",
    "    reg_sql = '''\n",
    "select u.user_id, u.user_name, u.user_registration, p.up_property, p.up_value\n",
    "from user u\n",
    "left join user_properties p\n",
    "on p.up_user = u.user_id\n",
    "where user_registration > {start} and user_registration < {end}\n",
    ";'''.format(start=start_date.strftime('%Y%m%d%H%M%S'),\n",
    "           end=end_date.strftime('%Y%m%d%H%M%S'))\n",
    "#     print(reg_sql)\n",
    "    reg_df = pd.read_sql(reg_sql, con)\n",
    "    reg_df['user_registration'] = reg_df['user_registration'].apply(wmftimestamp)\n",
    "    return reg_df"
   ]
  },
  {
   "cell_type": "code",
   "execution_count": 5,
   "metadata": {},
   "outputs": [],
   "source": [
    "df = get_registered_users(lang, sim_onboard_start_date, sim_onboard_end_date)"
   ]
  },
  {
   "cell_type": "code",
   "execution_count": 6,
   "metadata": {},
   "outputs": [
    {
     "data": {
      "text/html": [
       "<div>\n",
       "<style scoped>\n",
       "    .dataframe tbody tr th:only-of-type {\n",
       "        vertical-align: middle;\n",
       "    }\n",
       "\n",
       "    .dataframe tbody tr th {\n",
       "        vertical-align: top;\n",
       "    }\n",
       "\n",
       "    .dataframe thead th {\n",
       "        text-align: right;\n",
       "    }\n",
       "</style>\n",
       "<table border=\"1\" class=\"dataframe\">\n",
       "  <thead>\n",
       "    <tr style=\"text-align: right;\">\n",
       "      <th></th>\n",
       "      <th>user_id</th>\n",
       "      <th>user_name</th>\n",
       "      <th>user_registration</th>\n",
       "      <th>up_property</th>\n",
       "      <th>up_value</th>\n",
       "    </tr>\n",
       "  </thead>\n",
       "  <tbody>\n",
       "    <tr>\n",
       "      <th>0</th>\n",
       "      <td>3060196</td>\n",
       "      <td>b'Caporal10'</td>\n",
       "      <td>2018-03-07 00:02:14</td>\n",
       "      <td>None</td>\n",
       "      <td>None</td>\n",
       "    </tr>\n",
       "    <tr>\n",
       "      <th>1</th>\n",
       "      <td>3060197</td>\n",
       "      <td>b'Cosmokdjfjdjdjhxhdjdb'</td>\n",
       "      <td>2018-03-07 00:04:25</td>\n",
       "      <td>None</td>\n",
       "      <td>None</td>\n",
       "    </tr>\n",
       "    <tr>\n",
       "      <th>2</th>\n",
       "      <td>3060198</td>\n",
       "      <td>b'Bangaly konat\\xc3\\xa9'</td>\n",
       "      <td>2018-03-07 00:04:34</td>\n",
       "      <td>None</td>\n",
       "      <td>None</td>\n",
       "    </tr>\n",
       "    <tr>\n",
       "      <th>3</th>\n",
       "      <td>3060199</td>\n",
       "      <td>b'Diassynthesis'</td>\n",
       "      <td>2018-03-07 00:09:06</td>\n",
       "      <td>None</td>\n",
       "      <td>None</td>\n",
       "    </tr>\n",
       "    <tr>\n",
       "      <th>4</th>\n",
       "      <td>3060200</td>\n",
       "      <td>b'Supremeboi88'</td>\n",
       "      <td>2018-03-07 00:10:17</td>\n",
       "      <td>None</td>\n",
       "      <td>None</td>\n",
       "    </tr>\n",
       "  </tbody>\n",
       "</table>\n",
       "</div>"
      ],
      "text/plain": [
       "   user_id                 user_name   user_registration up_property up_value\n",
       "0  3060196              b'Caporal10' 2018-03-07 00:02:14        None     None\n",
       "1  3060197  b'Cosmokdjfjdjdjhxhdjdb' 2018-03-07 00:04:25        None     None\n",
       "2  3060198  b'Bangaly konat\\xc3\\xa9' 2018-03-07 00:04:34        None     None\n",
       "3  3060199          b'Diassynthesis' 2018-03-07 00:09:06        None     None\n",
       "4  3060200           b'Supremeboi88' 2018-03-07 00:10:17        None     None"
      ]
     },
     "execution_count": 6,
     "metadata": {},
     "output_type": "execute_result"
    }
   ],
   "source": [
    "df.head()"
   ]
  },
  {
   "cell_type": "code",
   "execution_count": 7,
   "metadata": {},
   "outputs": [
    {
     "data": {
      "text/plain": [
       "b'gender'         232\n",
       "b'nickname'       215\n",
       "b'fancysig'       129\n",
       "b'disablemail'     84\n",
       "Name: up_property, dtype: int64"
      ]
     },
     "execution_count": 7,
     "metadata": {},
     "output_type": "execute_result"
    }
   ],
   "source": [
    "df['up_property'].value_counts()"
   ]
  },
  {
   "cell_type": "code",
   "execution_count": 8,
   "metadata": {},
   "outputs": [
    {
     "data": {
      "text/plain": [
       "b'1'                  213\n",
       "b'male'               169\n",
       "b'female'              63\n",
       "b'Gilles BERTHIER'      1\n",
       "b'nadia nad30'          1\n",
       "Name: up_value, dtype: int64"
      ]
     },
     "execution_count": 8,
     "metadata": {},
     "output_type": "execute_result"
    }
   ],
   "source": [
    "df['up_value'].value_counts()[:5]"
   ]
  },
  {
   "cell_type": "code",
   "execution_count": 9,
   "metadata": {},
   "outputs": [
    {
     "data": {
      "text/plain": [
       "(82306, 5)"
      ]
     },
     "execution_count": 9,
     "metadata": {},
     "output_type": "execute_result"
    }
   ],
   "source": [
    "df.shape"
   ]
  },
  {
   "cell_type": "code",
   "execution_count": 10,
   "metadata": {},
   "outputs": [],
   "source": [
    "def property_columns(user_df):\n",
    "    props = list(user_df['up_property'])\n",
    "    has_email = False if b'disablemail' in props else True\n",
    "    has_gender = user_df[user_df['up_property']==b'gender']['up_value'].iloc[0].decode('utf-8') if b'gender' in props else 'not_set'\n",
    "    user_name = user_df['user_name'].iloc[0].decode('utf-8')\n",
    "    return pd.DataFrame.from_dict({'user_name':user_name,'has_email':has_email,'has_gender':has_gender}, orient='index').T"
   ]
  },
  {
   "cell_type": "code",
   "execution_count": 11,
   "metadata": {},
   "outputs": [],
   "source": [
    "users = df.groupby('user_id').apply(property_columns)"
   ]
  },
  {
   "cell_type": "code",
   "execution_count": 12,
   "metadata": {
    "scrolled": true
   },
   "outputs": [],
   "source": [
    "users = users.reset_index()"
   ]
  },
  {
   "cell_type": "code",
   "execution_count": 13,
   "metadata": {},
   "outputs": [],
   "source": [
    "del users['level_1']"
   ]
  },
  {
   "cell_type": "code",
   "execution_count": 14,
   "metadata": {},
   "outputs": [
    {
     "data": {
      "text/plain": [
       "True     82040\n",
       "False       84\n",
       "Name: has_email, dtype: int64"
      ]
     },
     "execution_count": 14,
     "metadata": {},
     "output_type": "execute_result"
    }
   ],
   "source": [
    "users['has_email'].value_counts()"
   ]
  },
  {
   "cell_type": "code",
   "execution_count": 15,
   "metadata": {},
   "outputs": [
    {
     "data": {
      "text/plain": [
       "not_set    81892\n",
       "male         169\n",
       "female        63\n",
       "Name: has_gender, dtype: int64"
      ]
     },
     "execution_count": 15,
     "metadata": {},
     "output_type": "execute_result"
    }
   ],
   "source": [
    "users['has_gender'].value_counts()"
   ]
  },
  {
   "cell_type": "code",
   "execution_count": 16,
   "metadata": {},
   "outputs": [],
   "source": [
    "users = users.merge(df[['user_id','user_registration']], how='left')"
   ]
  },
  {
   "cell_type": "code",
   "execution_count": 17,
   "metadata": {},
   "outputs": [],
   "source": [
    "users['sim_observation_end'] = users['user_registration'].apply(lambda d: d+td(days=onboard_days))"
   ]
  },
  {
   "cell_type": "code",
   "execution_count": 18,
   "metadata": {},
   "outputs": [
    {
     "data": {
      "text/html": [
       "<div>\n",
       "<style scoped>\n",
       "    .dataframe tbody tr th:only-of-type {\n",
       "        vertical-align: middle;\n",
       "    }\n",
       "\n",
       "    .dataframe tbody tr th {\n",
       "        vertical-align: top;\n",
       "    }\n",
       "\n",
       "    .dataframe thead th {\n",
       "        text-align: right;\n",
       "    }\n",
       "</style>\n",
       "<table border=\"1\" class=\"dataframe\">\n",
       "  <thead>\n",
       "    <tr style=\"text-align: right;\">\n",
       "      <th></th>\n",
       "      <th>user_id</th>\n",
       "      <th>user_name</th>\n",
       "      <th>has_email</th>\n",
       "      <th>has_gender</th>\n",
       "      <th>user_registration</th>\n",
       "      <th>sim_observation_end</th>\n",
       "    </tr>\n",
       "  </thead>\n",
       "  <tbody>\n",
       "    <tr>\n",
       "      <th>82301</th>\n",
       "      <td>3143206</td>\n",
       "      <td>Pchayer</td>\n",
       "      <td>True</td>\n",
       "      <td>not_set</td>\n",
       "      <td>2018-06-04 23:45:50</td>\n",
       "      <td>2018-09-02 23:45:50</td>\n",
       "    </tr>\n",
       "    <tr>\n",
       "      <th>82302</th>\n",
       "      <td>3143207</td>\n",
       "      <td>Foxxyangel</td>\n",
       "      <td>True</td>\n",
       "      <td>not_set</td>\n",
       "      <td>2018-06-04 23:53:26</td>\n",
       "      <td>2018-09-02 23:53:26</td>\n",
       "    </tr>\n",
       "    <tr>\n",
       "      <th>82303</th>\n",
       "      <td>3143208</td>\n",
       "      <td>Osquiabro</td>\n",
       "      <td>True</td>\n",
       "      <td>not_set</td>\n",
       "      <td>2018-06-04 23:53:39</td>\n",
       "      <td>2018-09-02 23:53:39</td>\n",
       "    </tr>\n",
       "    <tr>\n",
       "      <th>82304</th>\n",
       "      <td>3143209</td>\n",
       "      <td>Scictieddo</td>\n",
       "      <td>True</td>\n",
       "      <td>not_set</td>\n",
       "      <td>2018-06-04 23:59:18</td>\n",
       "      <td>2018-09-02 23:59:18</td>\n",
       "    </tr>\n",
       "    <tr>\n",
       "      <th>82305</th>\n",
       "      <td>3143210</td>\n",
       "      <td>Hadia Tebib</td>\n",
       "      <td>True</td>\n",
       "      <td>not_set</td>\n",
       "      <td>2018-06-04 23:59:42</td>\n",
       "      <td>2018-09-02 23:59:42</td>\n",
       "    </tr>\n",
       "  </tbody>\n",
       "</table>\n",
       "</div>"
      ],
      "text/plain": [
       "       user_id    user_name has_email has_gender   user_registration  \\\n",
       "82301  3143206      Pchayer      True    not_set 2018-06-04 23:45:50   \n",
       "82302  3143207   Foxxyangel      True    not_set 2018-06-04 23:53:26   \n",
       "82303  3143208    Osquiabro      True    not_set 2018-06-04 23:53:39   \n",
       "82304  3143209   Scictieddo      True    not_set 2018-06-04 23:59:18   \n",
       "82305  3143210  Hadia Tebib      True    not_set 2018-06-04 23:59:42   \n",
       "\n",
       "      sim_observation_end  \n",
       "82301 2018-09-02 23:45:50  \n",
       "82302 2018-09-02 23:53:26  \n",
       "82303 2018-09-02 23:53:39  \n",
       "82304 2018-09-02 23:59:18  \n",
       "82305 2018-09-02 23:59:42  "
      ]
     },
     "execution_count": 18,
     "metadata": {},
     "output_type": "execute_result"
    }
   ],
   "source": [
    "users.tail()"
   ]
  },
  {
   "cell_type": "code",
   "execution_count": 19,
   "metadata": {},
   "outputs": [],
   "source": [
    "users.to_pickle('checkpoints/fr_users.pickle')"
   ]
  },
  {
   "cell_type": "code",
   "execution_count": 20,
   "metadata": {},
   "outputs": [],
   "source": [
    "users = pd.read_pickle('checkpoints/fr_users.pickle')"
   ]
  },
  {
   "cell_type": "markdown",
   "metadata": {},
   "source": [
    "# Get Revisions of Editors\n",
    "want to get all the edits 90days after their registration, with page_id and namespace"
   ]
  },
  {
   "cell_type": "code",
   "execution_count": 26,
   "metadata": {},
   "outputs": [],
   "source": [
    "def get_timestamps_90_before_after_sim_treatment(userid, lang, end):\n",
    "    '''this will get all the timestamps of edits for a user that occured after 90'''\n",
    "        \n",
    "    con.execute('use {lang}wiki_p;'.format(lang=lang))\n",
    "    revsql = '''select r.rev_id, r.rev_page, p.page_namespace, p.page_id, r.rev_timestamp\n",
    "                from (\n",
    "                select rev_id, rev_page, rev_timestamp from revision_userindex where rev_user = {userid}\n",
    "                                and rev_timestamp < {datestr_end}\n",
    "                  order by rev_timestamp desc) r\n",
    "                  join page p\n",
    "                  on r.rev_page = p.page_id\n",
    "                ;'''.format(datestr_end=end.strftime('%Y%m%d%H%M%S'),\n",
    "                                           userid=userid)\n",
    "    udf = pd.read_sql(revsql, con)\n",
    "    udf['rev_timestamp'] = udf['rev_timestamp'].apply(wmftimestamp)\n",
    "    return udf.to_dict('records')"
   ]
  },
  {
   "cell_type": "code",
   "execution_count": 27,
   "metadata": {},
   "outputs": [],
   "source": [
    "users['revs_90_after_sim_onboard'] = users.apply(lambda row: get_timestamps_90_before_after_sim_treatment(row['user_id'], lang, row['sim_observation_end']), axis=1) "
   ]
  },
  {
   "cell_type": "code",
   "execution_count": 28,
   "metadata": {},
   "outputs": [],
   "source": [
    "users.to_pickle('checkpoints/fr_users_revs.pickle')"
   ]
  },
  {
   "cell_type": "code",
   "execution_count": 29,
   "metadata": {},
   "outputs": [],
   "source": [
    "users = pd.read_pickle('checkpoints/fr_users_revs.pickle')"
   ]
  },
  {
   "cell_type": "code",
   "execution_count": 30,
   "metadata": {},
   "outputs": [],
   "source": [
    "def make_sessions(ts_list):\n",
    "    #these structures store the timestamps\n",
    "    edit_sessions = []\n",
    "    curr_edit_session = []\n",
    "\n",
    "    #initialize prev to the earliest data possible\n",
    "    prev_timestamp = datetime.datetime(year=2001, month=1, day=1)\n",
    "\n",
    "    for index, ts in enumerate(ts_list):\n",
    "#         print('index:', index)\n",
    "        curr_timestamp = ts\n",
    "        #if curr timestamp within 1 hour of last then append\n",
    "        if curr_timestamp - prev_timestamp < datetime.timedelta(hours=1):\n",
    "            curr_edit_session.append(curr_timestamp)\n",
    "        # else start a new edit session\n",
    "        else:\n",
    "            #if there's a pre-existing session save it to the return\n",
    "            if curr_edit_session:\n",
    "                edit_sessions.append(curr_edit_session)\n",
    "            # and start a new session\n",
    "            curr_edit_session = [curr_timestamp]\n",
    "        # this is before\n",
    "        if index < len(ts_list)-1:\n",
    "            prev_timestamp = curr_timestamp\n",
    "        # this is the last item save this session too.\n",
    "        else:\n",
    "#             print('this is the end')\n",
    "            edit_sessions.append(curr_edit_session)\n",
    "        \n",
    "    return edit_sessions\n",
    "\n",
    "def labour_hours(ts_list):\n",
    "    sessions = make_sessions(ts_list)\n",
    "    total_labour_hours = 0\n",
    "    for session in sessions:\n",
    "        if len(session) == 1:\n",
    "            total_labour_hours += 1\n",
    "        else:\n",
    "            session_duration = max(session) - min(session)\n",
    "            session_seconds = session_duration.seconds\n",
    "            session_hours = session_seconds / (60*60)\n",
    "            session_hours += 1 # for this session\n",
    "            total_labour_hours += session_hours\n",
    "    return total_labour_hours"
   ]
  },
  {
   "cell_type": "code",
   "execution_count": 31,
   "metadata": {},
   "outputs": [],
   "source": [
    "# users['revs_90_after_sim_onboard'].apply(lambda l: len(l)).describe()\n",
    "\n",
    "def make_sessions(ts_list):\n",
    "    #these structures store the timestamps\n",
    "    edit_sessions = []\n",
    "    curr_edit_session = []\n",
    "\n",
    "    #initialize prev to the earliest data possible\n",
    "    prev_timestamp = datetime.datetime(year=2001, month=1, day=1)\n",
    "\n",
    "    for index, ts in enumerate(ts_list):\n",
    "#         print('index:', index)\n",
    "        curr_timestamp = ts\n",
    "        #if curr timestamp within 1 hour of last then append\n",
    "        if curr_timestamp - prev_timestamp < datetime.timedelta(hours=1):\n",
    "            curr_edit_session.append(curr_timestamp)\n",
    "        # else start a new edit session\n",
    "        else:\n",
    "            #if there's a pre-existing session save it to the return\n",
    "            if curr_edit_session:\n",
    "                edit_sessions.append(curr_edit_session)\n",
    "            # and start a new session\n",
    "            curr_edit_session = [curr_timestamp]\n",
    "        # this is before\n",
    "        if index < len(ts_list)-1:\n",
    "            prev_timestamp = curr_timestamp\n",
    "        # this is the last item save this session too.\n",
    "        else:\n",
    "#             print('this is the end')\n",
    "            edit_sessions.append(curr_edit_session)\n",
    "        \n",
    "    return edit_sessions\n",
    "\n",
    "def labour_hours(ts_list):\n",
    "    sessions = make_sessions(ts_list)\n",
    "    total_labour_hours = 0\n",
    "    for session in sessions:\n",
    "        if len(session) == 1:\n",
    "            total_labour_hours += 1\n",
    "        else:\n",
    "            session_duration = max(session) - min(session)\n",
    "            session_seconds = session_duration.seconds\n",
    "            session_hours = session_seconds / (60*60)\n",
    "            session_hours += 1 # for this session\n",
    "            total_labour_hours += session_hours\n",
    "    return total_labour_hours"
   ]
  },
  {
   "cell_type": "code",
   "execution_count": 28,
   "metadata": {},
   "outputs": [],
   "source": [
    "users['labour_hours_90_post_treatment'] = users['revs_90_after_sim_onboard'].apply(lambda l: labour_hours([e['rev_timestamp'] for e in l]) )\n",
    "\n",
    "users['num_edits_90_post_treatment'] = users['revs_90_after_sim_onboard'].apply(len)"
   ]
  },
  {
   "cell_type": "code",
   "execution_count": null,
   "metadata": {},
   "outputs": [],
   "source": [
    "edit_col_f = 'num_edits_week_{ind}_post_treatment'\n",
    "anye_col_f = 'any_edits_week_{ind}_post_treatment'\n",
    "\n",
    "edit_nm_col_f = 'num_edits_nonmain_week_{ind}_post_treatment'\n",
    "anye_nm_col_f = 'any_edits_nonmain_week_{ind}_post_treatment'\n",
    "\n",
    "edit_t_col_f = 'num_edits_talk_week_{ind}_post_treatment'\n",
    "anye_t_col_f = 'any_edits_talk_week_{ind}_post_treatment'\n",
    "\n",
    "labh_col_f = 'labor_hours_week_{ind}_post_treatment'\n",
    "anyl_col_f = 'any_labour_hours_week_{ind}_post_treatment'\n",
    "\n",
    "col_fn ={edit_col_f: len,\n",
    "         anye_col_f: lambda x: len(x)>0,\n",
    "         labh_col_f: lambda l: labour_hours([e['rev_timestamp'] for e in l]),\n",
    "         anyl_col_f: lambda l: labour_hours([e['rev_timestamp'] for e in l])>0,\n",
    "         edit_nm_col_f: lambda l: len([p for p in l if p['page_namespace'] != 0]),\n",
    "         anye_nm_col_f: lambda l: len([p for p in l if p['page_namespace'] != 0])>0,\n",
    "         edit_t_col_f: lambda l: len([p for p in l if p['page_namespace'] % 2 == 1]),\n",
    "         anye_t_col_f: lambda l: len([p for p in l if p['page_namespace'] % 2 == 1])>0,\n",
    "        }"
   ]
  },
  {
   "cell_type": "code",
   "execution_count": 47,
   "metadata": {},
   "outputs": [],
   "source": [
    "def ts_in_week(page_dicts, user_registration, days_after_observation_start, days_after_observation_end):\n",
    "    in_week = []\n",
    "    for page_dict in page_dicts:\n",
    "        ts = page_dict['rev_timestamp']\n",
    "        date_start = user_registration + td(days=days_after_observation_start)\n",
    "        date_end = user_registration + td(days=days_after_observation_end)\n",
    "        if ts > date_start and ts <= date_end:\n",
    "            in_week.append(page_dict)\n",
    "    return in_week"
   ]
  },
  {
   "cell_type": "code",
   "execution_count": 29,
   "metadata": {},
   "outputs": [
    {
     "name": "stdout",
     "output_type": "stream",
     "text": [
      "num_edits_week_1_post_treatment\n",
      "num_edits_week_2_post_treatment\n",
      "num_edits_week_3_post_treatment\n",
      "num_edits_week_4_post_treatment\n",
      "num_edits_week_5_post_treatment\n",
      "num_edits_week_6_post_treatment\n",
      "num_edits_week_7_post_treatment\n",
      "num_edits_week_8_post_treatment\n",
      "num_edits_week_9_post_treatment\n",
      "num_edits_week_10_post_treatment\n",
      "num_edits_week_11_post_treatment\n",
      "num_edits_week_12_post_treatment\n",
      "any_edits_week_1_post_treatment\n",
      "any_edits_week_2_post_treatment\n",
      "any_edits_week_3_post_treatment\n",
      "any_edits_week_4_post_treatment\n",
      "any_edits_week_5_post_treatment\n",
      "any_edits_week_6_post_treatment\n",
      "any_edits_week_7_post_treatment\n",
      "any_edits_week_8_post_treatment\n",
      "any_edits_week_9_post_treatment\n",
      "any_edits_week_10_post_treatment\n",
      "any_edits_week_11_post_treatment\n",
      "any_edits_week_12_post_treatment\n",
      "labor_hours_week_1_post_treatment\n",
      "labor_hours_week_2_post_treatment\n",
      "labor_hours_week_3_post_treatment\n",
      "labor_hours_week_4_post_treatment\n",
      "labor_hours_week_5_post_treatment\n",
      "labor_hours_week_6_post_treatment\n",
      "labor_hours_week_7_post_treatment\n",
      "labor_hours_week_8_post_treatment\n",
      "labor_hours_week_9_post_treatment\n",
      "labor_hours_week_10_post_treatment\n",
      "labor_hours_week_11_post_treatment\n",
      "labor_hours_week_12_post_treatment\n",
      "any_labour_hours_week_1_post_treatment\n",
      "any_labour_hours_week_2_post_treatment\n",
      "any_labour_hours_week_3_post_treatment\n",
      "any_labour_hours_week_4_post_treatment\n",
      "any_labour_hours_week_5_post_treatment\n",
      "any_labour_hours_week_6_post_treatment\n",
      "any_labour_hours_week_7_post_treatment\n",
      "any_labour_hours_week_8_post_treatment\n",
      "any_labour_hours_week_9_post_treatment\n",
      "any_labour_hours_week_10_post_treatment\n",
      "any_labour_hours_week_11_post_treatment\n",
      "any_labour_hours_week_12_post_treatment\n",
      "num_edits_nonmain_week_1_post_treatment\n",
      "num_edits_nonmain_week_2_post_treatment\n",
      "num_edits_nonmain_week_3_post_treatment\n",
      "num_edits_nonmain_week_4_post_treatment\n",
      "num_edits_nonmain_week_5_post_treatment\n",
      "num_edits_nonmain_week_6_post_treatment\n",
      "num_edits_nonmain_week_7_post_treatment\n",
      "num_edits_nonmain_week_8_post_treatment\n",
      "num_edits_nonmain_week_9_post_treatment\n",
      "num_edits_nonmain_week_10_post_treatment\n",
      "num_edits_nonmain_week_11_post_treatment\n",
      "num_edits_nonmain_week_12_post_treatment\n",
      "any_edits_nonmain_week_1_post_treatment\n",
      "any_edits_nonmain_week_2_post_treatment\n",
      "any_edits_nonmain_week_3_post_treatment\n",
      "any_edits_nonmain_week_4_post_treatment\n",
      "any_edits_nonmain_week_5_post_treatment\n",
      "any_edits_nonmain_week_6_post_treatment\n",
      "any_edits_nonmain_week_7_post_treatment\n",
      "any_edits_nonmain_week_8_post_treatment\n",
      "any_edits_nonmain_week_9_post_treatment\n",
      "any_edits_nonmain_week_10_post_treatment\n",
      "any_edits_nonmain_week_11_post_treatment\n",
      "any_edits_nonmain_week_12_post_treatment\n",
      "num_edits_talk_week_1_post_treatment\n",
      "num_edits_talk_week_2_post_treatment\n",
      "num_edits_talk_week_3_post_treatment\n",
      "num_edits_talk_week_4_post_treatment\n",
      "num_edits_talk_week_5_post_treatment\n",
      "num_edits_talk_week_6_post_treatment\n",
      "num_edits_talk_week_7_post_treatment\n",
      "num_edits_talk_week_8_post_treatment\n",
      "num_edits_talk_week_9_post_treatment\n",
      "num_edits_talk_week_10_post_treatment\n",
      "num_edits_talk_week_11_post_treatment\n",
      "num_edits_talk_week_12_post_treatment\n",
      "any_edits_talk_week_1_post_treatment\n",
      "any_edits_talk_week_2_post_treatment\n",
      "any_edits_talk_week_3_post_treatment\n",
      "any_edits_talk_week_4_post_treatment\n",
      "any_edits_talk_week_5_post_treatment\n",
      "any_edits_talk_week_6_post_treatment\n",
      "any_edits_talk_week_7_post_treatment\n",
      "any_edits_talk_week_8_post_treatment\n",
      "any_edits_talk_week_9_post_treatment\n",
      "any_edits_talk_week_10_post_treatment\n",
      "any_edits_talk_week_11_post_treatment\n",
      "any_edits_talk_week_12_post_treatment\n"
     ]
    }
   ],
   "source": [
    "for col_f, fn in col_fn.items():\n",
    "    for ind, (week_n_start, week_n_end) in enumerate(window_seq(range(13))):\n",
    "        ind = ind+1\n",
    "        days_after_observation_start = week_n_start * 7 \n",
    "        days_after_observation_end = week_n_end * 7\n",
    "\n",
    "        \n",
    "        ts_week = f'ts_in_week_{ind}'\n",
    "\n",
    "        users[ts_week] = users.apply(lambda row: ts_in_week(row['revs_90_after_sim_onboard'],\n",
    "                                                            row['user_registration'],\n",
    "                                                            days_after_observation_start,\n",
    "                                                            days_after_observation_end), axis=1)\n",
    "\n",
    "        #         date_start =  + td(days=days_after_treat_start)\n",
    "#         date_end =  + td(days=days_after_treat_end)\n",
    "\n",
    "        col = col_f.format(ind=ind)\n",
    "        print(col)\n",
    "\n",
    "\n",
    "        users[col] = users[ts_week].apply(fn)\n",
    "\n",
    "\n",
    "        del users[ts_week]"
   ]
  },
  {
   "cell_type": "code",
   "execution_count": 30,
   "metadata": {},
   "outputs": [],
   "source": [
    "users.to_pickle('checkpoints/fr_users_revs_features.pickle')"
   ]
  },
  {
   "cell_type": "code",
   "execution_count": 31,
   "metadata": {},
   "outputs": [],
   "source": [
    "users = pd.read_pickle('checkpoints/fr_users_revs_features.pickle')"
   ]
  },
  {
   "cell_type": "code",
   "execution_count": 32,
   "metadata": {},
   "outputs": [
    {
     "data": {
      "text/html": [
       "<div>\n",
       "<style scoped>\n",
       "    .dataframe tbody tr th:only-of-type {\n",
       "        vertical-align: middle;\n",
       "    }\n",
       "\n",
       "    .dataframe tbody tr th {\n",
       "        vertical-align: top;\n",
       "    }\n",
       "\n",
       "    .dataframe thead th {\n",
       "        text-align: right;\n",
       "    }\n",
       "</style>\n",
       "<table border=\"1\" class=\"dataframe\">\n",
       "  <thead>\n",
       "    <tr style=\"text-align: right;\">\n",
       "      <th></th>\n",
       "      <th>user_id</th>\n",
       "      <th>user_name</th>\n",
       "      <th>has_email</th>\n",
       "      <th>has_gender</th>\n",
       "      <th>user_registration</th>\n",
       "      <th>sim_observation_end</th>\n",
       "      <th>revs_90_after_sim_onboard</th>\n",
       "      <th>labour_hours_90_post_treatment</th>\n",
       "      <th>num_edits_90_post_treatment</th>\n",
       "      <th>num_edits_week_1_post_treatment</th>\n",
       "      <th>...</th>\n",
       "      <th>any_edits_talk_week_3_post_treatment</th>\n",
       "      <th>any_edits_talk_week_4_post_treatment</th>\n",
       "      <th>any_edits_talk_week_5_post_treatment</th>\n",
       "      <th>any_edits_talk_week_6_post_treatment</th>\n",
       "      <th>any_edits_talk_week_7_post_treatment</th>\n",
       "      <th>any_edits_talk_week_8_post_treatment</th>\n",
       "      <th>any_edits_talk_week_9_post_treatment</th>\n",
       "      <th>any_edits_talk_week_10_post_treatment</th>\n",
       "      <th>any_edits_talk_week_11_post_treatment</th>\n",
       "      <th>any_edits_talk_week_12_post_treatment</th>\n",
       "    </tr>\n",
       "  </thead>\n",
       "  <tbody>\n",
       "    <tr>\n",
       "      <th>0</th>\n",
       "      <td>3060196</td>\n",
       "      <td>Caporal10</td>\n",
       "      <td>True</td>\n",
       "      <td>not_set</td>\n",
       "      <td>2018-03-07 00:02:14</td>\n",
       "      <td>2018-06-05 00:02:14</td>\n",
       "      <td>[]</td>\n",
       "      <td>0.0</td>\n",
       "      <td>0</td>\n",
       "      <td>0</td>\n",
       "      <td>...</td>\n",
       "      <td>False</td>\n",
       "      <td>False</td>\n",
       "      <td>False</td>\n",
       "      <td>False</td>\n",
       "      <td>False</td>\n",
       "      <td>False</td>\n",
       "      <td>False</td>\n",
       "      <td>False</td>\n",
       "      <td>False</td>\n",
       "      <td>False</td>\n",
       "    </tr>\n",
       "    <tr>\n",
       "      <th>1</th>\n",
       "      <td>3060197</td>\n",
       "      <td>Cosmokdjfjdjdjhxhdjdb</td>\n",
       "      <td>True</td>\n",
       "      <td>not_set</td>\n",
       "      <td>2018-03-07 00:04:25</td>\n",
       "      <td>2018-06-05 00:04:25</td>\n",
       "      <td>[]</td>\n",
       "      <td>0.0</td>\n",
       "      <td>0</td>\n",
       "      <td>0</td>\n",
       "      <td>...</td>\n",
       "      <td>False</td>\n",
       "      <td>False</td>\n",
       "      <td>False</td>\n",
       "      <td>False</td>\n",
       "      <td>False</td>\n",
       "      <td>False</td>\n",
       "      <td>False</td>\n",
       "      <td>False</td>\n",
       "      <td>False</td>\n",
       "      <td>False</td>\n",
       "    </tr>\n",
       "    <tr>\n",
       "      <th>2</th>\n",
       "      <td>3060198</td>\n",
       "      <td>Bangaly konaté</td>\n",
       "      <td>True</td>\n",
       "      <td>not_set</td>\n",
       "      <td>2018-03-07 00:04:34</td>\n",
       "      <td>2018-06-05 00:04:34</td>\n",
       "      <td>[]</td>\n",
       "      <td>0.0</td>\n",
       "      <td>0</td>\n",
       "      <td>0</td>\n",
       "      <td>...</td>\n",
       "      <td>False</td>\n",
       "      <td>False</td>\n",
       "      <td>False</td>\n",
       "      <td>False</td>\n",
       "      <td>False</td>\n",
       "      <td>False</td>\n",
       "      <td>False</td>\n",
       "      <td>False</td>\n",
       "      <td>False</td>\n",
       "      <td>False</td>\n",
       "    </tr>\n",
       "    <tr>\n",
       "      <th>3</th>\n",
       "      <td>3060199</td>\n",
       "      <td>Diassynthesis</td>\n",
       "      <td>True</td>\n",
       "      <td>not_set</td>\n",
       "      <td>2018-03-07 00:09:06</td>\n",
       "      <td>2018-06-05 00:09:06</td>\n",
       "      <td>[]</td>\n",
       "      <td>0.0</td>\n",
       "      <td>0</td>\n",
       "      <td>0</td>\n",
       "      <td>...</td>\n",
       "      <td>False</td>\n",
       "      <td>False</td>\n",
       "      <td>False</td>\n",
       "      <td>False</td>\n",
       "      <td>False</td>\n",
       "      <td>False</td>\n",
       "      <td>False</td>\n",
       "      <td>False</td>\n",
       "      <td>False</td>\n",
       "      <td>False</td>\n",
       "    </tr>\n",
       "    <tr>\n",
       "      <th>4</th>\n",
       "      <td>3060200</td>\n",
       "      <td>Supremeboi88</td>\n",
       "      <td>True</td>\n",
       "      <td>not_set</td>\n",
       "      <td>2018-03-07 00:10:17</td>\n",
       "      <td>2018-06-05 00:10:17</td>\n",
       "      <td>[]</td>\n",
       "      <td>0.0</td>\n",
       "      <td>0</td>\n",
       "      <td>0</td>\n",
       "      <td>...</td>\n",
       "      <td>False</td>\n",
       "      <td>False</td>\n",
       "      <td>False</td>\n",
       "      <td>False</td>\n",
       "      <td>False</td>\n",
       "      <td>False</td>\n",
       "      <td>False</td>\n",
       "      <td>False</td>\n",
       "      <td>False</td>\n",
       "      <td>False</td>\n",
       "    </tr>\n",
       "    <tr>\n",
       "      <th>5</th>\n",
       "      <td>3060201</td>\n",
       "      <td>Printwrite</td>\n",
       "      <td>True</td>\n",
       "      <td>not_set</td>\n",
       "      <td>2018-03-07 00:11:08</td>\n",
       "      <td>2018-06-05 00:11:08</td>\n",
       "      <td>[{'rev_id': 146170502, 'rev_page': 2813241, 'p...</td>\n",
       "      <td>3.0</td>\n",
       "      <td>3</td>\n",
       "      <td>3</td>\n",
       "      <td>...</td>\n",
       "      <td>False</td>\n",
       "      <td>False</td>\n",
       "      <td>False</td>\n",
       "      <td>False</td>\n",
       "      <td>False</td>\n",
       "      <td>False</td>\n",
       "      <td>False</td>\n",
       "      <td>False</td>\n",
       "      <td>False</td>\n",
       "      <td>False</td>\n",
       "    </tr>\n",
       "    <tr>\n",
       "      <th>6</th>\n",
       "      <td>3060202</td>\n",
       "      <td>Ghideer</td>\n",
       "      <td>True</td>\n",
       "      <td>not_set</td>\n",
       "      <td>2018-03-07 00:13:47</td>\n",
       "      <td>2018-06-05 00:13:47</td>\n",
       "      <td>[]</td>\n",
       "      <td>0.0</td>\n",
       "      <td>0</td>\n",
       "      <td>0</td>\n",
       "      <td>...</td>\n",
       "      <td>False</td>\n",
       "      <td>False</td>\n",
       "      <td>False</td>\n",
       "      <td>False</td>\n",
       "      <td>False</td>\n",
       "      <td>False</td>\n",
       "      <td>False</td>\n",
       "      <td>False</td>\n",
       "      <td>False</td>\n",
       "      <td>False</td>\n",
       "    </tr>\n",
       "    <tr>\n",
       "      <th>7</th>\n",
       "      <td>3060203</td>\n",
       "      <td>Fpisano73</td>\n",
       "      <td>True</td>\n",
       "      <td>not_set</td>\n",
       "      <td>2018-03-07 00:15:15</td>\n",
       "      <td>2018-06-05 00:15:15</td>\n",
       "      <td>[]</td>\n",
       "      <td>0.0</td>\n",
       "      <td>0</td>\n",
       "      <td>0</td>\n",
       "      <td>...</td>\n",
       "      <td>False</td>\n",
       "      <td>False</td>\n",
       "      <td>False</td>\n",
       "      <td>False</td>\n",
       "      <td>False</td>\n",
       "      <td>False</td>\n",
       "      <td>False</td>\n",
       "      <td>False</td>\n",
       "      <td>False</td>\n",
       "      <td>False</td>\n",
       "    </tr>\n",
       "    <tr>\n",
       "      <th>8</th>\n",
       "      <td>3060204</td>\n",
       "      <td>Zineb elidrissiya</td>\n",
       "      <td>True</td>\n",
       "      <td>not_set</td>\n",
       "      <td>2018-03-07 00:16:02</td>\n",
       "      <td>2018-06-05 00:16:02</td>\n",
       "      <td>[]</td>\n",
       "      <td>0.0</td>\n",
       "      <td>0</td>\n",
       "      <td>0</td>\n",
       "      <td>...</td>\n",
       "      <td>False</td>\n",
       "      <td>False</td>\n",
       "      <td>False</td>\n",
       "      <td>False</td>\n",
       "      <td>False</td>\n",
       "      <td>False</td>\n",
       "      <td>False</td>\n",
       "      <td>False</td>\n",
       "      <td>False</td>\n",
       "      <td>False</td>\n",
       "    </tr>\n",
       "    <tr>\n",
       "      <th>9</th>\n",
       "      <td>3060205</td>\n",
       "      <td>And.duarte</td>\n",
       "      <td>True</td>\n",
       "      <td>not_set</td>\n",
       "      <td>2018-03-07 00:19:27</td>\n",
       "      <td>2018-06-05 00:19:27</td>\n",
       "      <td>[]</td>\n",
       "      <td>0.0</td>\n",
       "      <td>0</td>\n",
       "      <td>0</td>\n",
       "      <td>...</td>\n",
       "      <td>False</td>\n",
       "      <td>False</td>\n",
       "      <td>False</td>\n",
       "      <td>False</td>\n",
       "      <td>False</td>\n",
       "      <td>False</td>\n",
       "      <td>False</td>\n",
       "      <td>False</td>\n",
       "      <td>False</td>\n",
       "      <td>False</td>\n",
       "    </tr>\n",
       "  </tbody>\n",
       "</table>\n",
       "<p>10 rows × 105 columns</p>\n",
       "</div>"
      ],
      "text/plain": [
       "   user_id              user_name has_email has_gender   user_registration  \\\n",
       "0  3060196              Caporal10      True    not_set 2018-03-07 00:02:14   \n",
       "1  3060197  Cosmokdjfjdjdjhxhdjdb      True    not_set 2018-03-07 00:04:25   \n",
       "2  3060198         Bangaly konaté      True    not_set 2018-03-07 00:04:34   \n",
       "3  3060199          Diassynthesis      True    not_set 2018-03-07 00:09:06   \n",
       "4  3060200           Supremeboi88      True    not_set 2018-03-07 00:10:17   \n",
       "5  3060201             Printwrite      True    not_set 2018-03-07 00:11:08   \n",
       "6  3060202                Ghideer      True    not_set 2018-03-07 00:13:47   \n",
       "7  3060203              Fpisano73      True    not_set 2018-03-07 00:15:15   \n",
       "8  3060204      Zineb elidrissiya      True    not_set 2018-03-07 00:16:02   \n",
       "9  3060205             And.duarte      True    not_set 2018-03-07 00:19:27   \n",
       "\n",
       "  sim_observation_end                          revs_90_after_sim_onboard  \\\n",
       "0 2018-06-05 00:02:14                                                 []   \n",
       "1 2018-06-05 00:04:25                                                 []   \n",
       "2 2018-06-05 00:04:34                                                 []   \n",
       "3 2018-06-05 00:09:06                                                 []   \n",
       "4 2018-06-05 00:10:17                                                 []   \n",
       "5 2018-06-05 00:11:08  [{'rev_id': 146170502, 'rev_page': 2813241, 'p...   \n",
       "6 2018-06-05 00:13:47                                                 []   \n",
       "7 2018-06-05 00:15:15                                                 []   \n",
       "8 2018-06-05 00:16:02                                                 []   \n",
       "9 2018-06-05 00:19:27                                                 []   \n",
       "\n",
       "   labour_hours_90_post_treatment  num_edits_90_post_treatment  \\\n",
       "0                             0.0                            0   \n",
       "1                             0.0                            0   \n",
       "2                             0.0                            0   \n",
       "3                             0.0                            0   \n",
       "4                             0.0                            0   \n",
       "5                             3.0                            3   \n",
       "6                             0.0                            0   \n",
       "7                             0.0                            0   \n",
       "8                             0.0                            0   \n",
       "9                             0.0                            0   \n",
       "\n",
       "   num_edits_week_1_post_treatment                  ...                    \\\n",
       "0                                0                  ...                     \n",
       "1                                0                  ...                     \n",
       "2                                0                  ...                     \n",
       "3                                0                  ...                     \n",
       "4                                0                  ...                     \n",
       "5                                3                  ...                     \n",
       "6                                0                  ...                     \n",
       "7                                0                  ...                     \n",
       "8                                0                  ...                     \n",
       "9                                0                  ...                     \n",
       "\n",
       "   any_edits_talk_week_3_post_treatment  any_edits_talk_week_4_post_treatment  \\\n",
       "0                                 False                                 False   \n",
       "1                                 False                                 False   \n",
       "2                                 False                                 False   \n",
       "3                                 False                                 False   \n",
       "4                                 False                                 False   \n",
       "5                                 False                                 False   \n",
       "6                                 False                                 False   \n",
       "7                                 False                                 False   \n",
       "8                                 False                                 False   \n",
       "9                                 False                                 False   \n",
       "\n",
       "   any_edits_talk_week_5_post_treatment  any_edits_talk_week_6_post_treatment  \\\n",
       "0                                 False                                 False   \n",
       "1                                 False                                 False   \n",
       "2                                 False                                 False   \n",
       "3                                 False                                 False   \n",
       "4                                 False                                 False   \n",
       "5                                 False                                 False   \n",
       "6                                 False                                 False   \n",
       "7                                 False                                 False   \n",
       "8                                 False                                 False   \n",
       "9                                 False                                 False   \n",
       "\n",
       "   any_edits_talk_week_7_post_treatment  any_edits_talk_week_8_post_treatment  \\\n",
       "0                                 False                                 False   \n",
       "1                                 False                                 False   \n",
       "2                                 False                                 False   \n",
       "3                                 False                                 False   \n",
       "4                                 False                                 False   \n",
       "5                                 False                                 False   \n",
       "6                                 False                                 False   \n",
       "7                                 False                                 False   \n",
       "8                                 False                                 False   \n",
       "9                                 False                                 False   \n",
       "\n",
       "   any_edits_talk_week_9_post_treatment  \\\n",
       "0                                 False   \n",
       "1                                 False   \n",
       "2                                 False   \n",
       "3                                 False   \n",
       "4                                 False   \n",
       "5                                 False   \n",
       "6                                 False   \n",
       "7                                 False   \n",
       "8                                 False   \n",
       "9                                 False   \n",
       "\n",
       "   any_edits_talk_week_10_post_treatment  \\\n",
       "0                                  False   \n",
       "1                                  False   \n",
       "2                                  False   \n",
       "3                                  False   \n",
       "4                                  False   \n",
       "5                                  False   \n",
       "6                                  False   \n",
       "7                                  False   \n",
       "8                                  False   \n",
       "9                                  False   \n",
       "\n",
       "   any_edits_talk_week_11_post_treatment  \\\n",
       "0                                  False   \n",
       "1                                  False   \n",
       "2                                  False   \n",
       "3                                  False   \n",
       "4                                  False   \n",
       "5                                  False   \n",
       "6                                  False   \n",
       "7                                  False   \n",
       "8                                  False   \n",
       "9                                  False   \n",
       "\n",
       "   any_edits_talk_week_12_post_treatment  \n",
       "0                                  False  \n",
       "1                                  False  \n",
       "2                                  False  \n",
       "3                                  False  \n",
       "4                                  False  \n",
       "5                                  False  \n",
       "6                                  False  \n",
       "7                                  False  \n",
       "8                                  False  \n",
       "9                                  False  \n",
       "\n",
       "[10 rows x 105 columns]"
      ]
     },
     "execution_count": 32,
     "metadata": {},
     "output_type": "execute_result"
    }
   ],
   "source": [
    "users.head(10)"
   ]
  },
  {
   "cell_type": "code",
   "execution_count": 33,
   "metadata": {},
   "outputs": [
    {
     "data": {
      "text/plain": [
       "<matplotlib.axes._subplots.AxesSubplot at 0x7f66bc47acc0>"
      ]
     },
     "execution_count": 33,
     "metadata": {},
     "output_type": "execute_result"
    },
    {
     "data": {
      "image/png": "[encoded data removed]",
      "text/plain": [
       "<Figure size 432x288 with 1 Axes>"
      ]
     },
     "metadata": {},
     "output_type": "display_data"
    }
   ],
   "source": [
    "users.describe().loc['mean'][-12:].plot(title='talk edits in week n following onboarding',kind='bar') #num_edits_talk_week_1_post_treatment"
   ]
  },
  {
   "cell_type": "code",
   "execution_count": 34,
   "metadata": {},
   "outputs": [
    {
     "data": {
      "text/plain": [
       "<matplotlib.axes._subplots.AxesSubplot at 0x7f66bc5377b8>"
      ]
     },
     "execution_count": 34,
     "metadata": {},
     "output_type": "execute_result"
    },
    {
     "data": {
      "image/png": "[encoded data removed]",
      "text/plain": [
       "<Figure size 432x288 with 1 Axes>"
      ]
     },
     "metadata": {},
     "output_type": "display_data"
    }
   ],
   "source": [
    "users.describe().loc['mean'][3:15].plot(title='Number edits in week following onboarding',kind='bar') #num_edits_week_1_post_treatment"
   ]
  },
  {
   "cell_type": "code",
   "execution_count": 35,
   "metadata": {},
   "outputs": [
    {
     "data": {
      "text/plain": [
       "<matplotlib.axes._subplots.AxesSubplot at 0x7f66bc5c1048>"
      ]
     },
     "execution_count": 35,
     "metadata": {},
     "output_type": "execute_result"
    },
    {
     "data": {
      "image/png": "[encoded data removed]",
      "text/plain": [
       "<Figure size 432x288 with 1 Axes>"
      ]
     },
     "metadata": {},
     "output_type": "display_data"
    }
   ],
   "source": [
    "users.describe().loc['mean'][15:27].plot(title='labour hours in week n following onboarding',kind='bar')  #labor_hours_week_1_post_treatment "
   ]
  },
  {
   "cell_type": "markdown",
   "metadata": {},
   "source": [
    "# Specific pages"
   ]
  },
  {
   "cell_type": "code",
   "execution_count": 36,
   "metadata": {},
   "outputs": [],
   "source": [
    "def page_ids_of_signatories():\n",
    "    con.execute(\"use frwiki_p;\")\n",
    "    sig_sql = \"\"\"\n",
    "                select p.page_title, p.page_id, p.page_namespace from\n",
    "                (select user_name from \n",
    "                (select distinct(r.rev_user) from\n",
    "                (select * from page where page_title = 'Aide_et_accueil/Signatures') s\n",
    "                join revision r\n",
    "                on s.page_id = r.rev_page) signatories\n",
    "                join user u\n",
    "                 on signatories.rev_user = u.user_id) signatories_user\n",
    "                join page p\n",
    "                on p.page_title = signatories_user.user_name\n",
    "                where p.page_namespace in (2,3)\n",
    "                ;\"\"\"\n",
    "    sig_df = pd.read_sql(sig_sql, con)\n",
    "    return sig_df"
   ]
  },
  {
   "cell_type": "code",
   "execution_count": 37,
   "metadata": {},
   "outputs": [],
   "source": [
    "# forum_des_nouveaux_page_id = 8284195\n",
    "# forum_des_nouveaux_talk_page_id = 8338403\n",
    "# forum_des_nouveaux_page_ids = (forum_des_nouveaux_page_id, forum_des_nouveaux_talk_page_id)"
   ]
  },
  {
   "cell_type": "code",
   "execution_count": 40,
   "metadata": {},
   "outputs": [],
   "source": [
    "sig_df = page_ids_of_signatories()"
   ]
  },
  {
   "cell_type": "code",
   "execution_count": 41,
   "metadata": {},
   "outputs": [],
   "source": [
    "sig_page_ids = sig_df['page_id'].tolist()"
   ]
  },
  {
   "cell_type": "code",
   "execution_count": 42,
   "metadata": {},
   "outputs": [],
   "source": [
    "def edits_page_in_first_week(target_page_ids, start_date, rev_dict):\n",
    "    end_date = start_date + td(days=7)\n",
    "    first_week_revs = [r for r in rev_dict if r['rev_timestamp'] < end_date]\n",
    "    first_week_target_revs = [r for r in first_week_revs if r['rev_page'] in target_page_ids]\n",
    "\n",
    "    return True if len(first_week_target_revs) > 0 else False"
   ]
  },
  {
   "cell_type": "code",
   "execution_count": 43,
   "metadata": {},
   "outputs": [],
   "source": [
    "users['response_rate_personalization_7_post_treatment'] = users.apply(lambda row: \\\n",
    "                                                                      edits_page_in_first_week(sig_page_ids, \n",
    "                                                                                               row['user_registration'],\n",
    "                                                                                               row['revs_90_after_sim_onboard']) ,axis=1)\n",
    "# users['response_rate_nouveaux_7_post_treatment'] = users.apply(lambda row: \\\n",
    "#                                                                       edits_page_in_first_week(forum_des_nouveaux_page_ids, \n",
    "#                                                                                                row['user_registration'],\n",
    "#                                                                                                row['revs_90_after_sim_onboard']) ,axis=1)\n"
   ]
  },
  {
   "cell_type": "markdown",
   "metadata": {},
   "source": [
    "## read flowdump output"
   ]
  },
  {
   "cell_type": "code",
   "execution_count": 35,
   "metadata": {},
   "outputs": [
    {
     "name": "stdout",
     "output_type": "stream",
     "text": [
      "--2018-11-28 23:52:26--  http://isalix.hestia.feralhosting.com/fr_user_ids_posting_forum_des_nouveaux_201811280.csv\n",
      "Resolving isalix.hestia.feralhosting.com (isalix.hestia.feralhosting.com)... 185.21.216.138\n",
      "Connecting to isalix.hestia.feralhosting.com (isalix.hestia.feralhosting.com)|185.21.216.138|:80... connected.\n",
      "HTTP request sent, awaiting response... 200 OK\n",
      "Length: 120033 (117K) [text/csv]\n",
      "Saving to: ‘fr_user_ids_posting_forum_des_nouveaux_201811280.csv’\n",
      "\n",
      "fr_user_ids_posting 100%[===================>] 117.22K   388KB/s    in 0.3s    \n",
      "\n",
      "2018-11-28 23:52:27 (388 KB/s) - ‘fr_user_ids_posting_forum_des_nouveaux_201811280.csv’ saved [120033/120033]\n",
      "\n"
     ]
    }
   ],
   "source": [
    "!wget http://isalix.hestia.feralhosting.com/fr_user_ids_posting_forum_des_nouveaux_201811280.csv"
   ]
  },
  {
   "cell_type": "code",
   "execution_count": 20,
   "metadata": {},
   "outputs": [],
   "source": [
    "!mkdir data/misc"
   ]
  },
  {
   "cell_type": "code",
   "execution_count": 36,
   "metadata": {},
   "outputs": [],
   "source": [
    "!mv fr_user_ids_posting_forum_des_nouveaux_201811280.csv data/misc/."
   ]
  },
  {
   "cell_type": "code",
   "execution_count": 44,
   "metadata": {},
   "outputs": [],
   "source": [
    "forum = pd.read_csv('data/misc/fr_user_ids_posting_forum_des_nouveaux_201811280.csv', index_col='user_id',usecols=[1,2,3,4,5])"
   ]
  },
  {
   "cell_type": "code",
   "execution_count": 45,
   "metadata": {},
   "outputs": [],
   "source": [
    "forum['all_posts'] = forum.apply(sum,axis=1)"
   ]
  },
  {
   "cell_type": "code",
   "execution_count": 46,
   "metadata": {},
   "outputs": [],
   "source": [
    "forum.reset_index(inplace=True)"
   ]
  },
  {
   "cell_type": "code",
   "execution_count": 47,
   "metadata": {},
   "outputs": [],
   "source": [
    "forum['response_rate_nouveaux_newquestion_post_treatment'] = forum['newquestion']\n",
    "forum['response_rate_nouveaux_allposts_post_treatment'] = forum['all_posts']"
   ]
  },
  {
   "cell_type": "code",
   "execution_count": 48,
   "metadata": {},
   "outputs": [],
   "source": [
    "users = users.merge(forum[['user_id','response_rate_nouveaux_newquestion_post_treatment', 'response_rate_nouveaux_allposts_post_treatment']],how='left')"
   ]
  },
  {
   "cell_type": "code",
   "execution_count": 49,
   "metadata": {},
   "outputs": [],
   "source": [
    "users = users.fillna(0)"
   ]
  },
  {
   "cell_type": "code",
   "execution_count": 50,
   "metadata": {},
   "outputs": [
    {
     "data": {
      "text/plain": [
       "<matplotlib.axes._subplots.AxesSubplot at 0x7f66bc414320>"
      ]
     },
     "execution_count": 50,
     "metadata": {},
     "output_type": "execute_result"
    },
    {
     "data": {
      "image/png": "[encoded data removed]",
      "text/plain": [
       "<Figure size 432x288 with 1 Axes>"
      ]
     },
     "metadata": {},
     "output_type": "display_data"
    }
   ],
   "source": [
    "users['response_rate_nouveaux_allposts_post_treatment'].hist()"
   ]
  },
  {
   "cell_type": "code",
   "execution_count": 53,
   "metadata": {},
   "outputs": [
    {
     "data": {
      "text/plain": [
       "0.0030738949772799065"
      ]
     },
     "execution_count": 53,
     "metadata": {},
     "output_type": "execute_result"
    }
   ],
   "source": [
    "users['response_rate_nouveaux_newquestion_post_treatment'].mean()"
   ]
  },
  {
   "cell_type": "code",
   "execution_count": 4,
   "metadata": {},
   "outputs": [
    {
     "data": {
      "text/plain": [
       "0.009495476898791816"
      ]
     },
     "execution_count": 4,
     "metadata": {},
     "output_type": "execute_result"
    }
   ],
   "source": [
    "users['response_rate_nouveaux_allposts_post_treatment'].mean()"
   ]
  },
  {
   "cell_type": "code",
   "execution_count": 5,
   "metadata": {},
   "outputs": [
    {
     "data": {
      "text/plain": [
       "20.0"
      ]
     },
     "execution_count": 5,
     "metadata": {},
     "output_type": "execute_result"
    }
   ],
   "source": [
    "users['response_rate_nouveaux_allposts_post_treatment'].max()"
   ]
  },
  {
   "cell_type": "code",
   "execution_count": 6,
   "metadata": {},
   "outputs": [
    {
     "data": {
      "text/plain": [
       "0.0"
      ]
     },
     "execution_count": 6,
     "metadata": {},
     "output_type": "execute_result"
    }
   ],
   "source": [
    "users['response_rate_nouveaux_allposts_post_treatment'].median()"
   ]
  },
  {
   "cell_type": "code",
   "execution_count": 7,
   "metadata": {},
   "outputs": [],
   "source": [
    "did_msg = users[users['response_rate_nouveaux_allposts_post_treatment']>0]"
   ]
  },
  {
   "cell_type": "code",
   "execution_count": 10,
   "metadata": {},
   "outputs": [
    {
     "data": {
      "text/plain": [
       "2.0"
      ]
     },
     "execution_count": 10,
     "metadata": {},
     "output_type": "execute_result"
    }
   ],
   "source": [
    "did_msg['response_rate_nouveaux_allposts_post_treatment'].median()"
   ]
  },
  {
   "cell_type": "code",
   "execution_count": null,
   "metadata": {},
   "outputs": [],
   "source": [
    "# DOESNT WORK BECAUSE OF FLOW# users['response_rate_nouveaux_7_post_treatment'].value_counts()"
   ]
  },
  {
   "cell_type": "code",
   "execution_count": 52,
   "metadata": {},
   "outputs": [
    {
     "data": {
      "text/plain": [
       "False    82098\n",
       "True       208\n",
       "Name: response_rate_personalization_7_post_treatment, dtype: int64"
      ]
     },
     "execution_count": 52,
     "metadata": {},
     "output_type": "execute_result"
    }
   ],
   "source": [
    "users['response_rate_personalization_7_post_treatment'].value_counts()"
   ]
  },
  {
   "cell_type": "code",
   "execution_count": null,
   "metadata": {},
   "outputs": [],
   "source": [
    "# THIS is an attempt to get flow through the API, saving through prosperity.\n",
    "# import requests\n",
    "\n",
    "# int(sim_onboard_start_date.strftime('%Y%m%d%H%M%S'))\n",
    "\n",
    "# frbase = 'https://fr.wikipedia.org/w/api.php?'\n",
    "# flow_params={'action':'flow',\n",
    "#             'submodule':'view-topiclist',\n",
    "#              'vtlsortby':'updated',\n",
    "#              'format':'json',\n",
    "#              'vtllimit':'10',\n",
    "#              'vtloffset-dir':'rev',\n",
    "#              'vtloffset':sim_onboard_start_date.strftime('%Y%m%d%H%M%S'),\n",
    "#             'page':'Wikipédia:Forum_des_nouveaux',\n",
    "#             }\n",
    "\n",
    "# tl_resp = requests.get(frbase, params=flow_params)\n",
    "# print(tl_resp.url)\n",
    "# # next_page = tl_json['flow']['view-topiclist']['result']['topiclist']['links']['pagination']['fwd']['url']\n",
    "\n",
    "# tl_json = tl_resp.json()\n",
    "\n",
    "# tl_json"
   ]
  },
  {
   "cell_type": "code",
   "execution_count": 54,
   "metadata": {},
   "outputs": [],
   "source": [
    "users.to_pickle('checkpoints/fr_users_name_flow.pickle')"
   ]
  },
  {
   "cell_type": "code",
   "execution_count": 15,
   "metadata": {},
   "outputs": [],
   "source": [
    "users = pd.read_pickle('checkpoints/fr_users_name_flow.pickle')"
   ]
  },
  {
   "cell_type": "markdown",
   "metadata": {},
   "source": [
    "## Get DRAFTs\n",
    "- first get all drafts\n",
    "- split on slash, get user prefix"
   ]
  },
  {
   "cell_type": "code",
   "execution_count": 16,
   "metadata": {},
   "outputs": [],
   "source": [
    "con.execute('use frwiki_p;')\n",
    "brouillons = pd.read_sql(r'select page_id as draft_page_id , page_title as draft_page_title from page where page_title like \"%%/Brouillon%%\" and page_namespace = 2;', con)"
   ]
  },
  {
   "cell_type": "code",
   "execution_count": 17,
   "metadata": {},
   "outputs": [],
   "source": [
    "brouillons['draft_page_title'] = brouillons['draft_page_title'].apply(decode_or_nouser)"
   ]
  },
  {
   "cell_type": "code",
   "execution_count": 18,
   "metadata": {},
   "outputs": [],
   "source": [
    "brouillons['user_name'] = brouillons['draft_page_title'].apply(lambda x: x.split('/')[0])"
   ]
  },
  {
   "cell_type": "code",
   "execution_count": 34,
   "metadata": {},
   "outputs": [],
   "source": [
    "users = users.merge(brouillons, how='left')"
   ]
  },
  {
   "cell_type": "code",
   "execution_count": 36,
   "metadata": {},
   "outputs": [],
   "source": [
    "def draft_page_edit_in_window(rev_list, draft_page_id, register_date, window=None):\n",
    "    if window:\n",
    "        end_date = register_date + td(days=window)\n",
    "        rev_list = [r for r in rev_list if r['rev_timestamp']<end_date]\n",
    "    return draft_page_id in [r['page_id'] for r in rev_list]"
   ]
  },
  {
   "cell_type": "code",
   "execution_count": 40,
   "metadata": {},
   "outputs": [],
   "source": [
    "#note a bit of extra processing is needed to make thes response_rate_draft_7_post_treatment, i should have got the page id\n",
    "users['response_rate_draft_any_post_treatment'] = users.apply(lambda row: draft_page_edit_in_window(row['revs_90_after_sim_onboard'],\n",
    "                                                                                               row['draft_page_id'],\n",
    "                                                                                               row['user_registration'],\n",
    "                                                                                               window=None) , axis=1)\n",
    "users['response_rate_draft_7_post_treatment'] = users.apply(lambda row: draft_page_edit_in_window(row['revs_90_after_sim_onboard'],\n",
    "                                                                                               row['draft_page_id'],\n",
    "                                                                                               row['user_registration'],\n",
    "                                                                                               window=7) , axis=1)"
   ]
  },
  {
   "cell_type": "code",
   "execution_count": 43,
   "metadata": {},
   "outputs": [
    {
     "data": {
      "text/plain": [
       "0.016258879242304656"
      ]
     },
     "execution_count": 43,
     "metadata": {},
     "output_type": "execute_result"
    }
   ],
   "source": [
    "users['response_rate_draft_7_post_treatment'].mean()"
   ]
  },
  {
   "cell_type": "code",
   "execution_count": 11,
   "metadata": {},
   "outputs": [
    {
     "data": {
      "text/plain": [
       "False    81016\n",
       "True      1339\n",
       "Name: response_rate_draft_7_post_treatment, dtype: int64"
      ]
     },
     "execution_count": 11,
     "metadata": {},
     "output_type": "execute_result"
    }
   ],
   "source": [
    "users['response_rate_draft_7_post_treatment'].value_counts()"
   ]
  },
  {
   "cell_type": "markdown",
   "metadata": {},
   "source": [
    "## Activation\n",
    "day_N_activation_namespace_K_post_treatment\n",
    "(binary) if the user made a namespace edit on the Nth day (1-indexed) of their registration (UTC is reasonable for most francophone countries)\n",
    "N=1,2,7\n",
    "K={0,≠0}\n"
   ]
  },
  {
   "cell_type": "code",
   "execution_count": 54,
   "metadata": {},
   "outputs": [
    {
     "name": "stdout",
     "output_type": "stream",
     "text": [
      "day_1_activation_namespace_0_post_treatment\n",
      "day_1_activation_namespace_non_0_post_treatment\n",
      "day_2_activation_namespace_0_post_treatment\n",
      "day_2_activation_namespace_non_0_post_treatment\n",
      "day_7_activation_namespace_0_post_treatment\n",
      "day_7_activation_namespace_non_0_post_treatment\n"
     ]
    }
   ],
   "source": [
    "Ns = [1,2,7]\n",
    "Ks = {'0':lambda l: len([p for p in l if p['page_namespace'] == 0])>0,\n",
    "      'non_0':lambda l: len([p for p in l if p['page_namespace'] != 0])>0}\n",
    "\n",
    "for N in Ns:\n",
    "    for K_lab, K_fun in Ks.items():\n",
    "        col_name = f'day_{N}_activation_namespace_{K_lab}_post_treatment'\n",
    "        print(col_name)\n",
    "        \n",
    "        days_after_observation_start = 0 #starting on the same day as observation \n",
    "        days_after_observation_end = N\n",
    "\n",
    "        \n",
    "        ts_N = f'ts_in_day_{N}'\n",
    "\n",
    "        users[ts_N] = users.apply(lambda row: ts_in_week(row['revs_90_after_sim_onboard'],\n",
    "                                                            row['user_registration'],\n",
    "                                                            days_after_observation_start,\n",
    "                                                            days_after_observation_end), axis=1)\n",
    "\n",
    "        #         date_start =  + td(days=days_after_treat_start)\n",
    "#         date_end =  + td(days=days_after_treat_end)\n",
    "\n",
    "        users[col_name] = users[ts_N].apply(K_fun)\n",
    "    \n",
    "        del users[ts_N]\n"
   ]
  },
  {
   "cell_type": "code",
   "execution_count": 55,
   "metadata": {},
   "outputs": [
    {
     "data": {
      "text/plain": [
       "day_1_activation_namespace_0_post_treatment        0.174586\n",
       "day_1_activation_namespace_non_0_post_treatment    0.064246\n",
       "day_2_activation_namespace_0_post_treatment        0.176966\n",
       "day_2_activation_namespace_non_0_post_treatment    0.066711\n",
       "day_7_activation_namespace_0_post_treatment        0.182709\n",
       "day_7_activation_namespace_non_0_post_treatment    0.072685\n",
       "dtype: float64"
      ]
     },
     "execution_count": 55,
     "metadata": {},
     "output_type": "execute_result"
    }
   ],
   "source": [
    "users[users.columns[-6:]].mean()"
   ]
  },
  {
   "cell_type": "code",
   "execution_count": 57,
   "metadata": {},
   "outputs": [
    {
     "data": {
      "text/plain": [
       "array(['user_id', 'user_name', 'has_email', 'has_gender',\n",
       "       'user_registration', 'sim_observation_end',\n",
       "       'revs_90_after_sim_onboard', 'labour_hours_90_post_treatment',\n",
       "       'num_edits_90_post_treatment', 'num_edits_week_1_post_treatment',\n",
       "       'num_edits_week_2_post_treatment',\n",
       "       'num_edits_week_3_post_treatment',\n",
       "       'num_edits_week_4_post_treatment',\n",
       "       'num_edits_week_5_post_treatment',\n",
       "       'num_edits_week_6_post_treatment',\n",
       "       'num_edits_week_7_post_treatment',\n",
       "       'num_edits_week_8_post_treatment',\n",
       "       'num_edits_week_9_post_treatment',\n",
       "       'num_edits_week_10_post_treatment',\n",
       "       'num_edits_week_11_post_treatment',\n",
       "       'num_edits_week_12_post_treatment',\n",
       "       'any_edits_week_1_post_treatment',\n",
       "       'any_edits_week_2_post_treatment',\n",
       "       'any_edits_week_3_post_treatment',\n",
       "       'any_edits_week_4_post_treatment',\n",
       "       'any_edits_week_5_post_treatment',\n",
       "       'any_edits_week_6_post_treatment',\n",
       "       'any_edits_week_7_post_treatment',\n",
       "       'any_edits_week_8_post_treatment',\n",
       "       'any_edits_week_9_post_treatment',\n",
       "       'any_edits_week_10_post_treatment',\n",
       "       'any_edits_week_11_post_treatment',\n",
       "       'any_edits_week_12_post_treatment',\n",
       "       'labor_hours_week_1_post_treatment',\n",
       "       'labor_hours_week_2_post_treatment',\n",
       "       'labor_hours_week_3_post_treatment',\n",
       "       'labor_hours_week_4_post_treatment',\n",
       "       'labor_hours_week_5_post_treatment',\n",
       "       'labor_hours_week_6_post_treatment',\n",
       "       'labor_hours_week_7_post_treatment',\n",
       "       'labor_hours_week_8_post_treatment',\n",
       "       'labor_hours_week_9_post_treatment',\n",
       "       'labor_hours_week_10_post_treatment',\n",
       "       'labor_hours_week_11_post_treatment',\n",
       "       'labor_hours_week_12_post_treatment',\n",
       "       'any_labour_hours_week_1_post_treatment',\n",
       "       'any_labour_hours_week_2_post_treatment',\n",
       "       'any_labour_hours_week_3_post_treatment',\n",
       "       'any_labour_hours_week_4_post_treatment',\n",
       "       'any_labour_hours_week_5_post_treatment',\n",
       "       'any_labour_hours_week_6_post_treatment',\n",
       "       'any_labour_hours_week_7_post_treatment',\n",
       "       'any_labour_hours_week_8_post_treatment',\n",
       "       'any_labour_hours_week_9_post_treatment',\n",
       "       'any_labour_hours_week_10_post_treatment',\n",
       "       'any_labour_hours_week_11_post_treatment',\n",
       "       'any_labour_hours_week_12_post_treatment',\n",
       "       'num_edits_nonmain_week_1_post_treatment',\n",
       "       'num_edits_nonmain_week_2_post_treatment',\n",
       "       'num_edits_nonmain_week_3_post_treatment',\n",
       "       'num_edits_nonmain_week_4_post_treatment',\n",
       "       'num_edits_nonmain_week_5_post_treatment',\n",
       "       'num_edits_nonmain_week_6_post_treatment',\n",
       "       'num_edits_nonmain_week_7_post_treatment',\n",
       "       'num_edits_nonmain_week_8_post_treatment',\n",
       "       'num_edits_nonmain_week_9_post_treatment',\n",
       "       'num_edits_nonmain_week_10_post_treatment',\n",
       "       'num_edits_nonmain_week_11_post_treatment',\n",
       "       'num_edits_nonmain_week_12_post_treatment',\n",
       "       'any_edits_nonmain_week_1_post_treatment',\n",
       "       'any_edits_nonmain_week_2_post_treatment',\n",
       "       'any_edits_nonmain_week_3_post_treatment',\n",
       "       'any_edits_nonmain_week_4_post_treatment',\n",
       "       'any_edits_nonmain_week_5_post_treatment',\n",
       "       'any_edits_nonmain_week_6_post_treatment',\n",
       "       'any_edits_nonmain_week_7_post_treatment',\n",
       "       'any_edits_nonmain_week_8_post_treatment',\n",
       "       'any_edits_nonmain_week_9_post_treatment',\n",
       "       'any_edits_nonmain_week_10_post_treatment',\n",
       "       'any_edits_nonmain_week_11_post_treatment',\n",
       "       'any_edits_nonmain_week_12_post_treatment',\n",
       "       'num_edits_talk_week_1_post_treatment',\n",
       "       'num_edits_talk_week_2_post_treatment',\n",
       "       'num_edits_talk_week_3_post_treatment',\n",
       "       'num_edits_talk_week_4_post_treatment',\n",
       "       'num_edits_talk_week_5_post_treatment',\n",
       "       'num_edits_talk_week_6_post_treatment',\n",
       "       'num_edits_talk_week_7_post_treatment',\n",
       "       'num_edits_talk_week_8_post_treatment',\n",
       "       'num_edits_talk_week_9_post_treatment',\n",
       "       'num_edits_talk_week_10_post_treatment',\n",
       "       'num_edits_talk_week_11_post_treatment',\n",
       "       'num_edits_talk_week_12_post_treatment',\n",
       "       'any_edits_talk_week_1_post_treatment',\n",
       "       'any_edits_talk_week_2_post_treatment',\n",
       "       'any_edits_talk_week_3_post_treatment',\n",
       "       'any_edits_talk_week_4_post_treatment',\n",
       "       'any_edits_talk_week_5_post_treatment',\n",
       "       'any_edits_talk_week_6_post_treatment',\n",
       "       'any_edits_talk_week_7_post_treatment',\n",
       "       'any_edits_talk_week_8_post_treatment',\n",
       "       'any_edits_talk_week_9_post_treatment',\n",
       "       'any_edits_talk_week_10_post_treatment',\n",
       "       'any_edits_talk_week_11_post_treatment',\n",
       "       'any_edits_talk_week_12_post_treatment',\n",
       "       'response_rate_personalization_7_post_treatment',\n",
       "       'response_rate_nouveaux_newquestion_post_treatment',\n",
       "       'response_rate_nouveaux_allposts_post_treatment', 'draft_page_id',\n",
       "       'draft_page_title', 'response_rate_draft_post_treatment',\n",
       "       'response_rate_draft_7_post_treatment',\n",
       "       'response_rate_draft_any_post_treatment',\n",
       "       'day_1_activation_namespace_0_post_treatment',\n",
       "       'day_1_activation_namespace_non_0_post_treatment',\n",
       "       'day_2_activation_namespace_0_post_treatment',\n",
       "       'day_2_activation_namespace_non_0_post_treatment',\n",
       "       'day_7_activation_namespace_0_post_treatment',\n",
       "       'day_7_activation_namespace_non_0_post_treatment'], dtype=object)"
      ]
     },
     "execution_count": 57,
     "metadata": {},
     "output_type": "execute_result"
    }
   ],
   "source": [
    "users.columns.values"
   ]
  },
  {
   "cell_type": "code",
   "execution_count": 59,
   "metadata": {},
   "outputs": [],
   "source": [
    "cols_not_to_save = ['sim_observation_end',\n",
    "                   'revs_90_after_sim_onboard',\n",
    "                    'draft_page_id',\n",
    "       'draft_page_title', 'response_rate_draft_post_treatment','response_rate_draft_any_post_treatment',]\n",
    "cols_to_save = [c for c in users.columns if not c in cols_not_to_save]"
   ]
  },
  {
   "cell_type": "code",
   "execution_count": 63,
   "metadata": {},
   "outputs": [],
   "source": [
    "users[cols_to_save].to_csv('outputs/french_power-analysis_dataset_sim_date_{0}_v1.csv'.format(sim_onboard_start_date.strftime('%Y%m%d')),index=False)"
   ]
  },
  {
   "cell_type": "code",
   "execution_count": 3,
   "metadata": {},
   "outputs": [],
   "source": [
    "users = pd.read_csv('outputs/french_power-analysis_dataset_sim_date_20180307_v1.csv')"
   ]
  }
 ],
 "metadata": {
  "kernelspec": {
   "display_name": "Python 3",
   "language": "python",
   "name": "python3"
  },
  "language_info": {
   "codemirror_mode": {
    "name": "ipython",
    "version": 3
   },
   "file_extension": ".py",
   "mimetype": "text/x-python",
   "name": "python",
   "nbconvert_exporter": "python",
   "pygments_lexer": "ipython3",
   "version": "3.6.3"
  }
 },
 "nbformat": 4,
 "nbformat_minor": 2
}
