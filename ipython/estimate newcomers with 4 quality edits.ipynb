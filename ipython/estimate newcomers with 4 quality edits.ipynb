{
 "cells": [
  {
   "cell_type": "markdown",
   "metadata": {},
   "source": [
    "# Goal\n",
    "+ estimate how many absolute newcomers there are (per 90 days) that make 4 quality edits\n",
    "+ use the full sample size\n",
    "+ use percentage that make 4 edits\n",
    "+ user percentage of above that make 4 quality\n",
    "  + in any namespace\n",
    "  + in nontalk\n",
    "  + in main-only\n",
    "+ by lang\n",
    "\n",
    "## populations active in pre-treatment\n",
    "```\n",
    "lang  experience_level_pre_treatment\n",
    "ar    bin_0                               8547\n",
    "de    bin_0                              14083\n",
    "fa    bin_0                               6265\n",
    "pl    bin_0                               3287\n",
    "```\n",
    "## estimates of  having 4 edits in that span\n",
    "```\n",
    "ar    bin_0                             1752/8547\n",
    "de    bin_0                             2216/10000\n",
    "fa    bin_0                             1634/6265\n",
    "pl    bin_0                              893/3287\n",
    "\n",
    "--->\n",
    "ar 0.2049\n",
    "de 0.2216\n",
    "fa 0.2608\n",
    "pl 0.2717\n",
    "```"
   ]
  },
  {
   "cell_type": "code",
   "execution_count": 14,
   "metadata": {},
   "outputs": [],
   "source": [
    "import pandas as pd\n",
    "import numpy as np"
   ]
  },
  {
   "cell_type": "code",
   "execution_count": 16,
   "metadata": {},
   "outputs": [],
   "source": [
    "df = pd.read_csv('../outputs/thankee_power_analysis_data_for_sim_treatment_20180601_200_subsamples.csv')\n",
    "newcomers = df[df['experience_level_pre_treatment']=='bin_0']"
   ]
  },
  {
   "cell_type": "code",
   "execution_count": 8,
   "metadata": {
    "scrolled": true
   },
   "outputs": [
    {
     "data": {
      "text/plain": [
       "lang  experience_level_pre_treatment\n",
       "ar    bin_0                             400\n",
       "      bin_1460                          200\n",
       "      bin_180                           200\n",
       "      bin_2920                          200\n",
       "      bin_365                           200\n",
       "      bin_730                           200\n",
       "      bin_90                            200\n",
       "de    bin_0                             400\n",
       "      bin_1460                          200\n",
       "      bin_180                           200\n",
       "      bin_2920                          200\n",
       "      bin_365                           200\n",
       "      bin_730                           200\n",
       "      bin_90                            200\n",
       "fa    bin_0                             400\n",
       "      bin_1460                          200\n",
       "      bin_180                           200\n",
       "      bin_2920                          200\n",
       "      bin_365                           200\n",
       "      bin_730                           200\n",
       "      bin_90                            200\n",
       "pl    bin_0                             400\n",
       "      bin_1460                          200\n",
       "      bin_180                           200\n",
       "      bin_2920                          200\n",
       "      bin_365                           200\n",
       "      bin_730                           200\n",
       "      bin_90                            200\n",
       "dtype: int64"
      ]
     },
     "execution_count": 8,
     "metadata": {},
     "output_type": "execute_result"
    }
   ],
   "source": [
    "df.groupby(['lang','experience_level_pre_treatment']).size()"
   ]
  },
  {
   "cell_type": "code",
   "execution_count": 20,
   "metadata": {},
   "outputs": [
    {
     "data": {
      "text/plain": [
       "num_quality_pre_treatment              0.699063\n",
       "num_quality_pre_treatment_non_talk     0.628125\n",
       "num_quality_pre_treatment_main_only    0.460625\n",
       "dtype: float64"
      ]
     },
     "execution_count": 20,
     "metadata": {},
     "output_type": "execute_result"
    }
   ],
   "source": [
    "df.groupby(['lang','experience_level_pre_treatment'])['num_quality_pre_treatment',\n",
    "       'num_quality_pre_treatment_non_talk',\n",
    "       'num_quality_pre_treatment_main_only'].apply(lambda c: c>=4).mean()"
   ]
  },
  {
   "cell_type": "code",
   "execution_count": 44,
   "metadata": {},
   "outputs": [],
   "source": [
    "newcomer_qual = newcomers.groupby('lang')['num_quality_pre_treatment',\n",
    "       'num_quality_pre_treatment_non_talk',\n",
    "       'num_quality_pre_treatment_main_only'].apply(lambda c: np.mean(c>=4)).rename({'num_quality_pre_treatment':'prop_qual_any',\n",
    "       'num_quality_pre_treatment_non_talk':'prop_qual_non_talk',\n",
    "       'num_quality_pre_treatment_main_only':'prop_qual_main_only'}, axis=1)"
   ]
  },
  {
   "cell_type": "code",
   "execution_count": 45,
   "metadata": {},
   "outputs": [],
   "source": [
    "newcomer_abs = pd.DataFrame({'lang':['ar','de','fa','pl'],\n",
    "              'abs_populations_90_pre_treatment':[8547, 14083, 6265, 3287],\n",
    "             'prop_having_4_edits_pre_treatment':[0.2049, 0.2216, 0.2608, 0.2717]})"
   ]
  },
  {
   "cell_type": "code",
   "execution_count": 52,
   "metadata": {},
   "outputs": [],
   "source": [
    "newcomer_stats = pd.merge(newcomer_abs, newcomer_qual, on='lang').set_index('lang')"
   ]
  },
  {
   "cell_type": "code",
   "execution_count": 53,
   "metadata": {},
   "outputs": [],
   "source": [
    "newcomer_stats['abs_users_4_edits'] = newcomer_stats['abs_populations_90_pre_treatment'] * newcomer_stats['prop_having_4_edits_pre_treatment']\n",
    "newcomer_stats['abs_users_4_edits_qual_any'] = newcomer_stats['abs_users_4_edits'] * newcomer_stats['prop_qual_any']\n",
    "newcomer_stats['abs_users_4_edits_qual_non_talk'] = newcomer_stats['abs_users_4_edits'] * newcomer_stats['prop_qual_non_talk']\n",
    "newcomer_stats['abs_users_4_edits_qual_main_only'] = newcomer_stats['abs_users_4_edits'] * newcomer_stats['prop_qual_main_only']\n"
   ]
  },
  {
   "cell_type": "code",
   "execution_count": 55,
   "metadata": {},
   "outputs": [],
   "source": [
    "pd.options.display.float_format = '{:,.2f}'.format"
   ]
  },
  {
   "cell_type": "code",
   "execution_count": 56,
   "metadata": {},
   "outputs": [
    {
     "data": {
      "text/html": [
       "<div>\n",
       "<style scoped>\n",
       "    .dataframe tbody tr th:only-of-type {\n",
       "        vertical-align: middle;\n",
       "    }\n",
       "\n",
       "    .dataframe tbody tr th {\n",
       "        vertical-align: top;\n",
       "    }\n",
       "\n",
       "    .dataframe thead th {\n",
       "        text-align: right;\n",
       "    }\n",
       "</style>\n",
       "<table border=\"1\" class=\"dataframe\">\n",
       "  <thead>\n",
       "    <tr style=\"text-align: right;\">\n",
       "      <th>lang</th>\n",
       "      <th>ar</th>\n",
       "      <th>de</th>\n",
       "      <th>fa</th>\n",
       "      <th>pl</th>\n",
       "    </tr>\n",
       "  </thead>\n",
       "  <tbody>\n",
       "    <tr>\n",
       "      <th>abs_populations_90_pre_treatment</th>\n",
       "      <td>8,547.00</td>\n",
       "      <td>14,083.00</td>\n",
       "      <td>6,265.00</td>\n",
       "      <td>3,287.00</td>\n",
       "    </tr>\n",
       "    <tr>\n",
       "      <th>prop_having_4_edits_pre_treatment</th>\n",
       "      <td>0.20</td>\n",
       "      <td>0.22</td>\n",
       "      <td>0.26</td>\n",
       "      <td>0.27</td>\n",
       "    </tr>\n",
       "    <tr>\n",
       "      <th>prop_qual_any</th>\n",
       "      <td>0.88</td>\n",
       "      <td>0.62</td>\n",
       "      <td>0.14</td>\n",
       "      <td>0.72</td>\n",
       "    </tr>\n",
       "    <tr>\n",
       "      <th>prop_qual_non_talk</th>\n",
       "      <td>0.78</td>\n",
       "      <td>0.54</td>\n",
       "      <td>0.10</td>\n",
       "      <td>0.69</td>\n",
       "    </tr>\n",
       "    <tr>\n",
       "      <th>prop_qual_main_only</th>\n",
       "      <td>0.53</td>\n",
       "      <td>0.39</td>\n",
       "      <td>0.06</td>\n",
       "      <td>0.44</td>\n",
       "    </tr>\n",
       "    <tr>\n",
       "      <th>abs_users_4_edits</th>\n",
       "      <td>1,751.28</td>\n",
       "      <td>3,120.79</td>\n",
       "      <td>1,633.91</td>\n",
       "      <td>893.08</td>\n",
       "    </tr>\n",
       "    <tr>\n",
       "      <th>abs_users_4_edits_qual_any</th>\n",
       "      <td>1,536.75</td>\n",
       "      <td>1,927.09</td>\n",
       "      <td>236.92</td>\n",
       "      <td>643.02</td>\n",
       "    </tr>\n",
       "    <tr>\n",
       "      <th>abs_users_4_edits_qual_non_talk</th>\n",
       "      <td>1,357.24</td>\n",
       "      <td>1,685.23</td>\n",
       "      <td>163.39</td>\n",
       "      <td>611.76</td>\n",
       "    </tr>\n",
       "    <tr>\n",
       "      <th>abs_users_4_edits_qual_main_only</th>\n",
       "      <td>919.42</td>\n",
       "      <td>1,224.91</td>\n",
       "      <td>102.12</td>\n",
       "      <td>392.95</td>\n",
       "    </tr>\n",
       "  </tbody>\n",
       "</table>\n",
       "</div>"
      ],
      "text/plain": [
       "lang                                    ar        de       fa       pl\n",
       "abs_populations_90_pre_treatment  8,547.00 14,083.00 6,265.00 3,287.00\n",
       "prop_having_4_edits_pre_treatment     0.20      0.22     0.26     0.27\n",
       "prop_qual_any                         0.88      0.62     0.14     0.72\n",
       "prop_qual_non_talk                    0.78      0.54     0.10     0.69\n",
       "prop_qual_main_only                   0.53      0.39     0.06     0.44\n",
       "abs_users_4_edits                 1,751.28  3,120.79 1,633.91   893.08\n",
       "abs_users_4_edits_qual_any        1,536.75  1,927.09   236.92   643.02\n",
       "abs_users_4_edits_qual_non_talk   1,357.24  1,685.23   163.39   611.76\n",
       "abs_users_4_edits_qual_main_only    919.42  1,224.91   102.12   392.95"
      ]
     },
     "execution_count": 56,
     "metadata": {},
     "output_type": "execute_result"
    }
   ],
   "source": [
    "newcomer_stats.T"
   ]
  },
  {
   "cell_type": "code",
   "execution_count": null,
   "metadata": {},
   "outputs": [],
   "source": []
  }
 ],
 "metadata": {
  "kernelspec": {
   "display_name": "Python 3",
   "language": "python",
   "name": "python3"
  },
  "language_info": {
   "codemirror_mode": {
    "name": "ipython",
    "version": 3
   },
   "file_extension": ".py",
   "mimetype": "text/x-python",
   "name": "python",
   "nbconvert_exporter": "python",
   "pygments_lexer": "ipython3",
   "version": "3.7.1"
  }
 },
 "nbformat": 4,
 "nbformat_minor": 2
}
