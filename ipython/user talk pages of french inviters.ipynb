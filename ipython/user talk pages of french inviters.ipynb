{
 "cells": [
  {
   "cell_type": "markdown",
   "metadata": {},
   "source": [
    "# Goal\n",
    "\n",
    "get all the page ids of users who volunteer to be signed darkneko's french"
   ]
  },
  {
   "cell_type": "code",
   "execution_count": 1,
   "metadata": {},
   "outputs": [],
   "source": [
    "%%capture\n",
    "!pip install mwclient\n",
    "!pip install mwviews"
   ]
  },
  {
   "cell_type": "code",
   "execution_count": 3,
   "metadata": {},
   "outputs": [
    {
     "name": "stdout",
     "output_type": "stream",
     "text": [
      "mkdir: cannot create directory ‘outputs’: File exists\n",
      "mkdir: cannot create directory ‘checkpoints’: File exists\n",
      "Populating the interactive namespace from numpy and matplotlib\n"
     ]
    }
   ],
   "source": [
    "\n",
    "        \n",
    "def wmftimestamp(bytestring):\n",
    "    if bytestring:\n",
    "        s = bytestring.decode('utf-8')\n",
    "        return dt.strptime(s, '%Y%m%d%H%M%S')\n",
    "    else:\n",
    "        return bytestring\n",
    "    \n",
    "\n",
    "def decode_or_nouser(b):\n",
    "    return b.decode('utf-8') if b else '#nosuchuser'\n",
    "\n",
    "!mkdir outputs\n",
    "!mkdir checkpoints\n",
    "\n",
    "\n",
    "import json\n",
    "import requests\n",
    "\n",
    "from sqlalchemy import create_engine\n",
    "from sqlalchemy.exc import ProgrammingError\n",
    "from pymysql.err import InternalError, OperationalError\n",
    "import sys, os\n",
    "import pandas as pd\n",
    "import numpy as np\n",
    "\n",
    "import mwclient\n",
    "import mwviews\n",
    "\n",
    "from datetime import datetime as dt\n",
    "from datetime import timedelta as td\n",
    "\n",
    "%pylab inline\n",
    "\n",
    "langs = ['ar', 'fa', 'pl']\n",
    "\n",
    "langcode = langs[0]\n",
    "\n",
    "datadir = os.path.join('data', langcode)\n",
    "\n",
    "\n",
    "site = mwclient.Site(('https', f'{langcode}.wikipedia.org'), path = '/w/')\n",
    "\n",
    "os.makedirs(datadir, exist_ok=True)\n",
    "\n",
    "constr = 'mysql+pymysql://{user}:{pwd}@{host}/DB?charset=utf8'.format(user=os.environ['MYSQL_USERNAME'],\n",
    "                                                      pwd=os.environ['MYSQL_PASSWORD'],\n",
    "                                                      host=os.environ['MYSQL_HOST'])\n",
    "\n",
    "con = create_engine(constr, encoding='utf-8')\n",
    "\n",
    "\n",
    "con.execute(f'use enwiki_p;')\n",
    "\n",
    "\n",
    "lang = 'fr'\n",
    "signature_page = 'https://fr.wikipedia.org/wiki/Projet:Aide_et_accueil/Signatures'"
   ]
  }
 ],
 "metadata": {
  "kernelspec": {
   "display_name": "Python 3",
   "language": "python",
   "name": "python3"
  },
  "language_info": {
   "codemirror_mode": {
    "name": "ipython",
    "version": 3
   },
   "file_extension": ".py",
   "mimetype": "text/x-python",
   "name": "python",
   "nbconvert_exporter": "python",
   "pygments_lexer": "ipython3",
   "version": "3.6.3"
  }
 },
 "nbformat": 4,
 "nbformat_minor": 2
}
