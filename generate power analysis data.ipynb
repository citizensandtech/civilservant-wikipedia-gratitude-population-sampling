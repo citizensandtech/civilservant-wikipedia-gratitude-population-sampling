{
 "cells": [
  {
   "cell_type": "markdown",
   "metadata": {},
   "source": [
    "# Goal\n",
    "\n",
    "1. Look at distribution of editors by activity to create a calssification of \n",
    "1. Needed columns. \n",
    "  + lang\n",
    "  + userid\n",
    "  + reg_date\n",
    "  + First edit date\n",
    "  + Last edit date\n",
    "  + active?\n",
    "  + bucket?\n",
    "2. Get random-sample edtis from within each bucket and ORESify\n",
    "3. Produce protopye data for thanking app, \n",
    "  + we can test with liasons to see what kind of threshold theres is for thankablity with regards to ORES scores"
   ]
  },
  {
   "cell_type": "code",
   "execution_count": 1,
   "metadata": {},
   "outputs": [],
   "source": [
    "%%capture\n",
    "!pip install mwclient\n",
    "!pip install mwviews\n",
    "!pip install mwapi"
   ]
  },
  {
   "cell_type": "code",
   "execution_count": 2,
   "metadata": {},
   "outputs": [
    {
     "name": "stdout",
     "output_type": "stream",
     "text": [
      "mkdir: cannot create directory ‘outputs’: File exists\n",
      "mkdir: cannot create directory ‘checkpoints’: File exists\n",
      "Populating the interactive namespace from numpy and matplotlib\n"
     ]
    }
   ],
   "source": [
    "from itertools import islice\n",
    "\n",
    "def window_seq(seq, n=2):\n",
    "    \"Returns a sliding window (of width n) over data from the iterable\"\n",
    "    \"   s -> (s0,s1,...s[n-1]), (s1,s2,...,sn), ...                   \"\n",
    "    it = iter(seq)\n",
    "    result = tuple(islice(it, n))\n",
    "    if len(result) == n:\n",
    "        yield result\n",
    "    for elem in it:\n",
    "        result = result[1:] + (elem,)\n",
    "        yield result\n",
    "        \n",
    "def wmftimestamp(bytestring):\n",
    "    if bytestring:\n",
    "        s = bytestring.decode('utf-8')\n",
    "        return dt.strptime(s, '%Y%m%d%H%M%S')\n",
    "    else:\n",
    "        return bytestring\n",
    "    \n",
    "\n",
    "def decode_or_nouser(b):\n",
    "    return b.decode('utf-8') if b else '#nosuchuser'\n",
    "\n",
    "!mkdir outputs\n",
    "!mkdir checkpoints\n",
    "\n",
    "\n",
    "import json\n",
    "import requests\n",
    "\n",
    "from sqlalchemy import create_engine\n",
    "from sqlalchemy.exc import ProgrammingError\n",
    "from pymysql.err import InternalError, OperationalError\n",
    "import sys, os\n",
    "import pandas as pd\n",
    "import numpy as np\n",
    "\n",
    "import mwclient\n",
    "import mwviews\n",
    "import mwapi\n",
    "\n",
    "from datetime import datetime as dt\n",
    "from datetime import timedelta as td\n",
    "\n",
    "%pylab inline\n",
    "\n",
    "langs = ['ar', 'fa', 'pl']\n",
    "langsde = langs + ['de']\n",
    "\n",
    "langcode = langs[0]\n",
    "\n",
    "datadir = os.path.join('data', langcode)\n",
    "\n",
    "\n",
    "site = mwclient.Site(('https', f'{langcode}.wikipedia.org'), path = '/w/')\n",
    "\n",
    "os.makedirs(datadir, exist_ok=True)\n",
    "\n",
    "constr = 'mysql+pymysql://{user}:{pwd}@{host}/DB?charset=utf8'.format(user=os.environ['MYSQL_USERNAME'],\n",
    "                                                      pwd=os.environ['MYSQL_PASSWORD'],\n",
    "                                                      host=os.environ['MYSQL_HOST'])\n",
    "\n",
    "con = create_engine(constr, encoding='utf-8')\n",
    "\n",
    "\n",
    "con.execute(f'use enwiki_p;')\n",
    "\n",
    "\n",
    "#Tuesday Mar 6 2018\n",
    "#Friday March 23 2018\n",
    "\n",
    "sim_treatment_dates = (dt(2018,3,6), dt(2018,3, 23))\n",
    "sim_treatment_date = sim_treatment_dates[0]\n",
    "\n",
    "sim_experiment_end_date = sim_treatment_date + td(days=90)\n",
    "sim_observation_start_date = sim_treatment_date - td(days=90)\n",
    "\n"
   ]
  },
  {
   "cell_type": "code",
   "execution_count": 3,
   "metadata": {},
   "outputs": [],
   "source": [
    "\n",
    "import mwreverts.api\n",
    "import mwapi\n",
    "\n",
    "# We'll use the mwreverts API check.  In order to do that, we need an API session\n",
    "de_session = mwapi.Session(\"https://de.wikipedia.org\", \n",
    "                        user_agent=\"Max Klein Newcomer Quality <max@notconfusing.com>\")\n",
    "\n",
    "# for a single user, get their revisions and determine how many are flagged or not\n",
    "\n",
    "def get_revisions_and_flagged_data(user_id, treatment_date):\n",
    "    rev_flag_sql = \"\"\"\n",
    "        select rev_id, \n",
    "                rev_page, \n",
    "                page_namespace, \n",
    "                rev_timestamp, \n",
    "                fr_timestamp, \n",
    "                (select max(fr_timestamp) from flaggedrevs where fr_page_id=rev_page and fr_timestamp < {treatment_date}) max_fr_ts \n",
    "            from (\n",
    "                  select rev_id, rev_page, rev_timestamp, page_namespace from revision_userindex\n",
    "                    join page on page_id = rev_page where rev_user={user_id} \n",
    "                    and rev_timestamp < {treatment_date}\n",
    "                    order by rev_timestamp desc limit 500) auser\n",
    "            left join flaggedrevs on\n",
    "                fr_page_id = rev_page and\n",
    "                fr_rev_id = rev_id;\n",
    "                    \"\"\".format(user_id=user_id, treatment_date=treatment_date.strftime('%Y%m%d%H%M%S'))\n",
    "    con.execute('use dewiki_p;')\n",
    "    rev_flag = pd.read_sql(rev_flag_sql, con)\n",
    "    rev_flag['fr_timestamp'] = rev_flag['fr_timestamp'].apply(wmftimestamp)\n",
    "    rev_flag['max_fr_ts'] = rev_flag['max_fr_ts'].apply(wmftimestamp)\n",
    "    rev_flag['rev_timestamp'] = rev_flag['rev_timestamp'].apply(wmftimestamp)\n",
    "    return rev_flag\n",
    "\n",
    "def was_reverted(rev_id):\n",
    "    try:\n",
    "        _, reverted, reverted_to = mwreverts.api.check(\n",
    "            de_session, rev_id, radius=3,  # most reverts within 5 edits\n",
    "            window=48*60*60,  # 2 days\n",
    "            rvprop={'user', 'ids'})  # Some properties we'll make use of\n",
    "        return True if reverted else False\n",
    "    except (KeyError, mwapi.session.APIError) as err:\n",
    "        print('Error getting revert status for {rev_id}'.format(rev_id=rev_id))\n",
    "        return True #because even if it was deleted from the DB for our purposes its still a bad edit \n",
    "\n",
    "def decide_flagged(row):\n",
    "    \"\"\"Was this revision flagged (or generally high quality)?\"\"\"\n",
    "    namespace = row['page_namespace']\n",
    "    rev_time = row['rev_timestamp']\n",
    "    flagged_time = row['fr_timestamp']\n",
    "    last_flagged_time = row['max_fr_ts']\n",
    "    was_reverted = row['was_reverted']\n",
    "    \n",
    "    #namespace check\n",
    "    if namespace != 0:\n",
    "        return True # because often user-page edits are never approved   \n",
    "    # check if explictly flagged\n",
    "    elif pd.notnull(flagged_time):\n",
    "        return True\n",
    "    #check if reverted\n",
    "    elif was_reverted:\n",
    "        return False\n",
    "    #check if the last flagged time is after the edit\n",
    "    elif last_flagged_time:\n",
    "        if rev_time < last_flagged_time:\n",
    "            return True\n",
    "        #the revision exists but it hasn't been flagged yet.\n",
    "        else:\n",
    "            return False\n",
    "    else:\n",
    "        #not sure what else would get to this stage , but...\n",
    "        return False\n",
    "        \n",
    "def get_flagged_decision_df(user_id, treatment_date):\n",
    "    rev_df = get_revisions_and_flagged_data(user_id, treatment_date)\n",
    "    rev_df['was_reverted'] = rev_df.apply(lambda row: was_reverted(row['rev_id']) if pd.isnull(row['fr_timestamp']) else 'no_check', axis=1)\n",
    "    rev_df['flagged'] = rev_df.apply(decide_flagged, axis=1)\n",
    "    return rev_df\n",
    "\n",
    "\n",
    "def get_flagged_revs(user_id, treatment_date, return_all=False):\n",
    "    needed_columns = ['user_id', 'rev_id', 'rev_timestamp','was_flagged', 'was_reverted']\n",
    "    rev_df = get_flagged_decision_df(user_id, treatment_date)\n",
    "    rev_df['user_id'] = user_id\n",
    "    rev_df['was_flagged'] = rev_df.apply(decide_flagged, axis=1)\n",
    "    if return_all:\n",
    "        return rev_df\n",
    "    #limit to only flagged\n",
    "    rev_df = rev_df[rev_df['was_flagged']==True]\n",
    "    # limit ot non-talk pages\n",
    "    rev_df = rev_df[rev_df['page_namespace'].apply(lambda ns: ns%2==0)]\n",
    "    # Limit to 17\n",
    "    if rev_df.empty:\n",
    "        return pd.DataFrame(columns=needed_columns)\n",
    "    rev_df = rev_df.sort_values('rev_timestamp', ascending=False)\n",
    "    rev_df = rev_df.iloc[:17]\n",
    "\n",
    "    return rev_df[needed_columns]"
   ]
  },
  {
   "cell_type": "code",
   "execution_count": null,
   "metadata": {},
   "outputs": [],
   "source": [
    "def has_registration(lang):\n",
    "    db_prefix = f'{lang}wiki_p'\n",
    "    con.execute(f'use {db_prefix}')\n",
    "    reg_sql = '''select has_reg, count(has_reg) from\n",
    "(select user_id, case when user_registration is null then 0 else 1 end as has_reg from user) reg group by has_reg;'''\n",
    "    reg_df = pd.read_sql(reg_sql, con)\n",
    "    return reg_df"
   ]
  },
  {
   "cell_type": "code",
   "execution_count": 7,
   "metadata": {},
   "outputs": [],
   "source": [
    "collection_date = dt(2018, 11, 13)"
   ]
  },
  {
   "cell_type": "code",
   "execution_count": 8,
   "metadata": {},
   "outputs": [
    {
     "name": "stdout",
     "output_type": "stream",
     "text": [
      "lang is ar\n",
      "   has_reg  count(has_reg)\n",
      "0        0            6656\n",
      "1        1         1606540\n",
      "lang is fa\n",
      "   has_reg  count(has_reg)\n",
      "0        0            2947\n",
      "1        1          793420\n",
      "lang is pl\n",
      "   has_reg  count(has_reg)\n",
      "0        0           25787\n",
      "1        1          909565\n",
      "lang is de\n",
      "   has_reg  count(has_reg)\n",
      "0        0          165638\n",
      "1        1         2939048\n"
     ]
    }
   ],
   "source": [
    "for lang in langsde:\n",
    "    print(f'lang is {lang}')\n",
    "    reg_df = has_registration(lang)\n",
    "    print(reg_df)"
   ]
  },
  {
   "cell_type": "code",
   "execution_count": 11,
   "metadata": {},
   "outputs": [
    {
     "name": "stdout",
     "output_type": "stream",
     "text": [
      "1.1M\tcheckpoints/batches_edits_1.pickle\r\n",
      "23M\tcheckpoints/batches_edits_2.pickle\r\n",
      "4.2M\tcheckpoints/fr_users.pickle\r\n",
      "49M\tcheckpoints/fr_users_name_flow.pickle\r\n",
      "52M\tcheckpoints/fr_users_revs.pickle\r\n",
      "48M\tcheckpoints/fr_users_revs_features.pickle\r\n",
      "9.9M\tcheckpoints/sub_df_revs_1.pickle\r\n",
      "9.9M\tcheckpoints/sub_df_revs_ores_damaging_1.pickle\r\n",
      "9.9M\tcheckpoints/sub_df_revs_ores_damaging_goodfaith_1.pickle\r\n",
      "22M\tcheckpoints/sub_df_revs_ts_1.pickle\r\n",
      "27M\tcheckpoints/sub_df_revs_ts_labour_hours_1.pickle\r\n",
      "27M\tcheckpoints/sub_df_revs_ts_labour_hours_survival_1.pickle\r\n",
      "229M\tcheckpoints/user_reg_1.pickle\r\n",
      "272M\tcheckpoints/user_reg_thank_1.pickle\r\n",
      "283M\tcheckpoints/user_reg_thank_active_1.pickle\r\n",
      "180M\tcheckpoints/user_reg_thank_active_experiencel_1.pickle\r\n"
     ]
    }
   ],
   "source": [
    "!du -h checkpoints/*"
   ]
  },
  {
   "cell_type": "code",
   "execution_count": 10,
   "metadata": {},
   "outputs": [],
   "source": [
    "def users_with_edits(lang):\n",
    "    db_prefix = f'{lang}wiki_p'\n",
    "    con.execute(f'use {db_prefix}')\n",
    "    reg_sql = '''select user_id, user_registration, \n",
    "       (select min(rev_timestamp) from revision_userindex where rev_user=user_id and rev_timestamp < {datestr}) as first_edit, \n",
    "       (select max(rev_timestamp) from revision_userindex where rev_user=user_id and rev_timestamp < {datestr}) as last_edit\n",
    "from user where user_registration is not null and user_registration < {datestr};\n",
    "'''.format(datestr=sim_treatment_date.strftime('%Y%m%d%H%M%S'))\n",
    "    span_df = pd.read_sql(reg_sql, con)\n",
    "    span_df['user_registration'] = span_df['user_registration'].apply(wmftimestamp)\n",
    "    span_df['first_edit'] = span_df['first_edit'].apply(wmftimestamp)\n",
    "    span_df['last_edit'] = span_df['last_edit'].apply(wmftimestamp)\n",
    "    return span_df "
   ]
  },
  {
   "cell_type": "code",
   "execution_count": 12,
   "metadata": {},
   "outputs": [
    {
     "name": "stdout",
     "output_type": "stream",
     "text": [
      "working on ar\n",
      "213\n",
      "working on fa\n",
      "258\n",
      "working on pl\n",
      "727\n",
      "working on de\n",
      "5424\n"
     ]
    }
   ],
   "source": [
    "span_dfs = {}\n",
    "os.makedirs('data/reg_df', exist_ok=True)\n",
    "for lang in langsde:\n",
    "    print('working on {}'.format(lang))\n",
    "    t0 = dt.now()\n",
    "    span_df = users_with_edits(lang)\n",
    "    t1 = dt.now()\n",
    "    print((t1-t0).seconds)\n",
    "    span_df.to_pickle('data/reg_df/{0}_{1}_user_reg_first_last_edits.pickle'.format(lang, sim_treatment_date.strftime('%Y%m%d%H%M%S')))\n",
    "    span_dfs[lang]=span_df"
   ]
  },
  {
   "cell_type": "code",
   "execution_count": 13,
   "metadata": {},
   "outputs": [],
   "source": [
    "temp_dfs = []\n",
    "for lang, df in span_dfs.items():\n",
    "    df['lang'] = lang\n",
    "    temp_dfs.append(df)\n",
    "full_df = pd.concat(temp_dfs)\n",
    "full_df.to_pickle('checkpoints/user_reg_1.pickle')"
   ]
  },
  {
   "cell_type": "code",
   "execution_count": 16,
   "metadata": {},
   "outputs": [],
   "source": [
    "full_df = pd.read_pickle('checkpoints/user_reg_1.pickle')"
   ]
  },
  {
   "cell_type": "markdown",
   "metadata": {},
   "source": [
    "# Get thanks data"
   ]
  },
  {
   "cell_type": "code",
   "execution_count": null,
   "metadata": {},
   "outputs": [],
   "source": [
    "%%capture\n",
    "!wget http://whgi.wmflabs.org/cs_data/ar/outputs/wikithank_ar_20180623.csv ./thank_tables/.\n",
    "!wget http://whgi.wmflabs.org/cs_data/fa/outputs/wikithank_fa_20180629.csv ./thank_tables/.\n",
    "!wget http://whgi.wmflabs.org/cs_data/pl/outputs/wikithank_pl_20180704.csv ./thank_tables/.\n",
    "!wget http://whgi.wmflabs.org/cs_data/de/outputs/wikithank_de_20180712.csv ./thank_tables/. "
   ]
  },
  {
   "cell_type": "code",
   "execution_count": 17,
   "metadata": {
    "scrolled": true
   },
   "outputs": [
    {
     "name": "stdout",
     "output_type": "stream",
     "text": [
      "wikithank_ar_20180623.csv ar\n",
      "wikithank_fa_20180629.csv fa\n",
      "wikithank_de_20180712.csv de\n",
      "wikithank_pl_20180704.csv pl\n"
     ]
    }
   ],
   "source": [
    "thank_dict = {}\n",
    "thank_counts = []\n",
    "for dirpath, dirnames, filenames in os.walk('thank_tables'):\n",
    "    for f in filenames:\n",
    "        lang = f.split('_')[1]\n",
    "        print(f, lang)\n",
    "        thank_df = pd.read_csv(os.path.join(dirpath,f), usecols=['timestamp', 'receiver_id'], parse_dates=[0])\n",
    "        thank_df = thank_df[thank_df['timestamp']<sim_treatment_date]\n",
    "        thank_df = thank_df.rename(columns={'receiver_id':'user_id'})\n",
    "        thank_dict[lang] = thank_df\n",
    "        receiver_counts_df = thank_df.groupby('user_id').agg(len).reset_index()\n",
    "        receiver_counts_df['lang'] = lang\n",
    "        receiver_counts_df\n",
    "        thank_counts.append(receiver_counts_df)\n",
    "        \n",
    "receiver_thanks = pd.concat(thank_counts)"
   ]
  },
  {
   "cell_type": "code",
   "execution_count": 18,
   "metadata": {},
   "outputs": [],
   "source": [
    "receiver_thanks = receiver_thanks.rename(columns={'timestamp':'num_prev_thanks_before_treatment'})"
   ]
  },
  {
   "cell_type": "code",
   "execution_count": 19,
   "metadata": {},
   "outputs": [],
   "source": [
    "full_df = full_df.merge(receiver_thanks, on=('user_id','lang'), how='left')"
   ]
  },
  {
   "cell_type": "code",
   "execution_count": 20,
   "metadata": {},
   "outputs": [],
   "source": [
    "full_df['num_prev_thanks_before_treatment'] = full_df['num_prev_thanks_before_treatment'].fillna(0)"
   ]
  },
  {
   "cell_type": "code",
   "execution_count": 25,
   "metadata": {},
   "outputs": [],
   "source": [
    "full_df.to_pickle('checkpoints/user_reg_thank_1.pickle')"
   ]
  },
  {
   "cell_type": "code",
   "execution_count": 26,
   "metadata": {},
   "outputs": [],
   "source": [
    "thirty_days_before_treatment = sim_treatment_date - td(days=30)\n",
    "ninety_days_before_treatment = sim_treatment_date - td(days=90)\n",
    "full_df['active_in_30_pre_treatment'] = full_df['last_edit'] > thirty_days_before_treatment\n",
    "full_df['active_in_90_pre_treatment'] = full_df['last_edit'] > ninety_days_before_treatment"
   ]
  },
  {
   "cell_type": "code",
   "execution_count": 27,
   "metadata": {},
   "outputs": [
    {
     "data": {
      "text/plain": [
       "(70027, 8)"
      ]
     },
     "execution_count": 27,
     "metadata": {},
     "output_type": "execute_result"
    }
   ],
   "source": [
    "full_df[full_df['active_in_90_pre_treatment']].shape"
   ]
  },
  {
   "cell_type": "code",
   "execution_count": 28,
   "metadata": {},
   "outputs": [
    {
     "data": {
      "text/plain": [
       "(31749, 8)"
      ]
     },
     "execution_count": 28,
     "metadata": {},
     "output_type": "execute_result"
    }
   ],
   "source": [
    "full_df[full_df['active_in_30_pre_treatment']].shape"
   ]
  },
  {
   "cell_type": "code",
   "execution_count": 29,
   "metadata": {},
   "outputs": [],
   "source": [
    "full_df.to_pickle('checkpoints/user_reg_thank_active_1.pickle')"
   ]
  },
  {
   "cell_type": "code",
   "execution_count": 30,
   "metadata": {},
   "outputs": [],
   "source": [
    "full_df = pd.read_pickle('checkpoints/user_reg_thank_active_1.pickle')"
   ]
  },
  {
   "cell_type": "code",
   "execution_count": 31,
   "metadata": {},
   "outputs": [],
   "source": [
    "bins_log2 = (0, 90, 180, 365, 730, 1460, 2920, 5840)"
   ]
  },
  {
   "cell_type": "code",
   "execution_count": 32,
   "metadata": {},
   "outputs": [],
   "source": [
    "full_df['days_since_registration'] = sim_treatment_date - full_df['user_registration']"
   ]
  },
  {
   "cell_type": "code",
   "execution_count": 33,
   "metadata": {},
   "outputs": [],
   "source": [
    "def bin_from_td(delta):\n",
    "    delta_days = delta.days\n",
    "#     print(f'days: {delta_days}')\n",
    "    prev_threshold=0\n",
    "    for threshold in bins_log2:\n",
    "        if delta_days > threshold:\n",
    "            prev_threshold=threshold\n",
    "            continue\n",
    "        else:\n",
    "            break\n",
    "    return f'bin_{prev_threshold}'"
   ]
  },
  {
   "cell_type": "code",
   "execution_count": 34,
   "metadata": {},
   "outputs": [],
   "source": [
    "full_df['experience_level_pre_treatment'] = full_df['days_since_registration'].apply(bin_from_td)"
   ]
  },
  {
   "cell_type": "code",
   "execution_count": 35,
   "metadata": {},
   "outputs": [],
   "source": [
    "del full_df['days_since_registration']"
   ]
  },
  {
   "cell_type": "code",
   "execution_count": 36,
   "metadata": {},
   "outputs": [],
   "source": [
    "full_df.to_pickle('checkpoints/user_reg_thank_active_experiencel_1.pickle')"
   ]
  },
  {
   "cell_type": "code",
   "execution_count": 37,
   "metadata": {},
   "outputs": [],
   "source": [
    "full_df = pd.read_pickle('checkpoints/user_reg_thank_active_experiencel_1.pickle')"
   ]
  },
  {
   "cell_type": "code",
   "execution_count": 38,
   "metadata": {},
   "outputs": [],
   "source": [
    "full_df = full_df[pd.notnull(full_df['first_edit'])]"
   ]
  },
  {
   "cell_type": "code",
   "execution_count": 39,
   "metadata": {},
   "outputs": [
    {
     "name": "stderr",
     "output_type": "stream",
     "text": [
      "/srv/paws/lib/python3.6/site-packages/ipykernel_launcher.py:12: UserWarning: Boolean Series key will be reindexed to match DataFrame index.\n",
      "  if sys.path[0] == '':\n"
     ]
    }
   ],
   "source": [
    "active = full_df[full_df['active_in_90_pre_treatment']==True]\n",
    "inactive = full_df[full_df['active_in_90_pre_treatment']==False]\n",
    "\n",
    "bin_active = {}\n",
    "bin_inactive = {}\n",
    "for lang in langsde:\n",
    "    for adf, lab, bin_dict in ((active, 'active', bin_active), (inactive, 'inactive', bin_inactive)):\n",
    "        bin_dict[lang]={}\n",
    "        for window_start, window_end in window_seq(bins_log2):\n",
    "            ladf = adf[adf['lang']==lang]\n",
    "            in_window = (full_df['first_edit'] < sim_treatment_date - td(days=window_start)) & (full_df['first_edit'] > sim_treatment_date - td(days=window_end))\n",
    "            bin_dict[lang][window_start] = len(ladf[in_window])"
   ]
  },
  {
   "cell_type": "code",
   "execution_count": 40,
   "metadata": {},
   "outputs": [],
   "source": [
    "active_df = pd.DataFrame.from_dict(bin_active)\n",
    "active_df['is_active'] = 'active'\n",
    "inactive_df = pd.DataFrame.from_dict(bin_inactive)\n",
    "inactive_df['is_active'] = 'inactive'\n",
    "\n",
    "bin_stats_df = pd.concat((active_df, inactive_df))"
   ]
  },
  {
   "cell_type": "code",
   "execution_count": 41,
   "metadata": {},
   "outputs": [],
   "source": [
    "bin_stats_df = bin_stats_df.reset_index().rename(columns={'index':'at_least_days_experience'})"
   ]
  },
  {
   "cell_type": "code",
   "execution_count": 42,
   "metadata": {},
   "outputs": [
    {
     "data": {
      "text/html": [
       "<div>\n",
       "<style scoped>\n",
       "    .dataframe tbody tr th:only-of-type {\n",
       "        vertical-align: middle;\n",
       "    }\n",
       "\n",
       "    .dataframe tbody tr th {\n",
       "        vertical-align: top;\n",
       "    }\n",
       "\n",
       "    .dataframe thead th {\n",
       "        text-align: right;\n",
       "    }\n",
       "</style>\n",
       "<table border=\"1\" class=\"dataframe\">\n",
       "  <thead>\n",
       "    <tr style=\"text-align: right;\">\n",
       "      <th></th>\n",
       "      <th>at_least_days_experience</th>\n",
       "      <th>ar</th>\n",
       "      <th>fa</th>\n",
       "      <th>pl</th>\n",
       "      <th>de</th>\n",
       "      <th>is_active</th>\n",
       "    </tr>\n",
       "  </thead>\n",
       "  <tbody>\n",
       "    <tr>\n",
       "      <th>0</th>\n",
       "      <td>0</td>\n",
       "      <td>8490</td>\n",
       "      <td>7456</td>\n",
       "      <td>3806</td>\n",
       "      <td>14022</td>\n",
       "      <td>active</td>\n",
       "    </tr>\n",
       "    <tr>\n",
       "      <th>1</th>\n",
       "      <td>90</td>\n",
       "      <td>507</td>\n",
       "      <td>729</td>\n",
       "      <td>444</td>\n",
       "      <td>1610</td>\n",
       "      <td>active</td>\n",
       "    </tr>\n",
       "    <tr>\n",
       "      <th>2</th>\n",
       "      <td>180</td>\n",
       "      <td>551</td>\n",
       "      <td>693</td>\n",
       "      <td>465</td>\n",
       "      <td>1785</td>\n",
       "      <td>active</td>\n",
       "    </tr>\n",
       "    <tr>\n",
       "      <th>3</th>\n",
       "      <td>365</td>\n",
       "      <td>529</td>\n",
       "      <td>631</td>\n",
       "      <td>630</td>\n",
       "      <td>2615</td>\n",
       "      <td>active</td>\n",
       "    </tr>\n",
       "    <tr>\n",
       "      <th>4</th>\n",
       "      <td>730</td>\n",
       "      <td>522</td>\n",
       "      <td>595</td>\n",
       "      <td>819</td>\n",
       "      <td>3838</td>\n",
       "      <td>active</td>\n",
       "    </tr>\n",
       "    <tr>\n",
       "      <th>5</th>\n",
       "      <td>1460</td>\n",
       "      <td>563</td>\n",
       "      <td>755</td>\n",
       "      <td>1276</td>\n",
       "      <td>6519</td>\n",
       "      <td>active</td>\n",
       "    </tr>\n",
       "    <tr>\n",
       "      <th>6</th>\n",
       "      <td>2920</td>\n",
       "      <td>296</td>\n",
       "      <td>330</td>\n",
       "      <td>1547</td>\n",
       "      <td>8001</td>\n",
       "      <td>active</td>\n",
       "    </tr>\n",
       "    <tr>\n",
       "      <th>7</th>\n",
       "      <td>0</td>\n",
       "      <td>0</td>\n",
       "      <td>0</td>\n",
       "      <td>0</td>\n",
       "      <td>0</td>\n",
       "      <td>inactive</td>\n",
       "    </tr>\n",
       "    <tr>\n",
       "      <th>8</th>\n",
       "      <td>90</td>\n",
       "      <td>7551</td>\n",
       "      <td>5830</td>\n",
       "      <td>2707</td>\n",
       "      <td>12095</td>\n",
       "      <td>inactive</td>\n",
       "    </tr>\n",
       "    <tr>\n",
       "      <th>9</th>\n",
       "      <td>180</td>\n",
       "      <td>14514</td>\n",
       "      <td>12727</td>\n",
       "      <td>6304</td>\n",
       "      <td>25796</td>\n",
       "      <td>inactive</td>\n",
       "    </tr>\n",
       "    <tr>\n",
       "      <th>10</th>\n",
       "      <td>365</td>\n",
       "      <td>28127</td>\n",
       "      <td>21563</td>\n",
       "      <td>12009</td>\n",
       "      <td>53750</td>\n",
       "      <td>inactive</td>\n",
       "    </tr>\n",
       "    <tr>\n",
       "      <th>11</th>\n",
       "      <td>730</td>\n",
       "      <td>55063</td>\n",
       "      <td>31892</td>\n",
       "      <td>26045</td>\n",
       "      <td>119067</td>\n",
       "      <td>inactive</td>\n",
       "    </tr>\n",
       "    <tr>\n",
       "      <th>12</th>\n",
       "      <td>1460</td>\n",
       "      <td>75151</td>\n",
       "      <td>46925</td>\n",
       "      <td>63959</td>\n",
       "      <td>274690</td>\n",
       "      <td>inactive</td>\n",
       "    </tr>\n",
       "    <tr>\n",
       "      <th>13</th>\n",
       "      <td>2920</td>\n",
       "      <td>34981</td>\n",
       "      <td>21423</td>\n",
       "      <td>85047</td>\n",
       "      <td>332731</td>\n",
       "      <td>inactive</td>\n",
       "    </tr>\n",
       "  </tbody>\n",
       "</table>\n",
       "</div>"
      ],
      "text/plain": [
       "    at_least_days_experience     ar     fa     pl      de is_active\n",
       "0                          0   8490   7456   3806   14022    active\n",
       "1                         90    507    729    444    1610    active\n",
       "2                        180    551    693    465    1785    active\n",
       "3                        365    529    631    630    2615    active\n",
       "4                        730    522    595    819    3838    active\n",
       "5                       1460    563    755   1276    6519    active\n",
       "6                       2920    296    330   1547    8001    active\n",
       "7                          0      0      0      0       0  inactive\n",
       "8                         90   7551   5830   2707   12095  inactive\n",
       "9                        180  14514  12727   6304   25796  inactive\n",
       "10                       365  28127  21563  12009   53750  inactive\n",
       "11                       730  55063  31892  26045  119067  inactive\n",
       "12                      1460  75151  46925  63959  274690  inactive\n",
       "13                      2920  34981  21423  85047  332731  inactive"
      ]
     },
     "execution_count": 42,
     "metadata": {},
     "output_type": "execute_result"
    }
   ],
   "source": [
    "bin_stats_df"
   ]
  },
  {
   "cell_type": "code",
   "execution_count": 43,
   "metadata": {},
   "outputs": [],
   "source": [
    "bin_stats_df.to_csv('outputs/bin_stats_df_one_edit_min.csv', index=False)"
   ]
  },
  {
   "cell_type": "markdown",
   "metadata": {},
   "source": [
    "# Subsetting representative sample"
   ]
  },
  {
   "cell_type": "code",
   "execution_count": 67,
   "metadata": {},
   "outputs": [],
   "source": [
    "active_lang_bin_groups = full_df.groupby(['active_in_90_pre_treatment', 'lang', 'experience_level_pre_treatment'])"
   ]
  },
  {
   "cell_type": "code",
   "execution_count": 68,
   "metadata": {},
   "outputs": [],
   "source": [
    "actual_sample_size = 200\n",
    "guess_needed_sample_size = 100 # some of the subsamples will not be valid because after testing for quality they won't have sufficient\n",
    "subsamples = []\n",
    "for (is_active, lang, bin_name), group in active_lang_bin_groups:\n",
    "    sample_size = guess_needed_sample_size\n",
    "    if bin_name == 'bin_0':\n",
    "        sample_size = sample_size * 3\n",
    "    if len(group) < sample_size:\n",
    "        sample_size = len(group)\n",
    "#     print(group.shape, sample_size)\n",
    "    subsample = group.sample(n=sample_size)\n",
    "    subsamples.append(subsample)"
   ]
  },
  {
   "cell_type": "code",
   "execution_count": 69,
   "metadata": {},
   "outputs": [],
   "source": [
    "sub_df = pd.concat(subsamples)"
   ]
  },
  {
   "cell_type": "code",
   "execution_count": 70,
   "metadata": {},
   "outputs": [
    {
     "data": {
      "text/plain": [
       "de    1800\n",
       "ar    1575\n",
       "pl    1568\n",
       "fa    1547\n",
       "Name: lang, dtype: int64"
      ]
     },
     "execution_count": 70,
     "metadata": {},
     "output_type": "execute_result"
    }
   ],
   "source": [
    "sub_df['lang'].value_counts()"
   ]
  },
  {
   "cell_type": "code",
   "execution_count": 48,
   "metadata": {},
   "outputs": [
    {
     "data": {
      "text/plain": [
       "bin_0       1690\n",
       "bin_2920     800\n",
       "bin_730      800\n",
       "bin_180      800\n",
       "bin_365      800\n",
       "bin_1460     800\n",
       "bin_90       800\n",
       "Name: experience_level_pre_treatment, dtype: int64"
      ]
     },
     "execution_count": 48,
     "metadata": {},
     "output_type": "execute_result"
    }
   ],
   "source": [
    "sub_df['experience_level_pre_treatment'].value_counts()"
   ]
  },
  {
   "cell_type": "code",
   "execution_count": 49,
   "metadata": {},
   "outputs": [
    {
     "data": {
      "text/plain": [
       "True     3600\n",
       "False    2890\n",
       "Name: active_in_90_pre_treatment, dtype: int64"
      ]
     },
     "execution_count": 49,
     "metadata": {},
     "output_type": "execute_result"
    }
   ],
   "source": [
    "sub_df['active_in_90_pre_treatment'].value_counts()"
   ]
  },
  {
   "cell_type": "markdown",
   "metadata": {},
   "source": [
    "# Get Revisions of Editors"
   ]
  },
  {
   "cell_type": "code",
   "execution_count": null,
   "metadata": {},
   "outputs": [],
   "source": [
    "def get_90_stroke_50_recent_edits(userid, lang):\n",
    "    '''this will get all the rev_ids for a user that occured less than 90 days before their last edit\n",
    "    and no more than 50 edits in total '''\n",
    "    con.execute('use {lang}wiki_p;'.format(lang=lang))\n",
    "    revsql = '''\n",
    "            select rev_user, ts, rev_id from\n",
    "            (select a.rev_user as rev_user, timestamp(a.rev_timestamp) as ts, a.rev_id as rev_id, timestamp(b.mts) as mts\n",
    "            from\n",
    "            (select rev_user, rev_timestamp, rev_id from revision_userindex where rev_user = {userid}) a\n",
    "            join\n",
    "            (select rev_user, max(rev_timestamp) as mts from revision_userindex where rev_user = {userid})  b\n",
    "            on a.rev_user = b.rev_user\n",
    "            ) uhist\n",
    "            where ts > date_sub(mts, interval 90 day)\n",
    "            limit 50;'''.format(userid=userid)\n",
    "    udf = pd.read_sql(revsql, con)\n",
    "    return udf\n",
    "\n",
    "def get_50_edits_before_sim_treatment(userid, lang):\n",
    "    '''this will get all the rev_ids and timestamps for a user that occured before the simulated treatment date and just the \n",
    "        50 most recent of those '''\n",
    "    con.execute('use {lang}wiki_p;'.format(lang=lang))\n",
    "    revsql = '''select rev_id, rev_timestamp, page_id, page_namespace from (select rev_id, rev_timestamp, rev_page from revision_userindex where rev_user = {userid}\n",
    "                and rev_timestamp < {datestr}\n",
    "                order by rev_timestamp desc\n",
    "                                            limit 50) revs\n",
    "                                            join page\n",
    "                                            on revs.rev_page = page.page_id;'''.format(datestr=sim_treatment_date.strftime('%Y%m%d%H%M%S'), userid=userid)\n",
    "    udf = pd.read_sql(revsql, con)\n",
    "    udf['rev_timestamp'] = udf['rev_timestamp'].apply(wmftimestamp)\n",
    "    return udf.to_dict(orient='records')"
   ]
  },
  {
   "cell_type": "code",
   "execution_count": null,
   "metadata": {},
   "outputs": [],
   "source": [
    "sub_df['revisions_before_sim_treatment_50'] = sub_df.apply(lambda row: get_50_edits_before_sim_treatment(row['user_id'], row['lang']), axis=1)"
   ]
  },
  {
   "cell_type": "code",
   "execution_count": null,
   "metadata": {},
   "outputs": [],
   "source": [
    "sub_df['len_revs'] = sub_df['revisions_before_sim_treatment_50'].apply(len)"
   ]
  },
  {
   "cell_type": "code",
   "execution_count": null,
   "metadata": {},
   "outputs": [],
   "source": [
    "sub_df['len_revs'].hist()"
   ]
  },
  {
   "cell_type": "code",
   "execution_count": null,
   "metadata": {},
   "outputs": [],
   "source": [
    "sub_df = sub_df[sub_df['len_revs']!=0]"
   ]
  },
  {
   "cell_type": "code",
   "execution_count": null,
   "metadata": {},
   "outputs": [],
   "source": [
    "sub_df.to_pickle('checkpoints/sub_df_revs_1.pickle')"
   ]
  },
  {
   "cell_type": "code",
   "execution_count": null,
   "metadata": {},
   "outputs": [],
   "source": [
    "sub_df = pd.read_pickle('checkpoints/sub_df_revs_1.pickle')"
   ]
  },
  {
   "cell_type": "markdown",
   "metadata": {},
   "source": [
    "# Get ORES"
   ]
  },
  {
   "cell_type": "code",
   "execution_count": null,
   "metadata": {},
   "outputs": [],
   "source": [
    "ores_string = 'https://ores.wikimedia.org/v3/scores/{context}/{revid}/{model}'\n",
    "\n",
    "def list_of_ores_scores(rev_ids, model, lang):\n",
    "#     print('lang', lang)\n",
    "    context = f'{lang}wiki'\n",
    "    ores_scores = []\n",
    "    ores_predicitons = []\n",
    "    for rev_id in rev_ids:\n",
    "        ores_req = ores_string.format(context=context, revid=rev_id, model=model)\n",
    "#         print(f'context: {context}')\n",
    "        # print(f'ores_req: {ores_req}')\n",
    "        ores_resp = requests.get(url=ores_req)\n",
    "        ores_data = ores_resp.json()\n",
    "#         print(f'ores_data: {ores_data}')\n",
    "        try:\n",
    "            ores_score = ores_data[context]['scores'][str(rev_id)][model]['score']['probability']['true']\n",
    "            ores_prediction = ores_data[context]['scores'][str(rev_id)][model]['score']['prediction']\n",
    "            ores_scores.append(ores_score)\n",
    "            ores_predicitons.append(ores_prediction)\n",
    "        except KeyError:\n",
    "            ores_scores.append(float('nan'))\n",
    "            ores_predicitons.append(float('nan'))\n",
    "    return {'ores_scores':ores_scores, 'ores_predictions':ores_predicitons}"
   ]
  },
  {
   "cell_type": "code",
   "execution_count": null,
   "metadata": {},
   "outputs": [],
   "source": [
    "count = 0\n",
    "def get_from_ores_with_cache(rev_ids, model, lang):\n",
    "    global count\n",
    "    count += 1\n",
    "    if count % 100 == 0:\n",
    "        print(count, dt.now())\n",
    "    datadir = os.path.join('data', lang, model)\n",
    "    os.makedirs(datadir, exist_ok=True)\n",
    "    fname = os.path.join(datadir,f'revlist_starting_{rev_ids[0]}')\n",
    "    if not os.path.exists(fname):\n",
    "        ores_data = list_of_ores_scores(rev_ids, model, lang)\n",
    "        json.dump(ores_data, open(fname, 'w'))\n",
    "        return ores_data\n",
    "    else:\n",
    "        return json.load(open(fname,'r'))\n",
    "    "
   ]
  },
  {
   "cell_type": "code",
   "execution_count": null,
   "metadata": {},
   "outputs": [],
   "source": [
    "# sub_sub_df = sub_df.iloc[:100]"
   ]
  },
  {
   "cell_type": "code",
   "execution_count": 54,
   "metadata": {},
   "outputs": [
    {
     "name": "stdout",
     "output_type": "stream",
     "text": [
      "CPU times: user 3.38 s, sys: 284 ms, total: 3.66 s\n",
      "Wall time: 1min 13s\n"
     ]
    },
    {
     "name": "stderr",
     "output_type": "stream",
     "text": [
      "/srv/paws/lib/python3.6/site-packages/ipykernel_launcher.py:5: SettingWithCopyWarning: \n",
      "A value is trying to be set on a copy of a slice from a DataFrame.\n",
      "Try using .loc[row_indexer,col_indexer] = value instead\n",
      "\n",
      "See the caveats in the documentation: http://pandas.pydata.org/pandas-docs/stable/indexing.html#indexing-view-versus-copy\n",
      "  \"\"\"\n"
     ]
    }
   ],
   "source": [
    "# %%time\n",
    "# sub_sub_df['ores_damaging_data'] = sub_sub_df.apply(lambda row: get_from_ores_with_cache(\n",
    "#     rev_ids=[d['rev_id'] for d in row['revisions_before_sim_treatment_50']],\n",
    "#     model='damaging',\n",
    "#     lang=row['lang']),\n",
    "#     axis=1)"
   ]
  },
  {
   "cell_type": "code",
   "execution_count": 56,
   "metadata": {},
   "outputs": [],
   "source": [
    "# sub_sub_df"
   ]
  },
  {
   "cell_type": "code",
   "execution_count": 57,
   "metadata": {},
   "outputs": [
    {
     "ename": "KeyboardInterrupt",
     "evalue": "",
     "output_type": "error",
     "traceback": [
      "\u001b[0;31m---------------------------------------------------------------------------\u001b[0m",
      "\u001b[0;31mTypeError\u001b[0m                                 Traceback (most recent call last)",
      "\u001b[0;32m/srv/paws/lib/python3.6/site-packages/urllib3/connectionpool.py\u001b[0m in \u001b[0;36m_make_request\u001b[0;34m(self, conn, method, url, timeout, chunked, **httplib_request_kw)\u001b[0m\n\u001b[1;32m    376\u001b[0m             \u001b[0;32mtry\u001b[0m\u001b[0;34m:\u001b[0m  \u001b[0;31m# Python 2.7, use buffering of HTTP responses\u001b[0m\u001b[0;34m\u001b[0m\u001b[0m\n\u001b[0;32m--> 377\u001b[0;31m                 \u001b[0mhttplib_response\u001b[0m \u001b[0;34m=\u001b[0m \u001b[0mconn\u001b[0m\u001b[0;34m.\u001b[0m\u001b[0mgetresponse\u001b[0m\u001b[0;34m(\u001b[0m\u001b[0mbuffering\u001b[0m\u001b[0;34m=\u001b[0m\u001b[0;32mTrue\u001b[0m\u001b[0;34m)\u001b[0m\u001b[0;34m\u001b[0m\u001b[0m\n\u001b[0m\u001b[1;32m    378\u001b[0m             \u001b[0;32mexcept\u001b[0m \u001b[0mTypeError\u001b[0m\u001b[0;34m:\u001b[0m  \u001b[0;31m# Python 2.6 and older, Python 3\u001b[0m\u001b[0;34m\u001b[0m\u001b[0m\n",
      "\u001b[0;31mTypeError\u001b[0m: getresponse() got an unexpected keyword argument 'buffering'",
      "\nDuring handling of the above exception, another exception occurred:\n",
      "\u001b[0;31mKeyboardInterrupt\u001b[0m                         Traceback (most recent call last)",
      "\u001b[0;32m<ipython-input-57-c676ac17df37>\u001b[0m in \u001b[0;36m<module>\u001b[0;34m()\u001b[0m\n\u001b[1;32m      4\u001b[0m     \u001b[0mmodel\u001b[0m\u001b[0;34m=\u001b[0m\u001b[0;34m'damaging'\u001b[0m\u001b[0;34m,\u001b[0m\u001b[0;34m\u001b[0m\u001b[0m\n\u001b[1;32m      5\u001b[0m     lang=row['lang']),\n\u001b[0;32m----> 6\u001b[0;31m     axis=1)\n\u001b[0m",
      "\u001b[0;32m/srv/paws/lib/python3.6/site-packages/pandas/core/frame.py\u001b[0m in \u001b[0;36mapply\u001b[0;34m(self, func, axis, broadcast, raw, reduce, result_type, args, **kwds)\u001b[0m\n\u001b[1;32m   6012\u001b[0m                          \u001b[0margs\u001b[0m\u001b[0;34m=\u001b[0m\u001b[0margs\u001b[0m\u001b[0;34m,\u001b[0m\u001b[0;34m\u001b[0m\u001b[0m\n\u001b[1;32m   6013\u001b[0m                          kwds=kwds)\n\u001b[0;32m-> 6014\u001b[0;31m         \u001b[0;32mreturn\u001b[0m \u001b[0mop\u001b[0m\u001b[0;34m.\u001b[0m\u001b[0mget_result\u001b[0m\u001b[0;34m(\u001b[0m\u001b[0;34m)\u001b[0m\u001b[0;34m\u001b[0m\u001b[0m\n\u001b[0m\u001b[1;32m   6015\u001b[0m \u001b[0;34m\u001b[0m\u001b[0m\n\u001b[1;32m   6016\u001b[0m     \u001b[0;32mdef\u001b[0m \u001b[0mapplymap\u001b[0m\u001b[0;34m(\u001b[0m\u001b[0mself\u001b[0m\u001b[0;34m,\u001b[0m \u001b[0mfunc\u001b[0m\u001b[0;34m)\u001b[0m\u001b[0;34m:\u001b[0m\u001b[0;34m\u001b[0m\u001b[0m\n",
      "\u001b[0;32m/srv/paws/lib/python3.6/site-packages/pandas/core/apply.py\u001b[0m in \u001b[0;36mget_result\u001b[0;34m(self)\u001b[0m\n\u001b[1;32m    140\u001b[0m             \u001b[0;32mreturn\u001b[0m \u001b[0mself\u001b[0m\u001b[0;34m.\u001b[0m\u001b[0mapply_raw\u001b[0m\u001b[0;34m(\u001b[0m\u001b[0;34m)\u001b[0m\u001b[0;34m\u001b[0m\u001b[0m\n\u001b[1;32m    141\u001b[0m \u001b[0;34m\u001b[0m\u001b[0m\n\u001b[0;32m--> 142\u001b[0;31m         \u001b[0;32mreturn\u001b[0m \u001b[0mself\u001b[0m\u001b[0;34m.\u001b[0m\u001b[0mapply_standard\u001b[0m\u001b[0;34m(\u001b[0m\u001b[0;34m)\u001b[0m\u001b[0;34m\u001b[0m\u001b[0m\n\u001b[0m\u001b[1;32m    143\u001b[0m \u001b[0;34m\u001b[0m\u001b[0m\n\u001b[1;32m    144\u001b[0m     \u001b[0;32mdef\u001b[0m \u001b[0mapply_empty_result\u001b[0m\u001b[0;34m(\u001b[0m\u001b[0mself\u001b[0m\u001b[0;34m)\u001b[0m\u001b[0;34m:\u001b[0m\u001b[0;34m\u001b[0m\u001b[0m\n",
      "\u001b[0;32m/srv/paws/lib/python3.6/site-packages/pandas/core/apply.py\u001b[0m in \u001b[0;36mapply_standard\u001b[0;34m(self)\u001b[0m\n\u001b[1;32m    240\u001b[0m                                           \u001b[0maxis\u001b[0m\u001b[0;34m=\u001b[0m\u001b[0mself\u001b[0m\u001b[0;34m.\u001b[0m\u001b[0maxis\u001b[0m\u001b[0;34m,\u001b[0m\u001b[0;34m\u001b[0m\u001b[0m\n\u001b[1;32m    241\u001b[0m                                           \u001b[0mdummy\u001b[0m\u001b[0;34m=\u001b[0m\u001b[0mdummy\u001b[0m\u001b[0;34m,\u001b[0m\u001b[0;34m\u001b[0m\u001b[0m\n\u001b[0;32m--> 242\u001b[0;31m                                           labels=labels)\n\u001b[0m\u001b[1;32m    243\u001b[0m                 \u001b[0;32mreturn\u001b[0m \u001b[0mself\u001b[0m\u001b[0;34m.\u001b[0m\u001b[0mobj\u001b[0m\u001b[0;34m.\u001b[0m\u001b[0m_constructor_sliced\u001b[0m\u001b[0;34m(\u001b[0m\u001b[0mresult\u001b[0m\u001b[0;34m,\u001b[0m \u001b[0mindex\u001b[0m\u001b[0;34m=\u001b[0m\u001b[0mlabels\u001b[0m\u001b[0;34m)\u001b[0m\u001b[0;34m\u001b[0m\u001b[0m\n\u001b[1;32m    244\u001b[0m             \u001b[0;32mexcept\u001b[0m \u001b[0mException\u001b[0m\u001b[0;34m:\u001b[0m\u001b[0;34m\u001b[0m\u001b[0m\n",
      "\u001b[0;32mpandas/_libs/reduction.pyx\u001b[0m in \u001b[0;36mpandas._libs.reduction.reduce\u001b[0;34m()\u001b[0m\n",
      "\u001b[0;32mpandas/_libs/reduction.pyx\u001b[0m in \u001b[0;36mpandas._libs.reduction.Reducer.get_result\u001b[0;34m()\u001b[0m\n",
      "\u001b[0;32m<ipython-input-57-c676ac17df37>\u001b[0m in \u001b[0;36m<lambda>\u001b[0;34m(row)\u001b[0m\n\u001b[1;32m      3\u001b[0m     \u001b[0mrev_ids\u001b[0m\u001b[0;34m=\u001b[0m\u001b[0;34m[\u001b[0m\u001b[0md\u001b[0m\u001b[0;34m[\u001b[0m\u001b[0;34m'rev_id'\u001b[0m\u001b[0;34m]\u001b[0m \u001b[0;32mfor\u001b[0m \u001b[0md\u001b[0m \u001b[0;32min\u001b[0m \u001b[0mrow\u001b[0m\u001b[0;34m[\u001b[0m\u001b[0;34m'revisions_before_sim_treatment_50'\u001b[0m\u001b[0;34m]\u001b[0m\u001b[0;34m]\u001b[0m\u001b[0;34m,\u001b[0m\u001b[0;34m\u001b[0m\u001b[0m\n\u001b[1;32m      4\u001b[0m     \u001b[0mmodel\u001b[0m\u001b[0;34m=\u001b[0m\u001b[0;34m'damaging'\u001b[0m\u001b[0;34m,\u001b[0m\u001b[0;34m\u001b[0m\u001b[0m\n\u001b[0;32m----> 5\u001b[0;31m     lang=row['lang']),\n\u001b[0m\u001b[1;32m      6\u001b[0m     axis=1)\n",
      "\u001b[0;32m<ipython-input-52-840ec3ac5766>\u001b[0m in \u001b[0;36mget_from_ores_with_cache\u001b[0;34m(rev_ids, model, lang)\u001b[0m\n\u001b[1;32m      9\u001b[0m     \u001b[0mfname\u001b[0m \u001b[0;34m=\u001b[0m \u001b[0mos\u001b[0m\u001b[0;34m.\u001b[0m\u001b[0mpath\u001b[0m\u001b[0;34m.\u001b[0m\u001b[0mjoin\u001b[0m\u001b[0;34m(\u001b[0m\u001b[0mdatadir\u001b[0m\u001b[0;34m,\u001b[0m\u001b[0;34mf'revlist_starting_{rev_ids[0]}'\u001b[0m\u001b[0;34m)\u001b[0m\u001b[0;34m\u001b[0m\u001b[0m\n\u001b[1;32m     10\u001b[0m     \u001b[0;32mif\u001b[0m \u001b[0;32mnot\u001b[0m \u001b[0mos\u001b[0m\u001b[0;34m.\u001b[0m\u001b[0mpath\u001b[0m\u001b[0;34m.\u001b[0m\u001b[0mexists\u001b[0m\u001b[0;34m(\u001b[0m\u001b[0mfname\u001b[0m\u001b[0;34m)\u001b[0m\u001b[0;34m:\u001b[0m\u001b[0;34m\u001b[0m\u001b[0m\n\u001b[0;32m---> 11\u001b[0;31m         \u001b[0mores_data\u001b[0m \u001b[0;34m=\u001b[0m \u001b[0mlist_of_ores_scores\u001b[0m\u001b[0;34m(\u001b[0m\u001b[0mrev_ids\u001b[0m\u001b[0;34m,\u001b[0m \u001b[0mmodel\u001b[0m\u001b[0;34m,\u001b[0m \u001b[0mlang\u001b[0m\u001b[0;34m)\u001b[0m\u001b[0;34m\u001b[0m\u001b[0m\n\u001b[0m\u001b[1;32m     12\u001b[0m         \u001b[0mjson\u001b[0m\u001b[0;34m.\u001b[0m\u001b[0mdump\u001b[0m\u001b[0;34m(\u001b[0m\u001b[0mores_data\u001b[0m\u001b[0;34m,\u001b[0m \u001b[0mopen\u001b[0m\u001b[0;34m(\u001b[0m\u001b[0mfname\u001b[0m\u001b[0;34m,\u001b[0m \u001b[0;34m'w'\u001b[0m\u001b[0;34m)\u001b[0m\u001b[0;34m)\u001b[0m\u001b[0;34m\u001b[0m\u001b[0m\n\u001b[1;32m     13\u001b[0m         \u001b[0;32mreturn\u001b[0m \u001b[0mores_data\u001b[0m\u001b[0;34m\u001b[0m\u001b[0m\n",
      "\u001b[0;32m<ipython-input-48-b4db4ad1b1f3>\u001b[0m in \u001b[0;36mlist_of_ores_scores\u001b[0;34m(rev_ids, model, lang)\u001b[0m\n\u001b[1;32m     10\u001b[0m \u001b[0;31m#         print(f'context: {context}')\u001b[0m\u001b[0;34m\u001b[0m\u001b[0;34m\u001b[0m\u001b[0m\n\u001b[1;32m     11\u001b[0m         \u001b[0;31m# print(f'ores_req: {ores_req}')\u001b[0m\u001b[0;34m\u001b[0m\u001b[0;34m\u001b[0m\u001b[0m\n\u001b[0;32m---> 12\u001b[0;31m         \u001b[0mores_resp\u001b[0m \u001b[0;34m=\u001b[0m \u001b[0mrequests\u001b[0m\u001b[0;34m.\u001b[0m\u001b[0mget\u001b[0m\u001b[0;34m(\u001b[0m\u001b[0murl\u001b[0m\u001b[0;34m=\u001b[0m\u001b[0mores_req\u001b[0m\u001b[0;34m)\u001b[0m\u001b[0;34m\u001b[0m\u001b[0m\n\u001b[0m\u001b[1;32m     13\u001b[0m         \u001b[0mores_data\u001b[0m \u001b[0;34m=\u001b[0m \u001b[0mores_resp\u001b[0m\u001b[0;34m.\u001b[0m\u001b[0mjson\u001b[0m\u001b[0;34m(\u001b[0m\u001b[0;34m)\u001b[0m\u001b[0;34m\u001b[0m\u001b[0m\n\u001b[1;32m     14\u001b[0m \u001b[0;31m#         print(f'ores_data: {ores_data}')\u001b[0m\u001b[0;34m\u001b[0m\u001b[0;34m\u001b[0m\u001b[0m\n",
      "\u001b[0;32m/srv/paws/lib/python3.6/site-packages/requests/api.py\u001b[0m in \u001b[0;36mget\u001b[0;34m(url, params, **kwargs)\u001b[0m\n\u001b[1;32m     70\u001b[0m \u001b[0;34m\u001b[0m\u001b[0m\n\u001b[1;32m     71\u001b[0m     \u001b[0mkwargs\u001b[0m\u001b[0;34m.\u001b[0m\u001b[0msetdefault\u001b[0m\u001b[0;34m(\u001b[0m\u001b[0;34m'allow_redirects'\u001b[0m\u001b[0;34m,\u001b[0m \u001b[0;32mTrue\u001b[0m\u001b[0;34m)\u001b[0m\u001b[0;34m\u001b[0m\u001b[0m\n\u001b[0;32m---> 72\u001b[0;31m     \u001b[0;32mreturn\u001b[0m \u001b[0mrequest\u001b[0m\u001b[0;34m(\u001b[0m\u001b[0;34m'get'\u001b[0m\u001b[0;34m,\u001b[0m \u001b[0murl\u001b[0m\u001b[0;34m,\u001b[0m \u001b[0mparams\u001b[0m\u001b[0;34m=\u001b[0m\u001b[0mparams\u001b[0m\u001b[0;34m,\u001b[0m \u001b[0;34m**\u001b[0m\u001b[0mkwargs\u001b[0m\u001b[0;34m)\u001b[0m\u001b[0;34m\u001b[0m\u001b[0m\n\u001b[0m\u001b[1;32m     73\u001b[0m \u001b[0;34m\u001b[0m\u001b[0m\n\u001b[1;32m     74\u001b[0m \u001b[0;34m\u001b[0m\u001b[0m\n",
      "\u001b[0;32m/srv/paws/lib/python3.6/site-packages/requests/api.py\u001b[0m in \u001b[0;36mrequest\u001b[0;34m(method, url, **kwargs)\u001b[0m\n\u001b[1;32m     56\u001b[0m     \u001b[0;31m# cases, and look like a memory leak in others.\u001b[0m\u001b[0;34m\u001b[0m\u001b[0;34m\u001b[0m\u001b[0m\n\u001b[1;32m     57\u001b[0m     \u001b[0;32mwith\u001b[0m \u001b[0msessions\u001b[0m\u001b[0;34m.\u001b[0m\u001b[0mSession\u001b[0m\u001b[0;34m(\u001b[0m\u001b[0;34m)\u001b[0m \u001b[0;32mas\u001b[0m \u001b[0msession\u001b[0m\u001b[0;34m:\u001b[0m\u001b[0;34m\u001b[0m\u001b[0m\n\u001b[0;32m---> 58\u001b[0;31m         \u001b[0;32mreturn\u001b[0m \u001b[0msession\u001b[0m\u001b[0;34m.\u001b[0m\u001b[0mrequest\u001b[0m\u001b[0;34m(\u001b[0m\u001b[0mmethod\u001b[0m\u001b[0;34m=\u001b[0m\u001b[0mmethod\u001b[0m\u001b[0;34m,\u001b[0m \u001b[0murl\u001b[0m\u001b[0;34m=\u001b[0m\u001b[0murl\u001b[0m\u001b[0;34m,\u001b[0m \u001b[0;34m**\u001b[0m\u001b[0mkwargs\u001b[0m\u001b[0;34m)\u001b[0m\u001b[0;34m\u001b[0m\u001b[0m\n\u001b[0m\u001b[1;32m     59\u001b[0m \u001b[0;34m\u001b[0m\u001b[0m\n\u001b[1;32m     60\u001b[0m \u001b[0;34m\u001b[0m\u001b[0m\n",
      "\u001b[0;32m/srv/paws/lib/python3.6/site-packages/requests/sessions.py\u001b[0m in \u001b[0;36mrequest\u001b[0;34m(self, method, url, params, data, headers, cookies, files, auth, timeout, allow_redirects, proxies, hooks, stream, verify, cert, json)\u001b[0m\n\u001b[1;32m    510\u001b[0m         }\n\u001b[1;32m    511\u001b[0m         \u001b[0msend_kwargs\u001b[0m\u001b[0;34m.\u001b[0m\u001b[0mupdate\u001b[0m\u001b[0;34m(\u001b[0m\u001b[0msettings\u001b[0m\u001b[0;34m)\u001b[0m\u001b[0;34m\u001b[0m\u001b[0m\n\u001b[0;32m--> 512\u001b[0;31m         \u001b[0mresp\u001b[0m \u001b[0;34m=\u001b[0m \u001b[0mself\u001b[0m\u001b[0;34m.\u001b[0m\u001b[0msend\u001b[0m\u001b[0;34m(\u001b[0m\u001b[0mprep\u001b[0m\u001b[0;34m,\u001b[0m \u001b[0;34m**\u001b[0m\u001b[0msend_kwargs\u001b[0m\u001b[0;34m)\u001b[0m\u001b[0;34m\u001b[0m\u001b[0m\n\u001b[0m\u001b[1;32m    513\u001b[0m \u001b[0;34m\u001b[0m\u001b[0m\n\u001b[1;32m    514\u001b[0m         \u001b[0;32mreturn\u001b[0m \u001b[0mresp\u001b[0m\u001b[0;34m\u001b[0m\u001b[0m\n",
      "\u001b[0;32m/srv/paws/lib/python3.6/site-packages/requests/sessions.py\u001b[0m in \u001b[0;36msend\u001b[0;34m(self, request, **kwargs)\u001b[0m\n\u001b[1;32m    620\u001b[0m \u001b[0;34m\u001b[0m\u001b[0m\n\u001b[1;32m    621\u001b[0m         \u001b[0;31m# Send the request\u001b[0m\u001b[0;34m\u001b[0m\u001b[0;34m\u001b[0m\u001b[0m\n\u001b[0;32m--> 622\u001b[0;31m         \u001b[0mr\u001b[0m \u001b[0;34m=\u001b[0m \u001b[0madapter\u001b[0m\u001b[0;34m.\u001b[0m\u001b[0msend\u001b[0m\u001b[0;34m(\u001b[0m\u001b[0mrequest\u001b[0m\u001b[0;34m,\u001b[0m \u001b[0;34m**\u001b[0m\u001b[0mkwargs\u001b[0m\u001b[0;34m)\u001b[0m\u001b[0;34m\u001b[0m\u001b[0m\n\u001b[0m\u001b[1;32m    623\u001b[0m \u001b[0;34m\u001b[0m\u001b[0m\n\u001b[1;32m    624\u001b[0m         \u001b[0;31m# Total elapsed time of the request (approximately)\u001b[0m\u001b[0;34m\u001b[0m\u001b[0;34m\u001b[0m\u001b[0m\n",
      "\u001b[0;32m/srv/paws/lib/python3.6/site-packages/requests/adapters.py\u001b[0m in \u001b[0;36msend\u001b[0;34m(self, request, stream, timeout, verify, cert, proxies)\u001b[0m\n\u001b[1;32m    443\u001b[0m                     \u001b[0mdecode_content\u001b[0m\u001b[0;34m=\u001b[0m\u001b[0;32mFalse\u001b[0m\u001b[0;34m,\u001b[0m\u001b[0;34m\u001b[0m\u001b[0m\n\u001b[1;32m    444\u001b[0m                     \u001b[0mretries\u001b[0m\u001b[0;34m=\u001b[0m\u001b[0mself\u001b[0m\u001b[0;34m.\u001b[0m\u001b[0mmax_retries\u001b[0m\u001b[0;34m,\u001b[0m\u001b[0;34m\u001b[0m\u001b[0m\n\u001b[0;32m--> 445\u001b[0;31m                     \u001b[0mtimeout\u001b[0m\u001b[0;34m=\u001b[0m\u001b[0mtimeout\u001b[0m\u001b[0;34m\u001b[0m\u001b[0m\n\u001b[0m\u001b[1;32m    446\u001b[0m                 )\n\u001b[1;32m    447\u001b[0m \u001b[0;34m\u001b[0m\u001b[0m\n",
      "\u001b[0;32m/srv/paws/lib/python3.6/site-packages/urllib3/connectionpool.py\u001b[0m in \u001b[0;36murlopen\u001b[0;34m(self, method, url, body, headers, retries, redirect, assert_same_host, timeout, pool_timeout, release_conn, chunked, body_pos, **response_kw)\u001b[0m\n\u001b[1;32m    598\u001b[0m                                                   \u001b[0mtimeout\u001b[0m\u001b[0;34m=\u001b[0m\u001b[0mtimeout_obj\u001b[0m\u001b[0;34m,\u001b[0m\u001b[0;34m\u001b[0m\u001b[0m\n\u001b[1;32m    599\u001b[0m                                                   \u001b[0mbody\u001b[0m\u001b[0;34m=\u001b[0m\u001b[0mbody\u001b[0m\u001b[0;34m,\u001b[0m \u001b[0mheaders\u001b[0m\u001b[0;34m=\u001b[0m\u001b[0mheaders\u001b[0m\u001b[0;34m,\u001b[0m\u001b[0;34m\u001b[0m\u001b[0m\n\u001b[0;32m--> 600\u001b[0;31m                                                   chunked=chunked)\n\u001b[0m\u001b[1;32m    601\u001b[0m \u001b[0;34m\u001b[0m\u001b[0m\n\u001b[1;32m    602\u001b[0m             \u001b[0;31m# If we're going to release the connection in ``finally:``, then\u001b[0m\u001b[0;34m\u001b[0m\u001b[0;34m\u001b[0m\u001b[0m\n",
      "\u001b[0;32m/srv/paws/lib/python3.6/site-packages/urllib3/connectionpool.py\u001b[0m in \u001b[0;36m_make_request\u001b[0;34m(self, conn, method, url, timeout, chunked, **httplib_request_kw)\u001b[0m\n\u001b[1;32m    378\u001b[0m             \u001b[0;32mexcept\u001b[0m \u001b[0mTypeError\u001b[0m\u001b[0;34m:\u001b[0m  \u001b[0;31m# Python 2.6 and older, Python 3\u001b[0m\u001b[0;34m\u001b[0m\u001b[0m\n\u001b[1;32m    379\u001b[0m                 \u001b[0;32mtry\u001b[0m\u001b[0;34m:\u001b[0m\u001b[0;34m\u001b[0m\u001b[0m\n\u001b[0;32m--> 380\u001b[0;31m                     \u001b[0mhttplib_response\u001b[0m \u001b[0;34m=\u001b[0m \u001b[0mconn\u001b[0m\u001b[0;34m.\u001b[0m\u001b[0mgetresponse\u001b[0m\u001b[0;34m(\u001b[0m\u001b[0;34m)\u001b[0m\u001b[0;34m\u001b[0m\u001b[0m\n\u001b[0m\u001b[1;32m    381\u001b[0m                 \u001b[0;32mexcept\u001b[0m \u001b[0mException\u001b[0m \u001b[0;32mas\u001b[0m \u001b[0me\u001b[0m\u001b[0;34m:\u001b[0m\u001b[0;34m\u001b[0m\u001b[0m\n\u001b[1;32m    382\u001b[0m                     \u001b[0;31m# Remove the TypeError from the exception chain in Python 3;\u001b[0m\u001b[0;34m\u001b[0m\u001b[0;34m\u001b[0m\u001b[0m\n",
      "\u001b[0;32m/usr/lib/python3.6/http/client.py\u001b[0m in \u001b[0;36mgetresponse\u001b[0;34m(self)\u001b[0m\n\u001b[1;32m   1329\u001b[0m         \u001b[0;32mtry\u001b[0m\u001b[0;34m:\u001b[0m\u001b[0;34m\u001b[0m\u001b[0m\n\u001b[1;32m   1330\u001b[0m             \u001b[0;32mtry\u001b[0m\u001b[0;34m:\u001b[0m\u001b[0;34m\u001b[0m\u001b[0m\n\u001b[0;32m-> 1331\u001b[0;31m                 \u001b[0mresponse\u001b[0m\u001b[0;34m.\u001b[0m\u001b[0mbegin\u001b[0m\u001b[0;34m(\u001b[0m\u001b[0;34m)\u001b[0m\u001b[0;34m\u001b[0m\u001b[0m\n\u001b[0m\u001b[1;32m   1332\u001b[0m             \u001b[0;32mexcept\u001b[0m \u001b[0mConnectionError\u001b[0m\u001b[0;34m:\u001b[0m\u001b[0;34m\u001b[0m\u001b[0m\n\u001b[1;32m   1333\u001b[0m                 \u001b[0mself\u001b[0m\u001b[0;34m.\u001b[0m\u001b[0mclose\u001b[0m\u001b[0;34m(\u001b[0m\u001b[0;34m)\u001b[0m\u001b[0;34m\u001b[0m\u001b[0m\n",
      "\u001b[0;32m/usr/lib/python3.6/http/client.py\u001b[0m in \u001b[0;36mbegin\u001b[0;34m(self)\u001b[0m\n\u001b[1;32m    295\u001b[0m         \u001b[0;31m# read until we get a non-100 response\u001b[0m\u001b[0;34m\u001b[0m\u001b[0;34m\u001b[0m\u001b[0m\n\u001b[1;32m    296\u001b[0m         \u001b[0;32mwhile\u001b[0m \u001b[0;32mTrue\u001b[0m\u001b[0;34m:\u001b[0m\u001b[0;34m\u001b[0m\u001b[0m\n\u001b[0;32m--> 297\u001b[0;31m             \u001b[0mversion\u001b[0m\u001b[0;34m,\u001b[0m \u001b[0mstatus\u001b[0m\u001b[0;34m,\u001b[0m \u001b[0mreason\u001b[0m \u001b[0;34m=\u001b[0m \u001b[0mself\u001b[0m\u001b[0;34m.\u001b[0m\u001b[0m_read_status\u001b[0m\u001b[0;34m(\u001b[0m\u001b[0;34m)\u001b[0m\u001b[0;34m\u001b[0m\u001b[0m\n\u001b[0m\u001b[1;32m    298\u001b[0m             \u001b[0;32mif\u001b[0m \u001b[0mstatus\u001b[0m \u001b[0;34m!=\u001b[0m \u001b[0mCONTINUE\u001b[0m\u001b[0;34m:\u001b[0m\u001b[0;34m\u001b[0m\u001b[0m\n\u001b[1;32m    299\u001b[0m                 \u001b[0;32mbreak\u001b[0m\u001b[0;34m\u001b[0m\u001b[0m\n",
      "\u001b[0;32m/usr/lib/python3.6/http/client.py\u001b[0m in \u001b[0;36m_read_status\u001b[0;34m(self)\u001b[0m\n\u001b[1;32m    256\u001b[0m \u001b[0;34m\u001b[0m\u001b[0m\n\u001b[1;32m    257\u001b[0m     \u001b[0;32mdef\u001b[0m \u001b[0m_read_status\u001b[0m\u001b[0;34m(\u001b[0m\u001b[0mself\u001b[0m\u001b[0;34m)\u001b[0m\u001b[0;34m:\u001b[0m\u001b[0;34m\u001b[0m\u001b[0m\n\u001b[0;32m--> 258\u001b[0;31m         \u001b[0mline\u001b[0m \u001b[0;34m=\u001b[0m \u001b[0mstr\u001b[0m\u001b[0;34m(\u001b[0m\u001b[0mself\u001b[0m\u001b[0;34m.\u001b[0m\u001b[0mfp\u001b[0m\u001b[0;34m.\u001b[0m\u001b[0mreadline\u001b[0m\u001b[0;34m(\u001b[0m\u001b[0m_MAXLINE\u001b[0m \u001b[0;34m+\u001b[0m \u001b[0;36m1\u001b[0m\u001b[0;34m)\u001b[0m\u001b[0;34m,\u001b[0m \u001b[0;34m\"iso-8859-1\"\u001b[0m\u001b[0;34m)\u001b[0m\u001b[0;34m\u001b[0m\u001b[0m\n\u001b[0m\u001b[1;32m    259\u001b[0m         \u001b[0;32mif\u001b[0m \u001b[0mlen\u001b[0m\u001b[0;34m(\u001b[0m\u001b[0mline\u001b[0m\u001b[0;34m)\u001b[0m \u001b[0;34m>\u001b[0m \u001b[0m_MAXLINE\u001b[0m\u001b[0;34m:\u001b[0m\u001b[0;34m\u001b[0m\u001b[0m\n\u001b[1;32m    260\u001b[0m             \u001b[0;32mraise\u001b[0m \u001b[0mLineTooLong\u001b[0m\u001b[0;34m(\u001b[0m\u001b[0;34m\"status line\"\u001b[0m\u001b[0;34m)\u001b[0m\u001b[0;34m\u001b[0m\u001b[0m\n",
      "\u001b[0;32m/usr/lib/python3.6/socket.py\u001b[0m in \u001b[0;36mreadinto\u001b[0;34m(self, b)\u001b[0m\n\u001b[1;32m    584\u001b[0m         \u001b[0;32mwhile\u001b[0m \u001b[0;32mTrue\u001b[0m\u001b[0;34m:\u001b[0m\u001b[0;34m\u001b[0m\u001b[0m\n\u001b[1;32m    585\u001b[0m             \u001b[0;32mtry\u001b[0m\u001b[0;34m:\u001b[0m\u001b[0;34m\u001b[0m\u001b[0m\n\u001b[0;32m--> 586\u001b[0;31m                 \u001b[0;32mreturn\u001b[0m \u001b[0mself\u001b[0m\u001b[0;34m.\u001b[0m\u001b[0m_sock\u001b[0m\u001b[0;34m.\u001b[0m\u001b[0mrecv_into\u001b[0m\u001b[0;34m(\u001b[0m\u001b[0mb\u001b[0m\u001b[0;34m)\u001b[0m\u001b[0;34m\u001b[0m\u001b[0m\n\u001b[0m\u001b[1;32m    587\u001b[0m             \u001b[0;32mexcept\u001b[0m \u001b[0mtimeout\u001b[0m\u001b[0;34m:\u001b[0m\u001b[0;34m\u001b[0m\u001b[0m\n\u001b[1;32m    588\u001b[0m                 \u001b[0mself\u001b[0m\u001b[0;34m.\u001b[0m\u001b[0m_timeout_occurred\u001b[0m \u001b[0;34m=\u001b[0m \u001b[0;32mTrue\u001b[0m\u001b[0;34m\u001b[0m\u001b[0m\n",
      "\u001b[0;32m/usr/lib/python3.6/ssl.py\u001b[0m in \u001b[0;36mrecv_into\u001b[0;34m(self, buffer, nbytes, flags)\u001b[0m\n\u001b[1;32m   1007\u001b[0m                   \u001b[0;34m\"non-zero flags not allowed in calls to recv_into() on %s\"\u001b[0m \u001b[0;34m%\u001b[0m\u001b[0;34m\u001b[0m\u001b[0m\n\u001b[1;32m   1008\u001b[0m                   self.__class__)\n\u001b[0;32m-> 1009\u001b[0;31m             \u001b[0;32mreturn\u001b[0m \u001b[0mself\u001b[0m\u001b[0;34m.\u001b[0m\u001b[0mread\u001b[0m\u001b[0;34m(\u001b[0m\u001b[0mnbytes\u001b[0m\u001b[0;34m,\u001b[0m \u001b[0mbuffer\u001b[0m\u001b[0;34m)\u001b[0m\u001b[0;34m\u001b[0m\u001b[0m\n\u001b[0m\u001b[1;32m   1010\u001b[0m         \u001b[0;32melse\u001b[0m\u001b[0;34m:\u001b[0m\u001b[0;34m\u001b[0m\u001b[0m\n\u001b[1;32m   1011\u001b[0m             \u001b[0;32mreturn\u001b[0m \u001b[0msocket\u001b[0m\u001b[0;34m.\u001b[0m\u001b[0mrecv_into\u001b[0m\u001b[0;34m(\u001b[0m\u001b[0mself\u001b[0m\u001b[0;34m,\u001b[0m \u001b[0mbuffer\u001b[0m\u001b[0;34m,\u001b[0m \u001b[0mnbytes\u001b[0m\u001b[0;34m,\u001b[0m \u001b[0mflags\u001b[0m\u001b[0;34m)\u001b[0m\u001b[0;34m\u001b[0m\u001b[0m\n",
      "\u001b[0;32m/usr/lib/python3.6/ssl.py\u001b[0m in \u001b[0;36mread\u001b[0;34m(self, len, buffer)\u001b[0m\n\u001b[1;32m    869\u001b[0m             \u001b[0;32mraise\u001b[0m \u001b[0mValueError\u001b[0m\u001b[0;34m(\u001b[0m\u001b[0;34m\"Read on closed or unwrapped SSL socket.\"\u001b[0m\u001b[0;34m)\u001b[0m\u001b[0;34m\u001b[0m\u001b[0m\n\u001b[1;32m    870\u001b[0m         \u001b[0;32mtry\u001b[0m\u001b[0;34m:\u001b[0m\u001b[0;34m\u001b[0m\u001b[0m\n\u001b[0;32m--> 871\u001b[0;31m             \u001b[0;32mreturn\u001b[0m \u001b[0mself\u001b[0m\u001b[0;34m.\u001b[0m\u001b[0m_sslobj\u001b[0m\u001b[0;34m.\u001b[0m\u001b[0mread\u001b[0m\u001b[0;34m(\u001b[0m\u001b[0mlen\u001b[0m\u001b[0;34m,\u001b[0m \u001b[0mbuffer\u001b[0m\u001b[0;34m)\u001b[0m\u001b[0;34m\u001b[0m\u001b[0m\n\u001b[0m\u001b[1;32m    872\u001b[0m         \u001b[0;32mexcept\u001b[0m \u001b[0mSSLError\u001b[0m \u001b[0;32mas\u001b[0m \u001b[0mx\u001b[0m\u001b[0;34m:\u001b[0m\u001b[0;34m\u001b[0m\u001b[0m\n\u001b[1;32m    873\u001b[0m             \u001b[0;32mif\u001b[0m \u001b[0mx\u001b[0m\u001b[0;34m.\u001b[0m\u001b[0margs\u001b[0m\u001b[0;34m[\u001b[0m\u001b[0;36m0\u001b[0m\u001b[0;34m]\u001b[0m \u001b[0;34m==\u001b[0m \u001b[0mSSL_ERROR_EOF\u001b[0m \u001b[0;32mand\u001b[0m \u001b[0mself\u001b[0m\u001b[0;34m.\u001b[0m\u001b[0msuppress_ragged_eofs\u001b[0m\u001b[0;34m:\u001b[0m\u001b[0;34m\u001b[0m\u001b[0m\n",
      "\u001b[0;32m/usr/lib/python3.6/ssl.py\u001b[0m in \u001b[0;36mread\u001b[0;34m(self, len, buffer)\u001b[0m\n\u001b[1;32m    629\u001b[0m         \"\"\"\n\u001b[1;32m    630\u001b[0m         \u001b[0;32mif\u001b[0m \u001b[0mbuffer\u001b[0m \u001b[0;32mis\u001b[0m \u001b[0;32mnot\u001b[0m \u001b[0;32mNone\u001b[0m\u001b[0;34m:\u001b[0m\u001b[0;34m\u001b[0m\u001b[0m\n\u001b[0;32m--> 631\u001b[0;31m             \u001b[0mv\u001b[0m \u001b[0;34m=\u001b[0m \u001b[0mself\u001b[0m\u001b[0;34m.\u001b[0m\u001b[0m_sslobj\u001b[0m\u001b[0;34m.\u001b[0m\u001b[0mread\u001b[0m\u001b[0;34m(\u001b[0m\u001b[0mlen\u001b[0m\u001b[0;34m,\u001b[0m \u001b[0mbuffer\u001b[0m\u001b[0;34m)\u001b[0m\u001b[0;34m\u001b[0m\u001b[0m\n\u001b[0m\u001b[1;32m    632\u001b[0m         \u001b[0;32melse\u001b[0m\u001b[0;34m:\u001b[0m\u001b[0;34m\u001b[0m\u001b[0m\n\u001b[1;32m    633\u001b[0m             \u001b[0mv\u001b[0m \u001b[0;34m=\u001b[0m \u001b[0mself\u001b[0m\u001b[0;34m.\u001b[0m\u001b[0m_sslobj\u001b[0m\u001b[0;34m.\u001b[0m\u001b[0mread\u001b[0m\u001b[0;34m(\u001b[0m\u001b[0mlen\u001b[0m\u001b[0;34m)\u001b[0m\u001b[0;34m\u001b[0m\u001b[0m\n",
      "\u001b[0;31mKeyboardInterrupt\u001b[0m: "
     ]
    }
   ],
   "source": [
    "count = 0\n",
    "sub_df['ores_damaging_data'] = sub_df.apply(lambda row: get_from_ores_with_cache(\n",
    "    rev_ids=[d['rev_id'] for d in row['revisions_before_sim_treatment_50']],\n",
    "    model='damaging',\n",
    "    lang=row['lang']),\n",
    "    axis=1)"
   ]
  },
  {
   "cell_type": "code",
   "execution_count": null,
   "metadata": {},
   "outputs": [],
   "source": [
    "sub_df.to_pickle('checkpoints/sub_df_revs_ores_damaging_1.pickle')"
   ]
  },
  {
   "cell_type": "code",
   "execution_count": null,
   "metadata": {},
   "outputs": [],
   "source": [
    "sub_df = pd.read_pickle('checkpoints/sub_df_revs_ores_damaging_1.pickle')"
   ]
  },
  {
   "cell_type": "code",
   "execution_count": 64,
   "metadata": {},
   "outputs": [],
   "source": [
    "sub_df['num_non_damaging_pre_treatment'] = sub_df['ores_damaging_data'].apply(lambda d: len([pred for pred in d['ores_predictions'] if pred==False]))"
   ]
  },
  {
   "cell_type": "code",
   "execution_count": 65,
   "metadata": {},
   "outputs": [
    {
     "name": "stdout",
     "output_type": "stream",
     "text": [
      "500 2019-01-02 18:13:07.415406\n",
      "1000 2019-01-02 18:13:09.926986\n",
      "1500 2019-01-02 18:13:12.545171\n",
      "2000 2019-01-02 18:13:16.297151\n",
      "2500 2019-01-02 18:13:18.887905\n",
      "3000 2019-01-02 18:13:21.508176\n",
      "3500 2019-01-02 18:13:24.183539\n",
      "4000 2019-01-02 18:13:26.578702\n",
      "4500 2019-01-02 18:13:29.790718\n",
      "5000 2019-01-02 18:13:32.477090\n",
      "5500 2019-01-02 18:13:38.916299\n",
      "6000 2019-01-02 18:13:41.610775\n",
      "6500 2019-01-02 18:13:44.869551\n",
      "7000 2019-01-02 18:13:47.402148\n",
      "7500 2019-01-02 18:13:50.050935\n",
      "8000 2019-01-02 18:13:52.744106\n",
      "8500 2019-01-02 18:13:55.354054\n"
     ]
    }
   ],
   "source": [
    "count = 0\n",
    "sub_df['ores_goodfaith_data'] = sub_df.apply(lambda row: get_from_ores_with_cache(\n",
    "    rev_ids=[d['rev_id'] for d in row['revisions_before_sim_treatment_50']],\n",
    "    model='goodfaith',\n",
    "    lang=row['lang']),\n",
    "    axis=1)"
   ]
  },
  {
   "cell_type": "code",
   "execution_count": 66,
   "metadata": {},
   "outputs": [],
   "source": [
    "sub_df['num_goodfaith_pre_treatment'] = sub_df['ores_goodfaith_data'].apply(lambda d: len([pred for pred in d['ores_predictions'] if pred==True]))"
   ]
  },
  {
   "cell_type": "code",
   "execution_count": 67,
   "metadata": {},
   "outputs": [],
   "source": [
    "sub_df.to_pickle('checkpoints/sub_df_revs_ores_damaging_goodfaith_1.pickle')"
   ]
  },
  {
   "cell_type": "code",
   "execution_count": 68,
   "metadata": {},
   "outputs": [
    {
     "data": {
      "text/plain": [
       "12.482224035435365"
      ]
     },
     "execution_count": 68,
     "metadata": {},
     "output_type": "execute_result"
    }
   ],
   "source": [
    "sub_df['num_goodfaith_pre_treatment'].mean()"
   ]
  },
  {
   "cell_type": "code",
   "execution_count": 69,
   "metadata": {},
   "outputs": [
    {
     "data": {
      "text/plain": [
       "10.986595174262735"
      ]
     },
     "execution_count": 69,
     "metadata": {},
     "output_type": "execute_result"
    }
   ],
   "source": [
    "sub_df['num_non_damaging_pre_treatment'].mean()"
   ]
  },
  {
   "cell_type": "code",
   "execution_count": 70,
   "metadata": {},
   "outputs": [],
   "source": [
    "sub_df.to_pickle('checkpoints/sub_df_revs_ores_damaging_goodfaith_1.pickle')"
   ]
  },
  {
   "cell_type": "code",
   "execution_count": 73,
   "metadata": {},
   "outputs": [],
   "source": [
    "sub_df.to_pickle('checkpoints/sub_df_with_de_without_rev_data.pickle')"
   ]
  },
  {
   "cell_type": "markdown",
   "metadata": {},
   "source": [
    "# make data for batches for julia and co "
   ]
  },
  {
   "cell_type": "markdown",
   "metadata": {},
   "source": [
    "## now we split into the german and non-german sets\n",
    "\n",
    "### for the non-german,\n",
    "+ we'll get the 50 most recent edits, \n",
    "+ and pull the ORES data for them\n",
    "+ and continue\n",
    "\n",
    "### for the german,\n",
    "+ use the flagged revisions method"
   ]
  },
  {
   "cell_type": "code",
   "execution_count": 58,
   "metadata": {},
   "outputs": [],
   "source": [
    "sub_df = pd.read_pickle('checkpoints/sub_df_with_de_without_rev_data.pickle')"
   ]
  },
  {
   "cell_type": "code",
   "execution_count": 59,
   "metadata": {},
   "outputs": [],
   "source": [
    "sub_df_orig = sub_df.copy()"
   ]
  },
  {
   "cell_type": "code",
   "execution_count": 60,
   "metadata": {},
   "outputs": [],
   "source": [
    "sub_df_de = sub_df[sub_df['lang'] == 'de']\n",
    "\n",
    "sub_df = sub_df[sub_df['lang'] != 'de']"
   ]
  },
  {
   "cell_type": "code",
   "execution_count": 22,
   "metadata": {},
   "outputs": [],
   "source": [
    "#only active users\n",
    "batch_eligble = sub_df[sub_df['active_in_90_pre_treatment']==True]\n",
    "batch_eligble_de = sub_df_de[sub_df_de['active_in_90_pre_treatment']==True]"
   ]
  },
  {
   "cell_type": "code",
   "execution_count": 23,
   "metadata": {},
   "outputs": [
    {
     "data": {
      "text/html": [
       "<div>\n",
       "<style scoped>\n",
       "    .dataframe tbody tr th:only-of-type {\n",
       "        vertical-align: middle;\n",
       "    }\n",
       "\n",
       "    .dataframe tbody tr th {\n",
       "        vertical-align: top;\n",
       "    }\n",
       "\n",
       "    .dataframe thead th {\n",
       "        text-align: right;\n",
       "    }\n",
       "</style>\n",
       "<table border=\"1\" class=\"dataframe\">\n",
       "  <thead>\n",
       "    <tr style=\"text-align: right;\">\n",
       "      <th></th>\n",
       "      <th>user_id</th>\n",
       "      <th>user_registration</th>\n",
       "      <th>first_edit</th>\n",
       "      <th>last_edit</th>\n",
       "      <th>num_prev_thanks_before_treatment</th>\n",
       "      <th>active_in_30_pre_treatment</th>\n",
       "      <th>active_in_90_pre_treatment</th>\n",
       "      <th>experience_level_pre_treatment</th>\n",
       "    </tr>\n",
       "    <tr>\n",
       "      <th>lang</th>\n",
       "      <th></th>\n",
       "      <th></th>\n",
       "      <th></th>\n",
       "      <th></th>\n",
       "      <th></th>\n",
       "      <th></th>\n",
       "      <th></th>\n",
       "      <th></th>\n",
       "    </tr>\n",
       "  </thead>\n",
       "  <tbody>\n",
       "    <tr>\n",
       "      <th>ar</th>\n",
       "      <td>900</td>\n",
       "      <td>900</td>\n",
       "      <td>900</td>\n",
       "      <td>900</td>\n",
       "      <td>900.0</td>\n",
       "      <td>900</td>\n",
       "      <td>900</td>\n",
       "      <td>900</td>\n",
       "    </tr>\n",
       "    <tr>\n",
       "      <th>fa</th>\n",
       "      <td>900</td>\n",
       "      <td>900</td>\n",
       "      <td>900</td>\n",
       "      <td>900</td>\n",
       "      <td>900.0</td>\n",
       "      <td>900</td>\n",
       "      <td>900</td>\n",
       "      <td>900</td>\n",
       "    </tr>\n",
       "    <tr>\n",
       "      <th>pl</th>\n",
       "      <td>900</td>\n",
       "      <td>900</td>\n",
       "      <td>900</td>\n",
       "      <td>900</td>\n",
       "      <td>900.0</td>\n",
       "      <td>900</td>\n",
       "      <td>900</td>\n",
       "      <td>900</td>\n",
       "    </tr>\n",
       "  </tbody>\n",
       "</table>\n",
       "</div>"
      ],
      "text/plain": [
       "      user_id  user_registration  first_edit  last_edit  \\\n",
       "lang                                                      \n",
       "ar        900                900         900        900   \n",
       "fa        900                900         900        900   \n",
       "pl        900                900         900        900   \n",
       "\n",
       "      num_prev_thanks_before_treatment  active_in_30_pre_treatment  \\\n",
       "lang                                                                 \n",
       "ar                               900.0                         900   \n",
       "fa                               900.0                         900   \n",
       "pl                               900.0                         900   \n",
       "\n",
       "      active_in_90_pre_treatment  experience_level_pre_treatment  \n",
       "lang                                                              \n",
       "ar                           900                             900  \n",
       "fa                           900                             900  \n",
       "pl                           900                             900  "
      ]
     },
     "execution_count": 23,
     "metadata": {},
     "output_type": "execute_result"
    }
   ],
   "source": [
    "batch_eligble.groupby('lang').agg(len)"
   ]
  },
  {
   "cell_type": "code",
   "execution_count": 24,
   "metadata": {},
   "outputs": [
    {
     "name": "stderr",
     "output_type": "stream",
     "text": [
      "/srv/paws/lib/python3.6/site-packages/ipykernel_launcher.py:1: SettingWithCopyWarning: \n",
      "A value is trying to be set on a copy of a slice from a DataFrame.\n",
      "Try using .loc[row_indexer,col_indexer] = value instead\n",
      "\n",
      "See the caveats in the documentation: http://pandas.pydata.org/pandas-docs/stable/indexing.html#indexing-view-versus-copy\n",
      "  \"\"\"Entry point for launching an IPython kernel.\n",
      "/srv/paws/lib/python3.6/site-packages/ipykernel_launcher.py:2: SettingWithCopyWarning: \n",
      "A value is trying to be set on a copy of a slice from a DataFrame.\n",
      "Try using .loc[row_indexer,col_indexer] = value instead\n",
      "\n",
      "See the caveats in the documentation: http://pandas.pydata.org/pandas-docs/stable/indexing.html#indexing-view-versus-copy\n",
      "  \n"
     ]
    }
   ],
   "source": [
    "batch_eligble['newcomer_experienced'] = batch_eligble['experience_level_pre_treatment'].apply(lambda x: 'newcomer' if x=='bin_0' else 'experienced_90_days_plus')\n",
    "batch_eligble_de['newcomer_experienced'] = batch_eligble_de['experience_level_pre_treatment'].apply(lambda x: 'newcomer' if x=='bin_0' else 'experienced_90_days_plus')"
   ]
  },
  {
   "cell_type": "code",
   "execution_count": 25,
   "metadata": {},
   "outputs": [
    {
     "data": {
      "text/html": [
       "<div>\n",
       "<style scoped>\n",
       "    .dataframe tbody tr th:only-of-type {\n",
       "        vertical-align: middle;\n",
       "    }\n",
       "\n",
       "    .dataframe tbody tr th {\n",
       "        vertical-align: top;\n",
       "    }\n",
       "\n",
       "    .dataframe thead th {\n",
       "        text-align: right;\n",
       "    }\n",
       "</style>\n",
       "<table border=\"1\" class=\"dataframe\">\n",
       "  <thead>\n",
       "    <tr style=\"text-align: right;\">\n",
       "      <th></th>\n",
       "      <th></th>\n",
       "      <th>user_id</th>\n",
       "      <th>user_registration</th>\n",
       "      <th>first_edit</th>\n",
       "      <th>last_edit</th>\n",
       "      <th>num_prev_thanks_before_treatment</th>\n",
       "      <th>active_in_30_pre_treatment</th>\n",
       "      <th>active_in_90_pre_treatment</th>\n",
       "      <th>experience_level_pre_treatment</th>\n",
       "    </tr>\n",
       "    <tr>\n",
       "      <th>lang</th>\n",
       "      <th>newcomer_experienced</th>\n",
       "      <th></th>\n",
       "      <th></th>\n",
       "      <th></th>\n",
       "      <th></th>\n",
       "      <th></th>\n",
       "      <th></th>\n",
       "      <th></th>\n",
       "      <th></th>\n",
       "    </tr>\n",
       "  </thead>\n",
       "  <tbody>\n",
       "    <tr>\n",
       "      <th rowspan=\"2\" valign=\"top\">ar</th>\n",
       "      <th>experienced_90_days_plus</th>\n",
       "      <td>600</td>\n",
       "      <td>600</td>\n",
       "      <td>600</td>\n",
       "      <td>600</td>\n",
       "      <td>600.0</td>\n",
       "      <td>600</td>\n",
       "      <td>600</td>\n",
       "      <td>600</td>\n",
       "    </tr>\n",
       "    <tr>\n",
       "      <th>newcomer</th>\n",
       "      <td>300</td>\n",
       "      <td>300</td>\n",
       "      <td>300</td>\n",
       "      <td>300</td>\n",
       "      <td>300.0</td>\n",
       "      <td>300</td>\n",
       "      <td>300</td>\n",
       "      <td>300</td>\n",
       "    </tr>\n",
       "    <tr>\n",
       "      <th rowspan=\"2\" valign=\"top\">fa</th>\n",
       "      <th>experienced_90_days_plus</th>\n",
       "      <td>600</td>\n",
       "      <td>600</td>\n",
       "      <td>600</td>\n",
       "      <td>600</td>\n",
       "      <td>600.0</td>\n",
       "      <td>600</td>\n",
       "      <td>600</td>\n",
       "      <td>600</td>\n",
       "    </tr>\n",
       "    <tr>\n",
       "      <th>newcomer</th>\n",
       "      <td>300</td>\n",
       "      <td>300</td>\n",
       "      <td>300</td>\n",
       "      <td>300</td>\n",
       "      <td>300.0</td>\n",
       "      <td>300</td>\n",
       "      <td>300</td>\n",
       "      <td>300</td>\n",
       "    </tr>\n",
       "    <tr>\n",
       "      <th rowspan=\"2\" valign=\"top\">pl</th>\n",
       "      <th>experienced_90_days_plus</th>\n",
       "      <td>600</td>\n",
       "      <td>600</td>\n",
       "      <td>600</td>\n",
       "      <td>600</td>\n",
       "      <td>600.0</td>\n",
       "      <td>600</td>\n",
       "      <td>600</td>\n",
       "      <td>600</td>\n",
       "    </tr>\n",
       "    <tr>\n",
       "      <th>newcomer</th>\n",
       "      <td>300</td>\n",
       "      <td>300</td>\n",
       "      <td>300</td>\n",
       "      <td>300</td>\n",
       "      <td>300.0</td>\n",
       "      <td>300</td>\n",
       "      <td>300</td>\n",
       "      <td>300</td>\n",
       "    </tr>\n",
       "  </tbody>\n",
       "</table>\n",
       "</div>"
      ],
      "text/plain": [
       "                               user_id  user_registration  first_edit  \\\n",
       "lang newcomer_experienced                                               \n",
       "ar   experienced_90_days_plus      600                600         600   \n",
       "     newcomer                      300                300         300   \n",
       "fa   experienced_90_days_plus      600                600         600   \n",
       "     newcomer                      300                300         300   \n",
       "pl   experienced_90_days_plus      600                600         600   \n",
       "     newcomer                      300                300         300   \n",
       "\n",
       "                               last_edit  num_prev_thanks_before_treatment  \\\n",
       "lang newcomer_experienced                                                    \n",
       "ar   experienced_90_days_plus        600                             600.0   \n",
       "     newcomer                        300                             300.0   \n",
       "fa   experienced_90_days_plus        600                             600.0   \n",
       "     newcomer                        300                             300.0   \n",
       "pl   experienced_90_days_plus        600                             600.0   \n",
       "     newcomer                        300                             300.0   \n",
       "\n",
       "                               active_in_30_pre_treatment  \\\n",
       "lang newcomer_experienced                                   \n",
       "ar   experienced_90_days_plus                         600   \n",
       "     newcomer                                         300   \n",
       "fa   experienced_90_days_plus                         600   \n",
       "     newcomer                                         300   \n",
       "pl   experienced_90_days_plus                         600   \n",
       "     newcomer                                         300   \n",
       "\n",
       "                               active_in_90_pre_treatment  \\\n",
       "lang newcomer_experienced                                   \n",
       "ar   experienced_90_days_plus                         600   \n",
       "     newcomer                                         300   \n",
       "fa   experienced_90_days_plus                         600   \n",
       "     newcomer                                         300   \n",
       "pl   experienced_90_days_plus                         600   \n",
       "     newcomer                                         300   \n",
       "\n",
       "                               experience_level_pre_treatment  \n",
       "lang newcomer_experienced                                      \n",
       "ar   experienced_90_days_plus                             600  \n",
       "     newcomer                                             300  \n",
       "fa   experienced_90_days_plus                             600  \n",
       "     newcomer                                             300  \n",
       "pl   experienced_90_days_plus                             600  \n",
       "     newcomer                                             300  "
      ]
     },
     "execution_count": 25,
     "metadata": {},
     "output_type": "execute_result"
    }
   ],
   "source": [
    "batch_eligble.groupby(by=['lang','newcomer_experienced']).agg(len)"
   ]
  },
  {
   "cell_type": "code",
   "execution_count": 26,
   "metadata": {},
   "outputs": [
    {
     "data": {
      "text/html": [
       "<div>\n",
       "<style scoped>\n",
       "    .dataframe tbody tr th:only-of-type {\n",
       "        vertical-align: middle;\n",
       "    }\n",
       "\n",
       "    .dataframe tbody tr th {\n",
       "        vertical-align: top;\n",
       "    }\n",
       "\n",
       "    .dataframe thead th {\n",
       "        text-align: right;\n",
       "    }\n",
       "</style>\n",
       "<table border=\"1\" class=\"dataframe\">\n",
       "  <thead>\n",
       "    <tr style=\"text-align: right;\">\n",
       "      <th></th>\n",
       "      <th></th>\n",
       "      <th>user_id</th>\n",
       "      <th>user_registration</th>\n",
       "      <th>first_edit</th>\n",
       "      <th>last_edit</th>\n",
       "      <th>num_prev_thanks_before_treatment</th>\n",
       "      <th>active_in_30_pre_treatment</th>\n",
       "      <th>active_in_90_pre_treatment</th>\n",
       "      <th>experience_level_pre_treatment</th>\n",
       "    </tr>\n",
       "    <tr>\n",
       "      <th>lang</th>\n",
       "      <th>newcomer_experienced</th>\n",
       "      <th></th>\n",
       "      <th></th>\n",
       "      <th></th>\n",
       "      <th></th>\n",
       "      <th></th>\n",
       "      <th></th>\n",
       "      <th></th>\n",
       "      <th></th>\n",
       "    </tr>\n",
       "  </thead>\n",
       "  <tbody>\n",
       "    <tr>\n",
       "      <th rowspan=\"2\" valign=\"top\">de</th>\n",
       "      <th>experienced_90_days_plus</th>\n",
       "      <td>600</td>\n",
       "      <td>600</td>\n",
       "      <td>600</td>\n",
       "      <td>600</td>\n",
       "      <td>600.0</td>\n",
       "      <td>600</td>\n",
       "      <td>600</td>\n",
       "      <td>600</td>\n",
       "    </tr>\n",
       "    <tr>\n",
       "      <th>newcomer</th>\n",
       "      <td>300</td>\n",
       "      <td>300</td>\n",
       "      <td>300</td>\n",
       "      <td>300</td>\n",
       "      <td>300.0</td>\n",
       "      <td>300</td>\n",
       "      <td>300</td>\n",
       "      <td>300</td>\n",
       "    </tr>\n",
       "  </tbody>\n",
       "</table>\n",
       "</div>"
      ],
      "text/plain": [
       "                               user_id  user_registration  first_edit  \\\n",
       "lang newcomer_experienced                                               \n",
       "de   experienced_90_days_plus      600                600         600   \n",
       "     newcomer                      300                300         300   \n",
       "\n",
       "                               last_edit  num_prev_thanks_before_treatment  \\\n",
       "lang newcomer_experienced                                                    \n",
       "de   experienced_90_days_plus        600                             600.0   \n",
       "     newcomer                        300                             300.0   \n",
       "\n",
       "                               active_in_30_pre_treatment  \\\n",
       "lang newcomer_experienced                                   \n",
       "de   experienced_90_days_plus                         600   \n",
       "     newcomer                                         300   \n",
       "\n",
       "                               active_in_90_pre_treatment  \\\n",
       "lang newcomer_experienced                                   \n",
       "de   experienced_90_days_plus                         600   \n",
       "     newcomer                                         300   \n",
       "\n",
       "                               experience_level_pre_treatment  \n",
       "lang newcomer_experienced                                      \n",
       "de   experienced_90_days_plus                             600  \n",
       "     newcomer                                             300  "
      ]
     },
     "execution_count": 26,
     "metadata": {},
     "output_type": "execute_result"
    }
   ],
   "source": [
    "batch_eligble_de.groupby(by=['lang','newcomer_experienced']).agg(len)"
   ]
  },
  {
   "cell_type": "code",
   "execution_count": 27,
   "metadata": {},
   "outputs": [],
   "source": [
    "batches = batch_eligble.groupby(by=['lang','newcomer_experienced']).apply(lambda df: df.sample(n=200))\n",
    "batches_de = batch_eligble_de.groupby(by=['lang','newcomer_experienced']).apply(lambda df: df.sample(n=200))"
   ]
  },
  {
   "cell_type": "code",
   "execution_count": 25,
   "metadata": {},
   "outputs": [
    {
     "name": "stderr",
     "output_type": "stream",
     "text": [
      "/srv/paws/lib/python3.6/site-packages/ipykernel_launcher.py:1: FutureWarning: 'lang' is both an index level and a column label.\n",
      "Defaulting to column, but this will raise an ambiguity error in a future version\n",
      "  \"\"\"Entry point for launching an IPython kernel.\n"
     ]
    },
    {
     "data": {
      "text/html": [
       "<div>\n",
       "<style scoped>\n",
       "    .dataframe tbody tr th:only-of-type {\n",
       "        vertical-align: middle;\n",
       "    }\n",
       "\n",
       "    .dataframe tbody tr th {\n",
       "        vertical-align: top;\n",
       "    }\n",
       "\n",
       "    .dataframe thead th {\n",
       "        text-align: right;\n",
       "    }\n",
       "</style>\n",
       "<table border=\"1\" class=\"dataframe\">\n",
       "  <thead>\n",
       "    <tr style=\"text-align: right;\">\n",
       "      <th></th>\n",
       "      <th>user_id</th>\n",
       "      <th>user_registration</th>\n",
       "      <th>first_edit</th>\n",
       "      <th>last_edit</th>\n",
       "      <th>num_prev_thanks_before_treatment</th>\n",
       "      <th>active_in_30_pre_treatment</th>\n",
       "      <th>active_in_90_pre_treatment</th>\n",
       "      <th>experience_level_pre_treatment</th>\n",
       "      <th>newcomer_experienced</th>\n",
       "    </tr>\n",
       "    <tr>\n",
       "      <th>lang</th>\n",
       "      <th></th>\n",
       "      <th></th>\n",
       "      <th></th>\n",
       "      <th></th>\n",
       "      <th></th>\n",
       "      <th></th>\n",
       "      <th></th>\n",
       "      <th></th>\n",
       "      <th></th>\n",
       "    </tr>\n",
       "  </thead>\n",
       "  <tbody>\n",
       "    <tr>\n",
       "      <th>ar</th>\n",
       "      <td>400</td>\n",
       "      <td>400</td>\n",
       "      <td>400</td>\n",
       "      <td>400</td>\n",
       "      <td>400.0</td>\n",
       "      <td>400</td>\n",
       "      <td>400</td>\n",
       "      <td>400</td>\n",
       "      <td>400</td>\n",
       "    </tr>\n",
       "    <tr>\n",
       "      <th>fa</th>\n",
       "      <td>400</td>\n",
       "      <td>400</td>\n",
       "      <td>400</td>\n",
       "      <td>400</td>\n",
       "      <td>400.0</td>\n",
       "      <td>400</td>\n",
       "      <td>400</td>\n",
       "      <td>400</td>\n",
       "      <td>400</td>\n",
       "    </tr>\n",
       "    <tr>\n",
       "      <th>pl</th>\n",
       "      <td>400</td>\n",
       "      <td>400</td>\n",
       "      <td>400</td>\n",
       "      <td>400</td>\n",
       "      <td>400.0</td>\n",
       "      <td>400</td>\n",
       "      <td>400</td>\n",
       "      <td>400</td>\n",
       "      <td>400</td>\n",
       "    </tr>\n",
       "  </tbody>\n",
       "</table>\n",
       "</div>"
      ],
      "text/plain": [
       "      user_id  user_registration  first_edit  last_edit  \\\n",
       "lang                                                      \n",
       "ar        400                400         400        400   \n",
       "fa        400                400         400        400   \n",
       "pl        400                400         400        400   \n",
       "\n",
       "      num_prev_thanks_before_treatment  active_in_30_pre_treatment  \\\n",
       "lang                                                                 \n",
       "ar                               400.0                         400   \n",
       "fa                               400.0                         400   \n",
       "pl                               400.0                         400   \n",
       "\n",
       "      active_in_90_pre_treatment  experience_level_pre_treatment  \\\n",
       "lang                                                               \n",
       "ar                           400                             400   \n",
       "fa                           400                             400   \n",
       "pl                           400                             400   \n",
       "\n",
       "      newcomer_experienced  \n",
       "lang                        \n",
       "ar                     400  \n",
       "fa                     400  \n",
       "pl                     400  "
      ]
     },
     "execution_count": 25,
     "metadata": {},
     "output_type": "execute_result"
    }
   ],
   "source": [
    "batches.groupby('lang').agg(len)"
   ]
  },
  {
   "cell_type": "code",
   "execution_count": 26,
   "metadata": {
    "scrolled": true
   },
   "outputs": [
    {
     "name": "stderr",
     "output_type": "stream",
     "text": [
      "/srv/paws/lib/python3.6/site-packages/_pytest/mark/structures.py:284: DeprecationWarning: The `convert` argument is deprecated in favor of `converter`.  It will be removed after 2019/01.\n",
      "  _marks = attr.ib(convert=list)\n"
     ]
    },
    {
     "ename": "NameError",
     "evalue": "(\"name 'get_50_edits_before_sim_treatment' is not defined\", 'occurred at index (ar, experienced_90_days_plus, 1126411)')",
     "output_type": "error",
     "traceback": [
      "\u001b[0;31m---------------------------------------------------------------------------\u001b[0m",
      "\u001b[0;31mNameError\u001b[0m                                 Traceback (most recent call last)",
      "\u001b[0;32m<ipython-input-26-73577b84a6c6>\u001b[0m in \u001b[0;36m<module>\u001b[0;34m()\u001b[0m\n\u001b[0;32m----> 1\u001b[0;31m \u001b[0mbatches\u001b[0m\u001b[0;34m[\u001b[0m\u001b[0;34m'revisions_before_sim_treatment_50'\u001b[0m\u001b[0;34m]\u001b[0m \u001b[0;34m=\u001b[0m \u001b[0mbatches\u001b[0m\u001b[0;34m.\u001b[0m\u001b[0mapply\u001b[0m\u001b[0;34m(\u001b[0m\u001b[0;32mlambda\u001b[0m \u001b[0mrow\u001b[0m\u001b[0;34m:\u001b[0m \u001b[0mget_50_edits_before_sim_treatment\u001b[0m\u001b[0;34m(\u001b[0m\u001b[0mrow\u001b[0m\u001b[0;34m[\u001b[0m\u001b[0;34m'user_id'\u001b[0m\u001b[0;34m]\u001b[0m\u001b[0;34m,\u001b[0m \u001b[0mrow\u001b[0m\u001b[0;34m[\u001b[0m\u001b[0;34m'lang'\u001b[0m\u001b[0;34m]\u001b[0m\u001b[0;34m)\u001b[0m\u001b[0;34m,\u001b[0m \u001b[0maxis\u001b[0m\u001b[0;34m=\u001b[0m\u001b[0;36m1\u001b[0m\u001b[0;34m)\u001b[0m\u001b[0;34m\u001b[0m\u001b[0m\n\u001b[0m",
      "\u001b[0;32m/srv/paws/lib/python3.6/site-packages/pandas/core/frame.py\u001b[0m in \u001b[0;36mapply\u001b[0;34m(self, func, axis, broadcast, raw, reduce, result_type, args, **kwds)\u001b[0m\n\u001b[1;32m   6012\u001b[0m                          \u001b[0margs\u001b[0m\u001b[0;34m=\u001b[0m\u001b[0margs\u001b[0m\u001b[0;34m,\u001b[0m\u001b[0;34m\u001b[0m\u001b[0m\n\u001b[1;32m   6013\u001b[0m                          kwds=kwds)\n\u001b[0;32m-> 6014\u001b[0;31m         \u001b[0;32mreturn\u001b[0m \u001b[0mop\u001b[0m\u001b[0;34m.\u001b[0m\u001b[0mget_result\u001b[0m\u001b[0;34m(\u001b[0m\u001b[0;34m)\u001b[0m\u001b[0;34m\u001b[0m\u001b[0m\n\u001b[0m\u001b[1;32m   6015\u001b[0m \u001b[0;34m\u001b[0m\u001b[0m\n\u001b[1;32m   6016\u001b[0m     \u001b[0;32mdef\u001b[0m \u001b[0mapplymap\u001b[0m\u001b[0;34m(\u001b[0m\u001b[0mself\u001b[0m\u001b[0;34m,\u001b[0m \u001b[0mfunc\u001b[0m\u001b[0;34m)\u001b[0m\u001b[0;34m:\u001b[0m\u001b[0;34m\u001b[0m\u001b[0m\n",
      "\u001b[0;32m/srv/paws/lib/python3.6/site-packages/pandas/core/apply.py\u001b[0m in \u001b[0;36mget_result\u001b[0;34m(self)\u001b[0m\n\u001b[1;32m    140\u001b[0m             \u001b[0;32mreturn\u001b[0m \u001b[0mself\u001b[0m\u001b[0;34m.\u001b[0m\u001b[0mapply_raw\u001b[0m\u001b[0;34m(\u001b[0m\u001b[0;34m)\u001b[0m\u001b[0;34m\u001b[0m\u001b[0m\n\u001b[1;32m    141\u001b[0m \u001b[0;34m\u001b[0m\u001b[0m\n\u001b[0;32m--> 142\u001b[0;31m         \u001b[0;32mreturn\u001b[0m \u001b[0mself\u001b[0m\u001b[0;34m.\u001b[0m\u001b[0mapply_standard\u001b[0m\u001b[0;34m(\u001b[0m\u001b[0;34m)\u001b[0m\u001b[0;34m\u001b[0m\u001b[0m\n\u001b[0m\u001b[1;32m    143\u001b[0m \u001b[0;34m\u001b[0m\u001b[0m\n\u001b[1;32m    144\u001b[0m     \u001b[0;32mdef\u001b[0m \u001b[0mapply_empty_result\u001b[0m\u001b[0;34m(\u001b[0m\u001b[0mself\u001b[0m\u001b[0;34m)\u001b[0m\u001b[0;34m:\u001b[0m\u001b[0;34m\u001b[0m\u001b[0m\n",
      "\u001b[0;32m/srv/paws/lib/python3.6/site-packages/pandas/core/apply.py\u001b[0m in \u001b[0;36mapply_standard\u001b[0;34m(self)\u001b[0m\n\u001b[1;32m    246\u001b[0m \u001b[0;34m\u001b[0m\u001b[0m\n\u001b[1;32m    247\u001b[0m         \u001b[0;31m# compute the result using the series generator\u001b[0m\u001b[0;34m\u001b[0m\u001b[0;34m\u001b[0m\u001b[0m\n\u001b[0;32m--> 248\u001b[0;31m         \u001b[0mself\u001b[0m\u001b[0;34m.\u001b[0m\u001b[0mapply_series_generator\u001b[0m\u001b[0;34m(\u001b[0m\u001b[0;34m)\u001b[0m\u001b[0;34m\u001b[0m\u001b[0m\n\u001b[0m\u001b[1;32m    249\u001b[0m \u001b[0;34m\u001b[0m\u001b[0m\n\u001b[1;32m    250\u001b[0m         \u001b[0;31m# wrap results\u001b[0m\u001b[0;34m\u001b[0m\u001b[0;34m\u001b[0m\u001b[0m\n",
      "\u001b[0;32m/srv/paws/lib/python3.6/site-packages/pandas/core/apply.py\u001b[0m in \u001b[0;36mapply_series_generator\u001b[0;34m(self)\u001b[0m\n\u001b[1;32m    275\u001b[0m             \u001b[0;32mtry\u001b[0m\u001b[0;34m:\u001b[0m\u001b[0;34m\u001b[0m\u001b[0m\n\u001b[1;32m    276\u001b[0m                 \u001b[0;32mfor\u001b[0m \u001b[0mi\u001b[0m\u001b[0;34m,\u001b[0m \u001b[0mv\u001b[0m \u001b[0;32min\u001b[0m \u001b[0menumerate\u001b[0m\u001b[0;34m(\u001b[0m\u001b[0mseries_gen\u001b[0m\u001b[0;34m)\u001b[0m\u001b[0;34m:\u001b[0m\u001b[0;34m\u001b[0m\u001b[0m\n\u001b[0;32m--> 277\u001b[0;31m                     \u001b[0mresults\u001b[0m\u001b[0;34m[\u001b[0m\u001b[0mi\u001b[0m\u001b[0;34m]\u001b[0m \u001b[0;34m=\u001b[0m \u001b[0mself\u001b[0m\u001b[0;34m.\u001b[0m\u001b[0mf\u001b[0m\u001b[0;34m(\u001b[0m\u001b[0mv\u001b[0m\u001b[0;34m)\u001b[0m\u001b[0;34m\u001b[0m\u001b[0m\n\u001b[0m\u001b[1;32m    278\u001b[0m                     \u001b[0mkeys\u001b[0m\u001b[0;34m.\u001b[0m\u001b[0mappend\u001b[0m\u001b[0;34m(\u001b[0m\u001b[0mv\u001b[0m\u001b[0;34m.\u001b[0m\u001b[0mname\u001b[0m\u001b[0;34m)\u001b[0m\u001b[0;34m\u001b[0m\u001b[0m\n\u001b[1;32m    279\u001b[0m             \u001b[0;32mexcept\u001b[0m \u001b[0mException\u001b[0m \u001b[0;32mas\u001b[0m \u001b[0me\u001b[0m\u001b[0;34m:\u001b[0m\u001b[0;34m\u001b[0m\u001b[0m\n",
      "\u001b[0;32m<ipython-input-26-73577b84a6c6>\u001b[0m in \u001b[0;36m<lambda>\u001b[0;34m(row)\u001b[0m\n\u001b[0;32m----> 1\u001b[0;31m \u001b[0mbatches\u001b[0m\u001b[0;34m[\u001b[0m\u001b[0;34m'revisions_before_sim_treatment_50'\u001b[0m\u001b[0;34m]\u001b[0m \u001b[0;34m=\u001b[0m \u001b[0mbatches\u001b[0m\u001b[0;34m.\u001b[0m\u001b[0mapply\u001b[0m\u001b[0;34m(\u001b[0m\u001b[0;32mlambda\u001b[0m \u001b[0mrow\u001b[0m\u001b[0;34m:\u001b[0m \u001b[0mget_50_edits_before_sim_treatment\u001b[0m\u001b[0;34m(\u001b[0m\u001b[0mrow\u001b[0m\u001b[0;34m[\u001b[0m\u001b[0;34m'user_id'\u001b[0m\u001b[0;34m]\u001b[0m\u001b[0;34m,\u001b[0m \u001b[0mrow\u001b[0m\u001b[0;34m[\u001b[0m\u001b[0;34m'lang'\u001b[0m\u001b[0;34m]\u001b[0m\u001b[0;34m)\u001b[0m\u001b[0;34m,\u001b[0m \u001b[0maxis\u001b[0m\u001b[0;34m=\u001b[0m\u001b[0;36m1\u001b[0m\u001b[0;34m)\u001b[0m\u001b[0;34m\u001b[0m\u001b[0m\n\u001b[0m",
      "\u001b[0;31mNameError\u001b[0m: (\"name 'get_50_edits_before_sim_treatment' is not defined\", 'occurred at index (ar, experienced_90_days_plus, 1126411)')"
     ]
    }
   ],
   "source": [
    "batches['revisions_before_sim_treatment_50'] = batches.apply(lambda row: get_50_edits_before_sim_treatment(row['user_id'], row['lang']), axis=1)"
   ]
  },
  {
   "cell_type": "code",
   "execution_count": 90,
   "metadata": {},
   "outputs": [
    {
     "name": "stdout",
     "output_type": "stream",
     "text": [
      "100 2019-01-25 19:45:56.888569\n",
      "200 2019-01-25 19:54:30.186129\n",
      "300 2019-01-25 19:57:14.614988\n",
      "400 2019-01-25 19:59:57.961841\n",
      "500 2019-01-25 20:19:22.782647\n",
      "600 2019-01-25 20:36:59.953176\n",
      "700 2019-01-25 20:41:11.115816\n",
      "800 2019-01-25 20:45:24.627147\n",
      "900 2019-01-25 21:09:27.842937\n",
      "1000 2019-01-25 21:32:38.262411\n",
      "1100 2019-01-25 21:37:44.614759\n",
      "1200 2019-01-25 21:41:22.858348\n",
      "100 2019-01-25 21:53:29.286777\n",
      "200 2019-01-25 22:04:46.212997\n",
      "300 2019-01-25 22:07:23.850887\n",
      "400 2019-01-25 22:09:59.334282\n",
      "500 2019-01-25 22:28:15.727214\n",
      "600 2019-01-25 22:44:53.941579\n",
      "700 2019-01-25 22:48:55.221495\n",
      "800 2019-01-25 22:52:48.922020\n",
      "900 2019-01-25 23:17:30.498351\n",
      "1000 2019-01-25 23:41:25.732307\n",
      "1100 2019-01-25 23:46:37.166602\n",
      "1200 2019-01-25 23:50:28.413052\n"
     ]
    }
   ],
   "source": [
    "count = 0\n",
    "batches['ores_damaging_data'] = batches.apply(lambda row: get_from_ores_with_cache(\n",
    "    rev_ids=[d['rev_id'] for d in row['revisions_before_sim_treatment_50']],\n",
    "    model='damaging',\n",
    "    lang=row['lang']),\n",
    "    axis=1)\n",
    "count = 0\n",
    "batches['ores_goodfaith_data'] = batches.apply(lambda row: get_from_ores_with_cache(\n",
    "    rev_ids=[d['rev_id'] for d in row['revisions_before_sim_treatment_50']],\n",
    "    model='goodfaith',\n",
    "    lang=row['lang']),\n",
    "    axis=1)"
   ]
  },
  {
   "cell_type": "markdown",
   "metadata": {},
   "source": [
    "## now we need to go to batches row-oriented"
   ]
  },
  {
   "cell_type": "code",
   "execution_count": 15,
   "metadata": {},
   "outputs": [],
   "source": [
    "def max_17_edits_of_user(user_df):\n",
    "    batch_edits_dfs = []\n",
    "    rev_df = pd.DataFrame.from_dict(user_df['revisions_before_sim_treatment_50'].iloc[0])\n",
    "    ores_damaging_scores = user_df['ores_damaging_data'].apply(lambda d:d['ores_scores']).values[0]\n",
    "    ores_damaging_predictions = user_df['ores_damaging_data'].apply(lambda d:d['ores_predictions']).values[0]\n",
    "    ores_goodfaith_scores = user_df['ores_goodfaith_data'].apply(lambda d:d['ores_scores']).values[0]\n",
    "    ores_goodfaith_predictions = user_df['ores_goodfaith_data'].apply(lambda d:d['ores_predictions']).values[0]\n",
    "    try:\n",
    "        rev_df['ores_damaging_scores'] = ores_damaging_scores\n",
    "        rev_df['ores_damaging_predictions'] = ores_damaging_predictions\n",
    "        rev_df['ores_goodfaith_scores'] = ores_goodfaith_scores\n",
    "        rev_df['ores_goodfaith_predictions'] = ores_goodfaith_predictions\n",
    "    except ValueError: #occurs from some temporal mismatch where there are more ores data than revisions maybe some were deleted\n",
    "        return None #skip this user\n",
    "\n",
    "    rev_df = rev_df[rev_df['ores_damaging_predictions']==False]\n",
    "    rev_df = rev_df[rev_df['ores_goodfaith_predictions']==True]\n",
    "     \n",
    "    # even namespaces\n",
    "    # Limit to non-talk pages\n",
    "    rev_df = rev_df[rev_df['page_namespace'].apply(lambda ns: ns%2==0)]\n",
    "    # Limit to 17\n",
    "    rev_df = rev_df.iloc[:17]\n",
    "    \n",
    "    if len(rev_df)==0:\n",
    "        print('no nondamaging goodfaith for user: {}'.format(user_df['user_id'][0]))\n",
    "        return None\n",
    "    for row in rev_df.iterrows():\n",
    "        edit_df = user_df.copy()\n",
    "        edit_df['rev_id'] = row[1]['rev_id']\n",
    "        edit_df['rev_timestamp'] = row[1]['rev_timestamp']\n",
    "        edit_df['ores_damaging_score'] = row[1]['ores_damaging_scores']\n",
    "        edit_df['ores_damaging_prediction'] = row[1]['ores_damaging_predictions']\n",
    "        edit_df['ores_goodfaith_score'] = row[1]['ores_goodfaith_scores']\n",
    "        edit_df['ores_goodfaith_prediction'] = row[1]['ores_goodfaith_predictions']\n",
    "        edit_df['page_namespace'] = row[1]['page_namespace']\n",
    "\n",
    "        batch_edits_dfs.append(edit_df)\n",
    "    return pd.concat(batch_edits_dfs)"
   ]
  },
  {
   "cell_type": "code",
   "execution_count": 92,
   "metadata": {},
   "outputs": [
    {
     "name": "stdout",
     "output_type": "stream",
     "text": [
      "no nondamaging goodfaith for user: 136010\n",
      "no nondamaging goodfaith for user: 246671\n",
      "no nondamaging goodfaith for user: 246999\n",
      "no nondamaging goodfaith for user: 254692\n",
      "no nondamaging goodfaith for user: 350808\n",
      "no nondamaging goodfaith for user: 549112\n",
      "no nondamaging goodfaith for user: 584387\n",
      "no nondamaging goodfaith for user: 612827\n",
      "no nondamaging goodfaith for user: 614517\n",
      "no nondamaging goodfaith for user: 637519\n",
      "no nondamaging goodfaith for user: 638685\n",
      "no nondamaging goodfaith for user: 651776\n",
      "no nondamaging goodfaith for user: 652921\n",
      "no nondamaging goodfaith for user: 652982\n",
      "no nondamaging goodfaith for user: 656029\n",
      "no nondamaging goodfaith for user: 662661\n",
      "no nondamaging goodfaith for user: 670982\n",
      "no nondamaging goodfaith for user: 672403\n",
      "no nondamaging goodfaith for user: 674752\n",
      "no nondamaging goodfaith for user: 676379\n",
      "no nondamaging goodfaith for user: 678274\n",
      "no nondamaging goodfaith for user: 681900\n",
      "no nondamaging goodfaith for user: 682147\n",
      "no nondamaging goodfaith for user: 687348\n",
      "no nondamaging goodfaith for user: 689971\n",
      "no nondamaging goodfaith for user: 691872\n",
      "no nondamaging goodfaith for user: 692715\n",
      "no nondamaging goodfaith for user: 695834\n",
      "no nondamaging goodfaith for user: 696656\n",
      "no nondamaging goodfaith for user: 696991\n",
      "no nondamaging goodfaith for user: 697122\n",
      "no nondamaging goodfaith for user: 697211\n",
      "no nondamaging goodfaith for user: 697398\n",
      "no nondamaging goodfaith for user: 697453\n",
      "no nondamaging goodfaith for user: 697557\n",
      "no nondamaging goodfaith for user: 697664\n",
      "no nondamaging goodfaith for user: 697783\n",
      "no nondamaging goodfaith for user: 698392\n",
      "no nondamaging goodfaith for user: 698493\n",
      "no nondamaging goodfaith for user: 698879\n",
      "no nondamaging goodfaith for user: 698934\n",
      "no nondamaging goodfaith for user: 699201\n",
      "no nondamaging goodfaith for user: 699233\n",
      "no nondamaging goodfaith for user: 699404\n",
      "no nondamaging goodfaith for user: 699471\n",
      "no nondamaging goodfaith for user: 699531\n",
      "no nondamaging goodfaith for user: 699570\n",
      "no nondamaging goodfaith for user: 699592\n",
      "no nondamaging goodfaith for user: 699669\n",
      "no nondamaging goodfaith for user: 699699\n",
      "no nondamaging goodfaith for user: 700109\n",
      "no nondamaging goodfaith for user: 700140\n",
      "no nondamaging goodfaith for user: 700516\n",
      "no nondamaging goodfaith for user: 700826\n",
      "no nondamaging goodfaith for user: 701229\n",
      "no nondamaging goodfaith for user: 701399\n",
      "no nondamaging goodfaith for user: 701404\n",
      "no nondamaging goodfaith for user: 701472\n",
      "no nondamaging goodfaith for user: 701494\n",
      "no nondamaging goodfaith for user: 701506\n",
      "no nondamaging goodfaith for user: 701632\n",
      "no nondamaging goodfaith for user: 701810\n",
      "no nondamaging goodfaith for user: 701876\n",
      "no nondamaging goodfaith for user: 702023\n",
      "no nondamaging goodfaith for user: 702134\n",
      "no nondamaging goodfaith for user: 702189\n",
      "no nondamaging goodfaith for user: 702294\n",
      "no nondamaging goodfaith for user: 702312\n",
      "no nondamaging goodfaith for user: 702449\n",
      "no nondamaging goodfaith for user: 702519\n",
      "no nondamaging goodfaith for user: 703000\n",
      "no nondamaging goodfaith for user: 703308\n",
      "no nondamaging goodfaith for user: 703444\n",
      "no nondamaging goodfaith for user: 703748\n",
      "no nondamaging goodfaith for user: 703878\n",
      "no nondamaging goodfaith for user: 703882\n",
      "no nondamaging goodfaith for user: 703941\n",
      "no nondamaging goodfaith for user: 704304\n",
      "no nondamaging goodfaith for user: 704532\n",
      "no nondamaging goodfaith for user: 704635\n",
      "no nondamaging goodfaith for user: 704664\n",
      "no nondamaging goodfaith for user: 704677\n",
      "no nondamaging goodfaith for user: 704809\n",
      "no nondamaging goodfaith for user: 704852\n",
      "no nondamaging goodfaith for user: 705330\n",
      "no nondamaging goodfaith for user: 705695\n",
      "no nondamaging goodfaith for user: 705706\n",
      "no nondamaging goodfaith for user: 706070\n",
      "no nondamaging goodfaith for user: 706192\n",
      "no nondamaging goodfaith for user: 706309\n",
      "no nondamaging goodfaith for user: 706382\n",
      "no nondamaging goodfaith for user: 706600\n",
      "no nondamaging goodfaith for user: 707064\n",
      "no nondamaging goodfaith for user: 707131\n",
      "no nondamaging goodfaith for user: 707346\n",
      "no nondamaging goodfaith for user: 707469\n",
      "no nondamaging goodfaith for user: 707501\n",
      "no nondamaging goodfaith for user: 707604\n",
      "no nondamaging goodfaith for user: 707770\n",
      "no nondamaging goodfaith for user: 708083\n",
      "no nondamaging goodfaith for user: 708568\n",
      "no nondamaging goodfaith for user: 708621\n",
      "no nondamaging goodfaith for user: 708680\n",
      "no nondamaging goodfaith for user: 709300\n",
      "no nondamaging goodfaith for user: 709409\n",
      "no nondamaging goodfaith for user: 709627\n",
      "no nondamaging goodfaith for user: 709871\n",
      "no nondamaging goodfaith for user: 709893\n",
      "no nondamaging goodfaith for user: 710499\n",
      "no nondamaging goodfaith for user: 710516\n",
      "no nondamaging goodfaith for user: 710534\n",
      "no nondamaging goodfaith for user: 710693\n",
      "no nondamaging goodfaith for user: 710720\n",
      "no nondamaging goodfaith for user: 710738\n",
      "no nondamaging goodfaith for user: 710839\n",
      "no nondamaging goodfaith for user: 710966\n",
      "no nondamaging goodfaith for user: 711016\n",
      "no nondamaging goodfaith for user: 711052\n",
      "no nondamaging goodfaith for user: 711152\n",
      "no nondamaging goodfaith for user: 711207\n",
      "no nondamaging goodfaith for user: 711245\n",
      "no nondamaging goodfaith for user: 711247\n",
      "no nondamaging goodfaith for user: 711311\n",
      "no nondamaging goodfaith for user: 711315\n",
      "no nondamaging goodfaith for user: 711321\n",
      "no nondamaging goodfaith for user: 711333\n",
      "no nondamaging goodfaith for user: 711443\n",
      "no nondamaging goodfaith for user: 711468\n",
      "no nondamaging goodfaith for user: 711706\n",
      "no nondamaging goodfaith for user: 711731\n",
      "no nondamaging goodfaith for user: 711747\n",
      "no nondamaging goodfaith for user: 711800\n",
      "no nondamaging goodfaith for user: 711941\n",
      "no nondamaging goodfaith for user: 711993\n",
      "no nondamaging goodfaith for user: 712279\n",
      "no nondamaging goodfaith for user: 712479\n",
      "no nondamaging goodfaith for user: 712848\n",
      "no nondamaging goodfaith for user: 712857\n",
      "no nondamaging goodfaith for user: 712952\n",
      "no nondamaging goodfaith for user: 713204\n",
      "no nondamaging goodfaith for user: 713287\n",
      "no nondamaging goodfaith for user: 713529\n",
      "no nondamaging goodfaith for user: 713717\n",
      "no nondamaging goodfaith for user: 714840\n",
      "no nondamaging goodfaith for user: 714991\n",
      "no nondamaging goodfaith for user: 715077\n",
      "no nondamaging goodfaith for user: 715336\n",
      "no nondamaging goodfaith for user: 715390\n",
      "no nondamaging goodfaith for user: 715420\n",
      "no nondamaging goodfaith for user: 715425\n",
      "no nondamaging goodfaith for user: 715583\n",
      "no nondamaging goodfaith for user: 715815\n",
      "no nondamaging goodfaith for user: 715857\n",
      "no nondamaging goodfaith for user: 716063\n",
      "no nondamaging goodfaith for user: 716213\n",
      "no nondamaging goodfaith for user: 716540\n",
      "no nondamaging goodfaith for user: 716626\n",
      "no nondamaging goodfaith for user: 716695\n",
      "no nondamaging goodfaith for user: 716730\n",
      "no nondamaging goodfaith for user: 716947\n",
      "no nondamaging goodfaith for user: 717139\n",
      "no nondamaging goodfaith for user: 717429\n",
      "no nondamaging goodfaith for user: 717487\n",
      "no nondamaging goodfaith for user: 717548\n",
      "no nondamaging goodfaith for user: 717602\n",
      "no nondamaging goodfaith for user: 717694\n",
      "no nondamaging goodfaith for user: 717850\n",
      "no nondamaging goodfaith for user: 718275\n",
      "no nondamaging goodfaith for user: 718426\n",
      "no nondamaging goodfaith for user: 718635\n",
      "no nondamaging goodfaith for user: 718662\n",
      "no nondamaging goodfaith for user: 718688\n",
      "no nondamaging goodfaith for user: 718734\n",
      "no nondamaging goodfaith for user: 718773\n",
      "no nondamaging goodfaith for user: 718895\n",
      "no nondamaging goodfaith for user: 719045\n",
      "no nondamaging goodfaith for user: 719359\n",
      "no nondamaging goodfaith for user: 719681\n",
      "no nondamaging goodfaith for user: 719684\n",
      "no nondamaging goodfaith for user: 719897\n",
      "no nondamaging goodfaith for user: 720212\n",
      "no nondamaging goodfaith for user: 720516\n",
      "no nondamaging goodfaith for user: 720683\n",
      "no nondamaging goodfaith for user: 720702\n",
      "no nondamaging goodfaith for user: 862055\n",
      "no nondamaging goodfaith for user: 862143\n",
      "no nondamaging goodfaith for user: 862297\n",
      "no nondamaging goodfaith for user: 864935\n",
      "no nondamaging goodfaith for user: 864938\n",
      "no nondamaging goodfaith for user: 866254\n",
      "no nondamaging goodfaith for user: 866774\n",
      "no nondamaging goodfaith for user: 866853\n",
      "no nondamaging goodfaith for user: 868225\n",
      "no nondamaging goodfaith for user: 868544\n",
      "no nondamaging goodfaith for user: 869876\n",
      "no nondamaging goodfaith for user: 870508\n"
     ]
    },
    {
     "name": "stdout",
     "output_type": "stream",
     "text": [
      "no nondamaging goodfaith for user: 871255\n",
      "no nondamaging goodfaith for user: 873224\n",
      "no nondamaging goodfaith for user: 873382\n",
      "no nondamaging goodfaith for user: 879645\n",
      "no nondamaging goodfaith for user: 880151\n",
      "no nondamaging goodfaith for user: 880712\n",
      "no nondamaging goodfaith for user: 949027\n",
      "no nondamaging goodfaith for user: 983867\n",
      "no nondamaging goodfaith for user: 1279470\n",
      "no nondamaging goodfaith for user: 1398874\n",
      "no nondamaging goodfaith for user: 1408735\n",
      "no nondamaging goodfaith for user: 1418998\n",
      "no nondamaging goodfaith for user: 1421275\n",
      "no nondamaging goodfaith for user: 1423320\n",
      "no nondamaging goodfaith for user: 1423591\n",
      "no nondamaging goodfaith for user: 1429020\n",
      "no nondamaging goodfaith for user: 1429279\n",
      "no nondamaging goodfaith for user: 1433082\n",
      "no nondamaging goodfaith for user: 1433623\n",
      "no nondamaging goodfaith for user: 1434193\n",
      "no nondamaging goodfaith for user: 1435779\n",
      "no nondamaging goodfaith for user: 1436500\n",
      "no nondamaging goodfaith for user: 1447771\n",
      "no nondamaging goodfaith for user: 1459600\n",
      "no nondamaging goodfaith for user: 1460591\n",
      "no nondamaging goodfaith for user: 1460623\n"
     ]
    }
   ],
   "source": [
    "batches_edits = batches.groupby('user_id').apply(max_17_edits_of_user)"
   ]
  },
  {
   "cell_type": "code",
   "execution_count": 93,
   "metadata": {},
   "outputs": [
    {
     "data": {
      "text/plain": [
       "(7483, 11400.0)"
      ]
     },
     "execution_count": 93,
     "metadata": {},
     "output_type": "execute_result"
    }
   ],
   "source": [
    "len(batches_edits), (len(batches)*17)/2 + (len(batches))"
   ]
  },
  {
   "cell_type": "code",
   "execution_count": 97,
   "metadata": {},
   "outputs": [
    {
     "data": {
      "text/html": [
       "<div>\n",
       "<style scoped>\n",
       "    .dataframe tbody tr th:only-of-type {\n",
       "        vertical-align: middle;\n",
       "    }\n",
       "\n",
       "    .dataframe tbody tr th {\n",
       "        vertical-align: top;\n",
       "    }\n",
       "\n",
       "    .dataframe thead th {\n",
       "        text-align: right;\n",
       "    }\n",
       "</style>\n",
       "<table border=\"1\" class=\"dataframe\">\n",
       "  <thead>\n",
       "    <tr style=\"text-align: right;\">\n",
       "      <th></th>\n",
       "      <th></th>\n",
       "      <th></th>\n",
       "      <th></th>\n",
       "      <th>user_id</th>\n",
       "      <th>user_registration</th>\n",
       "      <th>first_edit</th>\n",
       "      <th>last_edit</th>\n",
       "      <th>lang</th>\n",
       "      <th>num_prev_thanks_before_treatment</th>\n",
       "      <th>active_in_30_pre_treatment</th>\n",
       "      <th>active_in_90_pre_treatment</th>\n",
       "      <th>experience_level_pre_treatment</th>\n",
       "      <th>newcomer_experienced</th>\n",
       "      <th>revisions_before_sim_treatment_50</th>\n",
       "      <th>ores_damaging_data</th>\n",
       "      <th>ores_goodfaith_data</th>\n",
       "      <th>rev_id</th>\n",
       "      <th>rev_timestamp</th>\n",
       "      <th>ores_damaging_score</th>\n",
       "      <th>ores_damaging_prediction</th>\n",
       "      <th>ores_goodfaith_score</th>\n",
       "      <th>ores_goodfaith_prediction</th>\n",
       "      <th>page_namespace</th>\n",
       "    </tr>\n",
       "    <tr>\n",
       "      <th>user_id</th>\n",
       "      <th>lang</th>\n",
       "      <th>newcomer_experienced</th>\n",
       "      <th></th>\n",
       "      <th></th>\n",
       "      <th></th>\n",
       "      <th></th>\n",
       "      <th></th>\n",
       "      <th></th>\n",
       "      <th></th>\n",
       "      <th></th>\n",
       "      <th></th>\n",
       "      <th></th>\n",
       "      <th></th>\n",
       "      <th></th>\n",
       "      <th></th>\n",
       "      <th></th>\n",
       "      <th></th>\n",
       "      <th></th>\n",
       "      <th></th>\n",
       "      <th></th>\n",
       "      <th></th>\n",
       "      <th></th>\n",
       "      <th></th>\n",
       "    </tr>\n",
       "  </thead>\n",
       "  <tbody>\n",
       "    <tr>\n",
       "      <th rowspan=\"5\" valign=\"top\">4529</th>\n",
       "      <th rowspan=\"5\" valign=\"top\">fa</th>\n",
       "      <th rowspan=\"5\" valign=\"top\">experienced_90_days_plus</th>\n",
       "      <th>1452505</th>\n",
       "      <td>4529</td>\n",
       "      <td>2006-03-08 07:11:42</td>\n",
       "      <td>2006-03-08 07:19:53</td>\n",
       "      <td>2018-02-17 23:20:57</td>\n",
       "      <td>fa</td>\n",
       "      <td>23.0</td>\n",
       "      <td>True</td>\n",
       "      <td>True</td>\n",
       "      <td>bin_2920</td>\n",
       "      <td>experienced_90_days_plus</td>\n",
       "      <td>[{'rev_id': 22166693, 'rev_timestamp': 2018-02...</td>\n",
       "      <td>{'ores_scores': [0.002399607924312756, 0.00316...</td>\n",
       "      <td>{'ores_scores': [0.9939237984048535, 0.9924356...</td>\n",
       "      <td>22166693</td>\n",
       "      <td>2018-02-17 23:20:57</td>\n",
       "      <td>0.002400</td>\n",
       "      <td>False</td>\n",
       "      <td>0.993924</td>\n",
       "      <td>True</td>\n",
       "      <td>0</td>\n",
       "    </tr>\n",
       "    <tr>\n",
       "      <th>1452505</th>\n",
       "      <td>4529</td>\n",
       "      <td>2006-03-08 07:11:42</td>\n",
       "      <td>2006-03-08 07:19:53</td>\n",
       "      <td>2018-02-17 23:20:57</td>\n",
       "      <td>fa</td>\n",
       "      <td>23.0</td>\n",
       "      <td>True</td>\n",
       "      <td>True</td>\n",
       "      <td>bin_2920</td>\n",
       "      <td>experienced_90_days_plus</td>\n",
       "      <td>[{'rev_id': 22166693, 'rev_timestamp': 2018-02...</td>\n",
       "      <td>{'ores_scores': [0.002399607924312756, 0.00316...</td>\n",
       "      <td>{'ores_scores': [0.9939237984048535, 0.9924356...</td>\n",
       "      <td>21947695</td>\n",
       "      <td>2018-01-13 11:26:56</td>\n",
       "      <td>0.003168</td>\n",
       "      <td>False</td>\n",
       "      <td>0.992436</td>\n",
       "      <td>True</td>\n",
       "      <td>0</td>\n",
       "    </tr>\n",
       "    <tr>\n",
       "      <th>1452505</th>\n",
       "      <td>4529</td>\n",
       "      <td>2006-03-08 07:11:42</td>\n",
       "      <td>2006-03-08 07:19:53</td>\n",
       "      <td>2018-02-17 23:20:57</td>\n",
       "      <td>fa</td>\n",
       "      <td>23.0</td>\n",
       "      <td>True</td>\n",
       "      <td>True</td>\n",
       "      <td>bin_2920</td>\n",
       "      <td>experienced_90_days_plus</td>\n",
       "      <td>[{'rev_id': 22166693, 'rev_timestamp': 2018-02...</td>\n",
       "      <td>{'ores_scores': [0.002399607924312756, 0.00316...</td>\n",
       "      <td>{'ores_scores': [0.9939237984048535, 0.9924356...</td>\n",
       "      <td>21947593</td>\n",
       "      <td>2018-01-13 11:22:21</td>\n",
       "      <td>0.014637</td>\n",
       "      <td>False</td>\n",
       "      <td>0.988136</td>\n",
       "      <td>True</td>\n",
       "      <td>0</td>\n",
       "    </tr>\n",
       "    <tr>\n",
       "      <th>1452505</th>\n",
       "      <td>4529</td>\n",
       "      <td>2006-03-08 07:11:42</td>\n",
       "      <td>2006-03-08 07:19:53</td>\n",
       "      <td>2018-02-17 23:20:57</td>\n",
       "      <td>fa</td>\n",
       "      <td>23.0</td>\n",
       "      <td>True</td>\n",
       "      <td>True</td>\n",
       "      <td>bin_2920</td>\n",
       "      <td>experienced_90_days_plus</td>\n",
       "      <td>[{'rev_id': 22166693, 'rev_timestamp': 2018-02...</td>\n",
       "      <td>{'ores_scores': [0.002399607924312756, 0.00316...</td>\n",
       "      <td>{'ores_scores': [0.9939237984048535, 0.9924356...</td>\n",
       "      <td>21910629</td>\n",
       "      <td>2018-01-05 18:36:17</td>\n",
       "      <td>0.002903</td>\n",
       "      <td>False</td>\n",
       "      <td>0.993584</td>\n",
       "      <td>True</td>\n",
       "      <td>0</td>\n",
       "    </tr>\n",
       "    <tr>\n",
       "      <th>1452505</th>\n",
       "      <td>4529</td>\n",
       "      <td>2006-03-08 07:11:42</td>\n",
       "      <td>2006-03-08 07:19:53</td>\n",
       "      <td>2018-02-17 23:20:57</td>\n",
       "      <td>fa</td>\n",
       "      <td>23.0</td>\n",
       "      <td>True</td>\n",
       "      <td>True</td>\n",
       "      <td>bin_2920</td>\n",
       "      <td>experienced_90_days_plus</td>\n",
       "      <td>[{'rev_id': 22166693, 'rev_timestamp': 2018-02...</td>\n",
       "      <td>{'ores_scores': [0.002399607924312756, 0.00316...</td>\n",
       "      <td>{'ores_scores': [0.9939237984048535, 0.9924356...</td>\n",
       "      <td>21906993</td>\n",
       "      <td>2018-01-04 21:06:54</td>\n",
       "      <td>0.003342</td>\n",
       "      <td>False</td>\n",
       "      <td>0.992759</td>\n",
       "      <td>True</td>\n",
       "      <td>2</td>\n",
       "    </tr>\n",
       "  </tbody>\n",
       "</table>\n",
       "</div>"
      ],
      "text/plain": [
       "                                               user_id   user_registration  \\\n",
       "user_id lang newcomer_experienced                                            \n",
       "4529    fa   experienced_90_days_plus 1452505     4529 2006-03-08 07:11:42   \n",
       "                                      1452505     4529 2006-03-08 07:11:42   \n",
       "                                      1452505     4529 2006-03-08 07:11:42   \n",
       "                                      1452505     4529 2006-03-08 07:11:42   \n",
       "                                      1452505     4529 2006-03-08 07:11:42   \n",
       "\n",
       "                                                       first_edit  \\\n",
       "user_id lang newcomer_experienced                                   \n",
       "4529    fa   experienced_90_days_plus 1452505 2006-03-08 07:19:53   \n",
       "                                      1452505 2006-03-08 07:19:53   \n",
       "                                      1452505 2006-03-08 07:19:53   \n",
       "                                      1452505 2006-03-08 07:19:53   \n",
       "                                      1452505 2006-03-08 07:19:53   \n",
       "\n",
       "                                                        last_edit lang  \\\n",
       "user_id lang newcomer_experienced                                        \n",
       "4529    fa   experienced_90_days_plus 1452505 2018-02-17 23:20:57   fa   \n",
       "                                      1452505 2018-02-17 23:20:57   fa   \n",
       "                                      1452505 2018-02-17 23:20:57   fa   \n",
       "                                      1452505 2018-02-17 23:20:57   fa   \n",
       "                                      1452505 2018-02-17 23:20:57   fa   \n",
       "\n",
       "                                               num_prev_thanks_before_treatment  \\\n",
       "user_id lang newcomer_experienced                                                 \n",
       "4529    fa   experienced_90_days_plus 1452505                              23.0   \n",
       "                                      1452505                              23.0   \n",
       "                                      1452505                              23.0   \n",
       "                                      1452505                              23.0   \n",
       "                                      1452505                              23.0   \n",
       "\n",
       "                                               active_in_30_pre_treatment  \\\n",
       "user_id lang newcomer_experienced                                           \n",
       "4529    fa   experienced_90_days_plus 1452505                        True   \n",
       "                                      1452505                        True   \n",
       "                                      1452505                        True   \n",
       "                                      1452505                        True   \n",
       "                                      1452505                        True   \n",
       "\n",
       "                                               active_in_90_pre_treatment  \\\n",
       "user_id lang newcomer_experienced                                           \n",
       "4529    fa   experienced_90_days_plus 1452505                        True   \n",
       "                                      1452505                        True   \n",
       "                                      1452505                        True   \n",
       "                                      1452505                        True   \n",
       "                                      1452505                        True   \n",
       "\n",
       "                                              experience_level_pre_treatment  \\\n",
       "user_id lang newcomer_experienced                                              \n",
       "4529    fa   experienced_90_days_plus 1452505                       bin_2920   \n",
       "                                      1452505                       bin_2920   \n",
       "                                      1452505                       bin_2920   \n",
       "                                      1452505                       bin_2920   \n",
       "                                      1452505                       bin_2920   \n",
       "\n",
       "                                                   newcomer_experienced  \\\n",
       "user_id lang newcomer_experienced                                         \n",
       "4529    fa   experienced_90_days_plus 1452505  experienced_90_days_plus   \n",
       "                                      1452505  experienced_90_days_plus   \n",
       "                                      1452505  experienced_90_days_plus   \n",
       "                                      1452505  experienced_90_days_plus   \n",
       "                                      1452505  experienced_90_days_plus   \n",
       "\n",
       "                                                               revisions_before_sim_treatment_50  \\\n",
       "user_id lang newcomer_experienced                                                                  \n",
       "4529    fa   experienced_90_days_plus 1452505  [{'rev_id': 22166693, 'rev_timestamp': 2018-02...   \n",
       "                                      1452505  [{'rev_id': 22166693, 'rev_timestamp': 2018-02...   \n",
       "                                      1452505  [{'rev_id': 22166693, 'rev_timestamp': 2018-02...   \n",
       "                                      1452505  [{'rev_id': 22166693, 'rev_timestamp': 2018-02...   \n",
       "                                      1452505  [{'rev_id': 22166693, 'rev_timestamp': 2018-02...   \n",
       "\n",
       "                                                                              ores_damaging_data  \\\n",
       "user_id lang newcomer_experienced                                                                  \n",
       "4529    fa   experienced_90_days_plus 1452505  {'ores_scores': [0.002399607924312756, 0.00316...   \n",
       "                                      1452505  {'ores_scores': [0.002399607924312756, 0.00316...   \n",
       "                                      1452505  {'ores_scores': [0.002399607924312756, 0.00316...   \n",
       "                                      1452505  {'ores_scores': [0.002399607924312756, 0.00316...   \n",
       "                                      1452505  {'ores_scores': [0.002399607924312756, 0.00316...   \n",
       "\n",
       "                                                                             ores_goodfaith_data  \\\n",
       "user_id lang newcomer_experienced                                                                  \n",
       "4529    fa   experienced_90_days_plus 1452505  {'ores_scores': [0.9939237984048535, 0.9924356...   \n",
       "                                      1452505  {'ores_scores': [0.9939237984048535, 0.9924356...   \n",
       "                                      1452505  {'ores_scores': [0.9939237984048535, 0.9924356...   \n",
       "                                      1452505  {'ores_scores': [0.9939237984048535, 0.9924356...   \n",
       "                                      1452505  {'ores_scores': [0.9939237984048535, 0.9924356...   \n",
       "\n",
       "                                                 rev_id       rev_timestamp  \\\n",
       "user_id lang newcomer_experienced                                             \n",
       "4529    fa   experienced_90_days_plus 1452505  22166693 2018-02-17 23:20:57   \n",
       "                                      1452505  21947695 2018-01-13 11:26:56   \n",
       "                                      1452505  21947593 2018-01-13 11:22:21   \n",
       "                                      1452505  21910629 2018-01-05 18:36:17   \n",
       "                                      1452505  21906993 2018-01-04 21:06:54   \n",
       "\n",
       "                                               ores_damaging_score  \\\n",
       "user_id lang newcomer_experienced                                    \n",
       "4529    fa   experienced_90_days_plus 1452505             0.002400   \n",
       "                                      1452505             0.003168   \n",
       "                                      1452505             0.014637   \n",
       "                                      1452505             0.002903   \n",
       "                                      1452505             0.003342   \n",
       "\n",
       "                                               ores_damaging_prediction  \\\n",
       "user_id lang newcomer_experienced                                         \n",
       "4529    fa   experienced_90_days_plus 1452505                     False   \n",
       "                                      1452505                     False   \n",
       "                                      1452505                     False   \n",
       "                                      1452505                     False   \n",
       "                                      1452505                     False   \n",
       "\n",
       "                                               ores_goodfaith_score  \\\n",
       "user_id lang newcomer_experienced                                     \n",
       "4529    fa   experienced_90_days_plus 1452505              0.993924   \n",
       "                                      1452505              0.992436   \n",
       "                                      1452505              0.988136   \n",
       "                                      1452505              0.993584   \n",
       "                                      1452505              0.992759   \n",
       "\n",
       "                                               ores_goodfaith_prediction  \\\n",
       "user_id lang newcomer_experienced                                          \n",
       "4529    fa   experienced_90_days_plus 1452505                       True   \n",
       "                                      1452505                       True   \n",
       "                                      1452505                       True   \n",
       "                                      1452505                       True   \n",
       "                                      1452505                       True   \n",
       "\n",
       "                                               page_namespace  \n",
       "user_id lang newcomer_experienced                              \n",
       "4529    fa   experienced_90_days_plus 1452505               0  \n",
       "                                      1452505               0  \n",
       "                                      1452505               0  \n",
       "                                      1452505               0  \n",
       "                                      1452505               2  "
      ]
     },
     "execution_count": 97,
     "metadata": {},
     "output_type": "execute_result"
    }
   ],
   "source": [
    "batches_edits.head()"
   ]
  },
  {
   "cell_type": "code",
   "execution_count": 95,
   "metadata": {},
   "outputs": [],
   "source": [
    "batches_edits.to_pickle('checkpoints/batches_edits_non_de_1.pickle')"
   ]
  },
  {
   "cell_type": "code",
   "execution_count": 15,
   "metadata": {},
   "outputs": [],
   "source": [
    "batches_edits = pd.read_pickle('checkpoints/batches_edits_non_de_1.pickle')"
   ]
  },
  {
   "cell_type": "markdown",
   "metadata": {},
   "source": [
    "## german processing"
   ]
  },
  {
   "cell_type": "code",
   "execution_count": 53,
   "metadata": {},
   "outputs": [
    {
     "data": {
      "text/plain": [
       "<sqlalchemy.engine.result.ResultProxy at 0x7f75f97ddcf8>"
      ]
     },
     "execution_count": 53,
     "metadata": {},
     "output_type": "execute_result"
    }
   ],
   "source": [
    "con.execute('use dewiki_p;')"
   ]
  },
  {
   "cell_type": "code",
   "execution_count": 144,
   "metadata": {
    "scrolled": true
   },
   "outputs": [
    {
     "name": "stdout",
     "output_type": "stream",
     "text": [
      "CPU times: user 14 s, sys: 424 ms, total: 14.4 s\n",
      "Wall time: 2min 47s\n"
     ]
    }
   ],
   "source": [
    "%%time\n",
    "de_flagged_revs_users_d10 = [get_flagged_revs(user_id, sim_treatment_date) for user_id in batches_de.iloc[:10]['user_id']]"
   ]
  },
  {
   "cell_type": "code",
   "execution_count": 145,
   "metadata": {
    "scrolled": true
   },
   "outputs": [
    {
     "name": "stdout",
     "output_type": "stream",
     "text": [
      "Error getting revert status for 173209597\n",
      "Error getting revert status for 161693845\n",
      "Error getting revert status for 143452666\n",
      "Error getting revert status for 139621124\n",
      "Error getting revert status for 173208376\n"
     ]
    }
   ],
   "source": [
    "de_flagged_revs_users = [get_flagged_revs(user_id, sim_treatment_date) for user_id in batches_de['user_id']]"
   ]
  },
  {
   "cell_type": "code",
   "execution_count": 146,
   "metadata": {},
   "outputs": [],
   "source": [
    "batches_edits_de = pd.concat(de_flagged_revs_users)"
   ]
  },
  {
   "cell_type": "code",
   "execution_count": 147,
   "metadata": {},
   "outputs": [],
   "source": [
    "batches_edits_de.to_pickle('checkpoints/batches_edits_de_1.pickle')"
   ]
  },
  {
   "cell_type": "code",
   "execution_count": 11,
   "metadata": {},
   "outputs": [],
   "source": [
    "batches_edits_de = pd.read_pickle('checkpoints/batches_edits_de_1.pickle')"
   ]
  },
  {
   "cell_type": "markdown",
   "metadata": {},
   "source": [
    "## finally put german back together and  need to sample down to 100 users per lang-binexperience group"
   ]
  },
  {
   "cell_type": "code",
   "execution_count": 28,
   "metadata": {},
   "outputs": [],
   "source": [
    "batches_edits_de['lang']='de'"
   ]
  },
  {
   "cell_type": "code",
   "execution_count": 29,
   "metadata": {},
   "outputs": [],
   "source": [
    "de_user_id_experience = batches_de['user_id'].reset_index()[['user_id','newcomer_experienced']]"
   ]
  },
  {
   "cell_type": "code",
   "execution_count": 30,
   "metadata": {},
   "outputs": [],
   "source": [
    "batches_edits_de['user_id'] = batches_edits_de['user_id'].apply(int)"
   ]
  },
  {
   "cell_type": "code",
   "execution_count": 31,
   "metadata": {},
   "outputs": [],
   "source": [
    "batches_edits_de = batches_edits_de.merge(de_user_id_experience, how='left', on='user_id')"
   ]
  },
  {
   "cell_type": "code",
   "execution_count": 177,
   "metadata": {},
   "outputs": [],
   "source": [
    "batches_edits_de.to_pickle('checkpoints/batches_edits_de_with_newcomer_experience1.pickle')"
   ]
  },
  {
   "cell_type": "code",
   "execution_count": 39,
   "metadata": {},
   "outputs": [],
   "source": [
    "batches_edits_de = pd.read_pickle('checkpoints/batches_edits_de_with_newcomer_experience1.pickle')"
   ]
  },
  {
   "cell_type": "code",
   "execution_count": 40,
   "metadata": {},
   "outputs": [],
   "source": [
    "common_cols = ['lang', 'user_id','rev_id', 'newcomer_experienced', 'rev_timestamp']\n",
    "batches_edits_all = pd.concat([batches_edits[common_cols], batches_edits_de[common_cols]])"
   ]
  },
  {
   "cell_type": "code",
   "execution_count": 41,
   "metadata": {},
   "outputs": [
    {
     "data": {
      "text/plain": [
       "(7483, 2780, 10263)"
      ]
     },
     "execution_count": 41,
     "metadata": {},
     "output_type": "execute_result"
    }
   ],
   "source": [
    "len(batches_edits), len(batches_edits_de), len(batches_edits_all)"
   ]
  },
  {
   "cell_type": "code",
   "execution_count": 44,
   "metadata": {},
   "outputs": [],
   "source": [
    "#take the first 100 of each lang/experience group\n",
    "be_user_ids = batches_edits_all.groupby(['lang','newcomer_experienced']).apply(lambda df: df['user_id'].unique()[:100]).reset_index().rename({0:'100_users'},axis=1)"
   ]
  },
  {
   "cell_type": "code",
   "execution_count": 43,
   "metadata": {},
   "outputs": [
    {
     "data": {
      "text/html": [
       "<div>\n",
       "<style scoped>\n",
       "    .dataframe tbody tr th:only-of-type {\n",
       "        vertical-align: middle;\n",
       "    }\n",
       "\n",
       "    .dataframe tbody tr th {\n",
       "        vertical-align: top;\n",
       "    }\n",
       "\n",
       "    .dataframe thead th {\n",
       "        text-align: right;\n",
       "    }\n",
       "</style>\n",
       "<table border=\"1\" class=\"dataframe\">\n",
       "  <thead>\n",
       "    <tr style=\"text-align: right;\">\n",
       "      <th></th>\n",
       "      <th>lang</th>\n",
       "      <th>user_id</th>\n",
       "      <th>rev_id</th>\n",
       "      <th>newcomer_experienced</th>\n",
       "      <th>rev_timestamp</th>\n",
       "    </tr>\n",
       "  </thead>\n",
       "  <tbody>\n",
       "    <tr>\n",
       "      <th>(4529, fa, experienced_90_days_plus, 1452505)</th>\n",
       "      <td>fa</td>\n",
       "      <td>4529</td>\n",
       "      <td>22166693</td>\n",
       "      <td>experienced_90_days_plus</td>\n",
       "      <td>2018-02-17 23:20:57</td>\n",
       "    </tr>\n",
       "    <tr>\n",
       "      <th>(4529, fa, experienced_90_days_plus, 1452505)</th>\n",
       "      <td>fa</td>\n",
       "      <td>4529</td>\n",
       "      <td>21947695</td>\n",
       "      <td>experienced_90_days_plus</td>\n",
       "      <td>2018-01-13 11:26:56</td>\n",
       "    </tr>\n",
       "    <tr>\n",
       "      <th>(4529, fa, experienced_90_days_plus, 1452505)</th>\n",
       "      <td>fa</td>\n",
       "      <td>4529</td>\n",
       "      <td>21947593</td>\n",
       "      <td>experienced_90_days_plus</td>\n",
       "      <td>2018-01-13 11:22:21</td>\n",
       "    </tr>\n",
       "    <tr>\n",
       "      <th>(4529, fa, experienced_90_days_plus, 1452505)</th>\n",
       "      <td>fa</td>\n",
       "      <td>4529</td>\n",
       "      <td>21910629</td>\n",
       "      <td>experienced_90_days_plus</td>\n",
       "      <td>2018-01-05 18:36:17</td>\n",
       "    </tr>\n",
       "    <tr>\n",
       "      <th>(4529, fa, experienced_90_days_plus, 1452505)</th>\n",
       "      <td>fa</td>\n",
       "      <td>4529</td>\n",
       "      <td>21906993</td>\n",
       "      <td>experienced_90_days_plus</td>\n",
       "      <td>2018-01-04 21:06:54</td>\n",
       "    </tr>\n",
       "  </tbody>\n",
       "</table>\n",
       "</div>"
      ],
      "text/plain": [
       "                                              lang  user_id    rev_id  \\\n",
       "(4529, fa, experienced_90_days_plus, 1452505)   fa     4529  22166693   \n",
       "(4529, fa, experienced_90_days_plus, 1452505)   fa     4529  21947695   \n",
       "(4529, fa, experienced_90_days_plus, 1452505)   fa     4529  21947593   \n",
       "(4529, fa, experienced_90_days_plus, 1452505)   fa     4529  21910629   \n",
       "(4529, fa, experienced_90_days_plus, 1452505)   fa     4529  21906993   \n",
       "\n",
       "                                                   newcomer_experienced  \\\n",
       "(4529, fa, experienced_90_days_plus, 1452505)  experienced_90_days_plus   \n",
       "(4529, fa, experienced_90_days_plus, 1452505)  experienced_90_days_plus   \n",
       "(4529, fa, experienced_90_days_plus, 1452505)  experienced_90_days_plus   \n",
       "(4529, fa, experienced_90_days_plus, 1452505)  experienced_90_days_plus   \n",
       "(4529, fa, experienced_90_days_plus, 1452505)  experienced_90_days_plus   \n",
       "\n",
       "                                                    rev_timestamp  \n",
       "(4529, fa, experienced_90_days_plus, 1452505) 2018-02-17 23:20:57  \n",
       "(4529, fa, experienced_90_days_plus, 1452505) 2018-01-13 11:26:56  \n",
       "(4529, fa, experienced_90_days_plus, 1452505) 2018-01-13 11:22:21  \n",
       "(4529, fa, experienced_90_days_plus, 1452505) 2018-01-05 18:36:17  \n",
       "(4529, fa, experienced_90_days_plus, 1452505) 2018-01-04 21:06:54  "
      ]
     },
     "execution_count": 43,
     "metadata": {},
     "output_type": "execute_result"
    }
   ],
   "source": [
    "batches_edits_all.head()"
   ]
  },
  {
   "cell_type": "code",
   "execution_count": 45,
   "metadata": {},
   "outputs": [],
   "source": [
    "def is_lucky_100(user_id, lang, newcomer_experienced):\n",
    "    lucky_uids = be_user_ids[(be_user_ids['lang']==lang) & (be_user_ids['newcomer_experienced']==newcomer_experienced)]['100_users'].iloc[0]\n",
    "    return user_id in lucky_uids\n",
    "\n",
    "batches_edits_all['lucky_100'] = batches_edits_all.apply(lambda row: is_lucky_100(row['user_id'], row['lang'], row['newcomer_experienced']) , axis=1)"
   ]
  },
  {
   "cell_type": "code",
   "execution_count": 46,
   "metadata": {},
   "outputs": [],
   "source": [
    "# sample down\n",
    "batches_edits_100per = batches_edits_all[batches_edits_all['lucky_100'] == True]"
   ]
  },
  {
   "cell_type": "code",
   "execution_count": 47,
   "metadata": {},
   "outputs": [
    {
     "data": {
      "text/html": [
       "<div>\n",
       "<style scoped>\n",
       "    .dataframe tbody tr th:only-of-type {\n",
       "        vertical-align: middle;\n",
       "    }\n",
       "\n",
       "    .dataframe tbody tr th {\n",
       "        vertical-align: top;\n",
       "    }\n",
       "\n",
       "    .dataframe thead th {\n",
       "        text-align: right;\n",
       "    }\n",
       "</style>\n",
       "<table border=\"1\" class=\"dataframe\">\n",
       "  <thead>\n",
       "    <tr style=\"text-align: right;\">\n",
       "      <th></th>\n",
       "      <th>user_id</th>\n",
       "      <th>rev_id</th>\n",
       "      <th>newcomer_experienced</th>\n",
       "      <th>rev_timestamp</th>\n",
       "      <th>lucky_100</th>\n",
       "    </tr>\n",
       "    <tr>\n",
       "      <th>lang</th>\n",
       "      <th></th>\n",
       "      <th></th>\n",
       "      <th></th>\n",
       "      <th></th>\n",
       "      <th></th>\n",
       "    </tr>\n",
       "  </thead>\n",
       "  <tbody>\n",
       "    <tr>\n",
       "      <th>ar</th>\n",
       "      <td>1475</td>\n",
       "      <td>1475</td>\n",
       "      <td>1475</td>\n",
       "      <td>1475</td>\n",
       "      <td>1475</td>\n",
       "    </tr>\n",
       "    <tr>\n",
       "      <th>de</th>\n",
       "      <td>1460</td>\n",
       "      <td>1460</td>\n",
       "      <td>1460</td>\n",
       "      <td>1460</td>\n",
       "      <td>1460</td>\n",
       "    </tr>\n",
       "    <tr>\n",
       "      <th>fa</th>\n",
       "      <td>1364</td>\n",
       "      <td>1364</td>\n",
       "      <td>1364</td>\n",
       "      <td>1364</td>\n",
       "      <td>1364</td>\n",
       "    </tr>\n",
       "    <tr>\n",
       "      <th>pl</th>\n",
       "      <td>1796</td>\n",
       "      <td>1796</td>\n",
       "      <td>1796</td>\n",
       "      <td>1796</td>\n",
       "      <td>1796</td>\n",
       "    </tr>\n",
       "  </tbody>\n",
       "</table>\n",
       "</div>"
      ],
      "text/plain": [
       "      user_id  rev_id  newcomer_experienced  rev_timestamp  lucky_100\n",
       "lang                                                                 \n",
       "ar       1475    1475                  1475           1475       1475\n",
       "de       1460    1460                  1460           1460       1460\n",
       "fa       1364    1364                  1364           1364       1364\n",
       "pl       1796    1796                  1796           1796       1796"
      ]
     },
     "execution_count": 47,
     "metadata": {},
     "output_type": "execute_result"
    }
   ],
   "source": [
    "batches_edits_100per.groupby(['lang']).agg(len)"
   ]
  },
  {
   "cell_type": "code",
   "execution_count": 205,
   "metadata": {},
   "outputs": [],
   "source": [
    "batches_edits_100per.to_pickle('checkpoints/batches_edits_100per.pickle')"
   ]
  },
  {
   "cell_type": "code",
   "execution_count": 49,
   "metadata": {},
   "outputs": [],
   "source": [
    "from mwapi.errors import APIError\n",
    "\n",
    "cnt = 0\n",
    "def get_diff_html_dict(lang, revid):\n",
    "    global cnt\n",
    "    cnt += 1\n",
    "    if cnt%100==0:\n",
    "        print(cnt)\n",
    "    try:\n",
    "        mwapisession = mwapi.Session(host=f'https://{lang}.wikipedia.org', user_agent='civilservant datagathering <max@notconfusing.com>')\n",
    "        ret = mwapisession.get(action='compare', fromrev=revid, torelative='prev', prop='diff|user|parsedcomment|size')\n",
    "        ret_comp = ret['compare']\n",
    "    except APIError:\n",
    "        ret_comp = {'*':'Deleted revision','tosize':0,'toparsedcomment':'Deleted revision'}\n",
    "    #keys are: tosize, toparsedcomment, *\n",
    "    return ret_comp"
   ]
  },
  {
   "cell_type": "code",
   "execution_count": 50,
   "metadata": {
    "scrolled": true
   },
   "outputs": [],
   "source": [
    "%%capture\n",
    "batches_edits_100per['diff_info'] = batches_edits_100per.apply(lambda row: get_diff_html_dict(row['lang'], row['rev_id']), axis=1)"
   ]
  },
  {
   "cell_type": "code",
   "execution_count": 51,
   "metadata": {},
   "outputs": [
    {
     "name": "stderr",
     "output_type": "stream",
     "text": [
      "/srv/paws/lib/python3.6/site-packages/ipykernel_launcher.py:1: SettingWithCopyWarning: \n",
      "A value is trying to be set on a copy of a slice from a DataFrame.\n",
      "Try using .loc[row_indexer,col_indexer] = value instead\n",
      "\n",
      "See the caveats in the documentation: http://pandas.pydata.org/pandas-docs/stable/indexing.html#indexing-view-versus-copy\n",
      "  \"\"\"Entry point for launching an IPython kernel.\n",
      "/srv/paws/lib/python3.6/site-packages/ipykernel_launcher.py:2: SettingWithCopyWarning: \n",
      "A value is trying to be set on a copy of a slice from a DataFrame.\n",
      "Try using .loc[row_indexer,col_indexer] = value instead\n",
      "\n",
      "See the caveats in the documentation: http://pandas.pydata.org/pandas-docs/stable/indexing.html#indexing-view-versus-copy\n",
      "  \n",
      "/srv/paws/lib/python3.6/site-packages/ipykernel_launcher.py:3: SettingWithCopyWarning: \n",
      "A value is trying to be set on a copy of a slice from a DataFrame.\n",
      "Try using .loc[row_indexer,col_indexer] = value instead\n",
      "\n",
      "See the caveats in the documentation: http://pandas.pydata.org/pandas-docs/stable/indexing.html#indexing-view-versus-copy\n",
      "  This is separate from the ipykernel package so we can avoid doing imports until\n"
     ]
    }
   ],
   "source": [
    "batches_edits_100per['html_blob'] = batches_edits_100per['diff_info'].apply(lambda d: d['*'])\n",
    "batches_edits_100per['diff_size'] = batches_edits_100per['diff_info'].apply(lambda d: d['tosize'])\n",
    "batches_edits_100per['edit_comment'] = batches_edits_100per['diff_info'].apply(lambda d: d['toparsedcomment'])"
   ]
  },
  {
   "cell_type": "code",
   "execution_count": 52,
   "metadata": {},
   "outputs": [],
   "source": [
    "def difflink(lang,rev_id):\n",
    "    basestr = 'https://{lang}.wikipedia.org/w/index.php?oldid={rev_id}'.format(lang=lang, rev_id=rev_id)\n",
    "    return basestr"
   ]
  },
  {
   "cell_type": "code",
   "execution_count": 53,
   "metadata": {},
   "outputs": [
    {
     "name": "stderr",
     "output_type": "stream",
     "text": [
      "/srv/paws/lib/python3.6/site-packages/ipykernel_launcher.py:1: SettingWithCopyWarning: \n",
      "A value is trying to be set on a copy of a slice from a DataFrame.\n",
      "Try using .loc[row_indexer,col_indexer] = value instead\n",
      "\n",
      "See the caveats in the documentation: http://pandas.pydata.org/pandas-docs/stable/indexing.html#indexing-view-versus-copy\n",
      "  \"\"\"Entry point for launching an IPython kernel.\n"
     ]
    }
   ],
   "source": [
    "batches_edits_100per['diff_link'] = batches_edits_100per.apply(lambda row: difflink(row['lang'], row['rev_id']), axis=1)"
   ]
  },
  {
   "cell_type": "code",
   "execution_count": 55,
   "metadata": {},
   "outputs": [],
   "source": [
    "batches_edits_100per.to_pickle('checkpoints/batches_edits_2.pickle')"
   ]
  },
  {
   "cell_type": "code",
   "execution_count": 56,
   "metadata": {},
   "outputs": [],
   "source": [
    "batches_edits_100per = pd.read_pickle('checkpoints/batches_edits_2.pickle')"
   ]
  },
  {
   "cell_type": "code",
   "execution_count": 60,
   "metadata": {},
   "outputs": [],
   "source": [
    "be_save_columns = ['user_id', 'lang', 'newcomer_experienced',\n",
    "                   'rev_id', 'edit_comment',\n",
    "                   'diff_size', 'html_blob', 'diff_link',\n",
    "                   'rev_timestamp'\n",
    "                  ]"
   ]
  },
  {
   "cell_type": "code",
   "execution_count": 61,
   "metadata": {},
   "outputs": [],
   "source": [
    "be_for_out = batches_edits_100per[be_save_columns]"
   ]
  },
  {
   "cell_type": "code",
   "execution_count": 62,
   "metadata": {},
   "outputs": [
    {
     "data": {
      "text/html": [
       "<div>\n",
       "<style scoped>\n",
       "    .dataframe tbody tr th:only-of-type {\n",
       "        vertical-align: middle;\n",
       "    }\n",
       "\n",
       "    .dataframe tbody tr th {\n",
       "        vertical-align: top;\n",
       "    }\n",
       "\n",
       "    .dataframe thead th {\n",
       "        text-align: right;\n",
       "    }\n",
       "</style>\n",
       "<table border=\"1\" class=\"dataframe\">\n",
       "  <thead>\n",
       "    <tr style=\"text-align: right;\">\n",
       "      <th></th>\n",
       "      <th>user_id</th>\n",
       "      <th>lang</th>\n",
       "      <th>newcomer_experienced</th>\n",
       "      <th>rev_id</th>\n",
       "      <th>edit_comment</th>\n",
       "      <th>diff_size</th>\n",
       "      <th>html_blob</th>\n",
       "      <th>diff_link</th>\n",
       "      <th>rev_timestamp</th>\n",
       "    </tr>\n",
       "  </thead>\n",
       "  <tbody>\n",
       "    <tr>\n",
       "      <th>(4529, fa, experienced_90_days_plus, 1452505)</th>\n",
       "      <td>4529</td>\n",
       "      <td>fa</td>\n",
       "      <td>experienced_90_days_plus</td>\n",
       "      <td>22166693</td>\n",
       "      <td>تغییرمسیر به &lt;a href=\"/wiki/%D9%86%D9%85%D9%88...</td>\n",
       "      <td>65</td>\n",
       "      <td>&lt;tr&gt;\\n  &lt;td colspan=\"2\" class=\"diff-lineno\"&gt;سط...</td>\n",
       "      <td>https://fa.wikipedia.org/w/index.php?oldid=221...</td>\n",
       "      <td>2018-02-17 23:20:57</td>\n",
       "    </tr>\n",
       "    <tr>\n",
       "      <th>(4529, fa, experienced_90_days_plus, 1452505)</th>\n",
       "      <td>4529</td>\n",
       "      <td>fa</td>\n",
       "      <td>experienced_90_days_plus</td>\n",
       "      <td>21947695</td>\n",
       "      <td>افزودن {{&lt;a href=\"/wiki/%D8%A7%D9%84%DA%AF%D9%...</td>\n",
       "      <td>1856</td>\n",
       "      <td>&lt;tr&gt;\\n  &lt;td colspan=\"2\" class=\"diff-lineno\"&gt;سط...</td>\n",
       "      <td>https://fa.wikipedia.org/w/index.php?oldid=219...</td>\n",
       "      <td>2018-01-13 11:26:56</td>\n",
       "    </tr>\n",
       "    <tr>\n",
       "      <th>(4529, fa, experienced_90_days_plus, 1452505)</th>\n",
       "      <td>4529</td>\n",
       "      <td>fa</td>\n",
       "      <td>experienced_90_days_plus</td>\n",
       "      <td>21947593</td>\n",
       "      <td>تاریخچه یکسان</td>\n",
       "      <td>54</td>\n",
       "      <td>&lt;tr&gt;\\n  &lt;td colspan=\"2\" class=\"diff-lineno\"&gt;سط...</td>\n",
       "      <td>https://fa.wikipedia.org/w/index.php?oldid=219...</td>\n",
       "      <td>2018-01-13 11:22:21</td>\n",
       "    </tr>\n",
       "    <tr>\n",
       "      <th>(4529, fa, experienced_90_days_plus, 1452505)</th>\n",
       "      <td>4529</td>\n",
       "      <td>fa</td>\n",
       "      <td>experienced_90_days_plus</td>\n",
       "      <td>21910629</td>\n",
       "      <td>&lt;span dir=\"auto\"&gt;&lt;span class=\"autocomment\"&gt;&lt;a ...</td>\n",
       "      <td>3929</td>\n",
       "      <td>&lt;tr&gt;\\n  &lt;td colspan=\"2\" class=\"diff-lineno\"&gt;سط...</td>\n",
       "      <td>https://fa.wikipedia.org/w/index.php?oldid=219...</td>\n",
       "      <td>2018-01-05 18:36:17</td>\n",
       "    </tr>\n",
       "    <tr>\n",
       "      <th>(4529, fa, experienced_90_days_plus, 1452505)</th>\n",
       "      <td>4529</td>\n",
       "      <td>fa</td>\n",
       "      <td>experienced_90_days_plus</td>\n",
       "      <td>21906993</td>\n",
       "      <td>++</td>\n",
       "      <td>2511</td>\n",
       "      <td>&lt;tr&gt;\\n  &lt;td colspan=\"2\" class=\"diff-lineno\"&gt;سط...</td>\n",
       "      <td>https://fa.wikipedia.org/w/index.php?oldid=219...</td>\n",
       "      <td>2018-01-04 21:06:54</td>\n",
       "    </tr>\n",
       "  </tbody>\n",
       "</table>\n",
       "</div>"
      ],
      "text/plain": [
       "                                               user_id lang  \\\n",
       "(4529, fa, experienced_90_days_plus, 1452505)     4529   fa   \n",
       "(4529, fa, experienced_90_days_plus, 1452505)     4529   fa   \n",
       "(4529, fa, experienced_90_days_plus, 1452505)     4529   fa   \n",
       "(4529, fa, experienced_90_days_plus, 1452505)     4529   fa   \n",
       "(4529, fa, experienced_90_days_plus, 1452505)     4529   fa   \n",
       "\n",
       "                                                   newcomer_experienced  \\\n",
       "(4529, fa, experienced_90_days_plus, 1452505)  experienced_90_days_plus   \n",
       "(4529, fa, experienced_90_days_plus, 1452505)  experienced_90_days_plus   \n",
       "(4529, fa, experienced_90_days_plus, 1452505)  experienced_90_days_plus   \n",
       "(4529, fa, experienced_90_days_plus, 1452505)  experienced_90_days_plus   \n",
       "(4529, fa, experienced_90_days_plus, 1452505)  experienced_90_days_plus   \n",
       "\n",
       "                                                 rev_id  \\\n",
       "(4529, fa, experienced_90_days_plus, 1452505)  22166693   \n",
       "(4529, fa, experienced_90_days_plus, 1452505)  21947695   \n",
       "(4529, fa, experienced_90_days_plus, 1452505)  21947593   \n",
       "(4529, fa, experienced_90_days_plus, 1452505)  21910629   \n",
       "(4529, fa, experienced_90_days_plus, 1452505)  21906993   \n",
       "\n",
       "                                                                                    edit_comment  \\\n",
       "(4529, fa, experienced_90_days_plus, 1452505)  تغییرمسیر به <a href=\"/wiki/%D9%86%D9%85%D9%88...   \n",
       "(4529, fa, experienced_90_days_plus, 1452505)  افزودن {{<a href=\"/wiki/%D8%A7%D9%84%DA%AF%D9%...   \n",
       "(4529, fa, experienced_90_days_plus, 1452505)                                      تاریخچه یکسان   \n",
       "(4529, fa, experienced_90_days_plus, 1452505)  <span dir=\"auto\"><span class=\"autocomment\"><a ...   \n",
       "(4529, fa, experienced_90_days_plus, 1452505)                                                 ++   \n",
       "\n",
       "                                               diff_size  \\\n",
       "(4529, fa, experienced_90_days_plus, 1452505)         65   \n",
       "(4529, fa, experienced_90_days_plus, 1452505)       1856   \n",
       "(4529, fa, experienced_90_days_plus, 1452505)         54   \n",
       "(4529, fa, experienced_90_days_plus, 1452505)       3929   \n",
       "(4529, fa, experienced_90_days_plus, 1452505)       2511   \n",
       "\n",
       "                                                                                       html_blob  \\\n",
       "(4529, fa, experienced_90_days_plus, 1452505)  <tr>\\n  <td colspan=\"2\" class=\"diff-lineno\">سط...   \n",
       "(4529, fa, experienced_90_days_plus, 1452505)  <tr>\\n  <td colspan=\"2\" class=\"diff-lineno\">سط...   \n",
       "(4529, fa, experienced_90_days_plus, 1452505)  <tr>\\n  <td colspan=\"2\" class=\"diff-lineno\">سط...   \n",
       "(4529, fa, experienced_90_days_plus, 1452505)  <tr>\\n  <td colspan=\"2\" class=\"diff-lineno\">سط...   \n",
       "(4529, fa, experienced_90_days_plus, 1452505)  <tr>\\n  <td colspan=\"2\" class=\"diff-lineno\">سط...   \n",
       "\n",
       "                                                                                       diff_link  \\\n",
       "(4529, fa, experienced_90_days_plus, 1452505)  https://fa.wikipedia.org/w/index.php?oldid=221...   \n",
       "(4529, fa, experienced_90_days_plus, 1452505)  https://fa.wikipedia.org/w/index.php?oldid=219...   \n",
       "(4529, fa, experienced_90_days_plus, 1452505)  https://fa.wikipedia.org/w/index.php?oldid=219...   \n",
       "(4529, fa, experienced_90_days_plus, 1452505)  https://fa.wikipedia.org/w/index.php?oldid=219...   \n",
       "(4529, fa, experienced_90_days_plus, 1452505)  https://fa.wikipedia.org/w/index.php?oldid=219...   \n",
       "\n",
       "                                                    rev_timestamp  \n",
       "(4529, fa, experienced_90_days_plus, 1452505) 2018-02-17 23:20:57  \n",
       "(4529, fa, experienced_90_days_plus, 1452505) 2018-01-13 11:26:56  \n",
       "(4529, fa, experienced_90_days_plus, 1452505) 2018-01-13 11:22:21  \n",
       "(4529, fa, experienced_90_days_plus, 1452505) 2018-01-05 18:36:17  \n",
       "(4529, fa, experienced_90_days_plus, 1452505) 2018-01-04 21:06:54  "
      ]
     },
     "execution_count": 62,
     "metadata": {},
     "output_type": "execute_result"
    }
   ],
   "source": [
    "be_for_out.head()"
   ]
  },
  {
   "cell_type": "code",
   "execution_count": 65,
   "metadata": {},
   "outputs": [],
   "source": [
    "be_for_out.to_csv('outputs/user_edit_diffs_nondamaging_goodfaith_max17_evennamespaces_100_per_experiencelevel_per_lang_with_de_ts.csv', index=False, encoding='utf-8')"
   ]
  },
  {
   "cell_type": "markdown",
   "metadata": {},
   "source": [
    "# Make labour sessions"
   ]
  },
  {
   "cell_type": "code",
   "execution_count": 7,
   "metadata": {},
   "outputs": [],
   "source": [
    "def get_timestamps_90_before_after_sim_treatment(userid, lang, before_after_sim):\n",
    "    '''this will get all the timestamps of edits for a user that occured before or after 90 days before, upto the  simulated treatment date'''\n",
    "    if before_after_sim=='before':\n",
    "        start, end = sim_observation_start_date, sim_treatment_date\n",
    "    elif before_after_sim=='after':\n",
    "        start, end = sim_treatment_date, sim_experiment_end_date\n",
    "        \n",
    "    con.execute('use {lang}wiki_p;'.format(lang=lang))\n",
    "    revsql = '''select rev_timestamp from revision_userindex where rev_user = {userid}\n",
    "                and rev_timestamp >= {datestr_start} and rev_timestamp < {datestr_end} \n",
    "                order by rev_timestamp\n",
    "                '''.format(datestr_end=end.strftime('%Y%m%d%H%M%S'), \n",
    "                           datestr_start=start.strftime('%Y%m%d%H%M%S'),\n",
    "                           userid=userid)\n",
    "    udf = pd.read_sql(revsql, con)\n",
    "    udf['rev_timestamp'] = udf['rev_timestamp'].apply(wmftimestamp)\n",
    "    return list(udf['rev_timestamp'])"
   ]
  },
  {
   "cell_type": "code",
   "execution_count": 18,
   "metadata": {},
   "outputs": [],
   "source": [
    "sub_df['timestamps_90_before_sim_treatment'] = sub_df.apply(lambda row: get_timestamps_90_before_after_sim_treatment(row['user_id'], row['lang'], 'before'), axis=1) \n",
    "sub_df['timestamps_90_after_sim_treatment'] = sub_df.apply(lambda row: get_timestamps_90_before_after_sim_treatment(row['user_id'], row['lang'], 'after'), axis=1) "
   ]
  },
  {
   "cell_type": "markdown",
   "metadata": {},
   "source": [
    "## more german power data finishing"
   ]
  },
  {
   "cell_type": "code",
   "execution_count": 51,
   "metadata": {},
   "outputs": [],
   "source": [
    "sub_df_de = pd.read_pickle('checkpoints/sub_df_de_with_thanks.pickle')"
   ]
  },
  {
   "cell_type": "code",
   "execution_count": 52,
   "metadata": {},
   "outputs": [],
   "source": [
    "sub_df_de['timestamps_90_before_sim_treatment'] = sub_df_de.apply(lambda row: get_timestamps_90_before_after_sim_treatment(row['user_id'], row['lang'], 'before'), axis=1) \n",
    "sub_df_de['timestamps_90_after_sim_treatment'] = sub_df_de.apply(lambda row: get_timestamps_90_before_after_sim_treatment(row['user_id'], row['lang'], 'after'), axis=1) "
   ]
  },
  {
   "cell_type": "code",
   "execution_count": 64,
   "metadata": {},
   "outputs": [],
   "source": [
    "# !rm data/deusers/*.pickle"
   ]
  },
  {
   "cell_type": "code",
   "execution_count": 65,
   "metadata": {},
   "outputs": [],
   "source": [
    "flagged_count = 0 \n",
    "def num_flagged_in_last_50(user_id, sim_treatment_date):\n",
    "    global flagged_count\n",
    "    if flagged_count % 100 == 0:\n",
    "        print(flagged_count)\n",
    "    flagged_count += 1\n",
    "    deuser_pickle_fname = f'data/deusers/{user_id}.pickle'\n",
    "    if not os.path.exists(deuser_pickle_fname):\n",
    "        deuser = get_flagged_revs(user_id, sim_treatment_date, return_all=True)\n",
    "        deuser.to_pickle(deuser_pickle_fname)\n",
    "    else:\n",
    "        deuser = pd.read_pickle(deuser_pickle_fname)    \n",
    "    \n",
    "    num_considerations = 50\n",
    "    deuser_short = deuser.sort_values('rev_timestamp', ascending=False).iloc[:num_considerations]\n",
    "    num_flagged = len(deuser_short[deuser_short['flagged']==True])\n",
    "    return num_flagged"
   ]
  },
  {
   "cell_type": "code",
   "execution_count": 66,
   "metadata": {},
   "outputs": [
    {
     "data": {
      "text/plain": [
       "<sqlalchemy.engine.result.ResultProxy at 0x7fd64a3792b0>"
      ]
     },
     "execution_count": 66,
     "metadata": {},
     "output_type": "execute_result"
    }
   ],
   "source": [
    "con.execute('use dewiki_p;')"
   ]
  },
  {
   "cell_type": "code",
   "execution_count": 67,
   "metadata": {},
   "outputs": [
    {
     "name": "stdout",
     "output_type": "stream",
     "text": [
      "0\n",
      "Error getting revert status for 88768071\n",
      "Error getting revert status for 80427598\n",
      "100\n",
      "Error getting revert status for 99073944\n",
      "Error getting revert status for 113898656\n",
      "200\n",
      "Error getting revert status for 173209974\n",
      "300\n",
      "Error getting revert status for 119234836\n",
      "Error getting revert status for 96078449\n",
      "400\n",
      "Error getting revert status for 166204532\n",
      "Error getting revert status for 167863647\n",
      "500\n",
      "Error getting revert status for 77754037\n",
      "Error getting revert status for 166411472\n",
      "600\n",
      "Error getting revert status for 163283756\n",
      "700\n",
      "800\n",
      "900\n",
      "Error getting revert status for 172297880\n",
      "Error getting revert status for 172297841\n",
      "1000\n",
      "Error getting revert status for 173531746\n",
      "1100\n",
      "1200\n",
      "Error getting revert status for 123447106\n",
      "Error getting revert status for 143490647\n",
      "Error getting revert status for 119077704\n",
      "Error getting revert status for 112246063\n",
      "Error getting revert status for 87079990\n",
      "Error getting revert status for 87055182\n",
      "Error getting revert status for 124524394\n",
      "Error getting revert status for 75556911\n",
      "Error getting revert status for 125487939\n",
      "1300\n",
      "Error getting revert status for 174056379\n",
      "Error getting revert status for 50773650\n",
      "1400\n",
      "Error getting revert status for 51110155\n",
      "Error getting revert status for 164529970\n",
      "Error getting revert status for 129663860\n",
      "Error getting revert status for 125311463\n",
      "Error getting revert status for 55147947\n",
      "Error getting revert status for 54111588\n",
      "Error getting revert status for 70945001\n",
      "Error getting revert status for 92729249\n",
      "Error getting revert status for 161693654\n",
      "Error getting revert status for 94955032\n",
      "Error getting revert status for 93597850\n",
      "Error getting revert status for 171386932\n",
      "Error getting revert status for 143451859\n",
      "Error getting revert status for 166978940\n",
      "Error getting revert status for 166978934\n",
      "Error getting revert status for 173247763\n",
      "Error getting revert status for 87283919\n",
      "1500\n",
      "Error getting revert status for 173241301\n",
      "Error getting revert status for 173210362\n",
      "Error getting revert status for 173209590\n",
      "Error getting revert status for 160623430\n",
      "Error getting revert status for 160022322\n",
      "1600\n",
      "Error getting revert status for 123975219\n",
      "Error getting revert status for 123975217\n",
      "Error getting revert status for 126108846\n",
      "Error getting revert status for 122762662\n",
      "Error getting revert status for 163695806\n",
      "1700\n",
      "Error getting revert status for 173239306\n"
     ]
    }
   ],
   "source": [
    "sub_df_de['num_flagged_revisions_pre_treatment'] = sub_df_de['user_id'].apply(lambda u: num_flagged_in_last_50(u, sim_treatment_date))"
   ]
  },
  {
   "cell_type": "code",
   "execution_count": 68,
   "metadata": {},
   "outputs": [
    {
     "data": {
      "text/plain": [
       "<matplotlib.axes._subplots.AxesSubplot at 0x7fd64a44a3c8>"
      ]
     },
     "execution_count": 68,
     "metadata": {},
     "output_type": "execute_result"
    },
    {
     "data": {
      "image/png": "[encoded data removed]",
      "text/plain": [
       "<Figure size 432x288 with 1 Axes>"
      ]
     },
     "metadata": {},
     "output_type": "display_data"
    }
   ],
   "source": [
    "sub_df_de['num_flagged_revisions_pre_treatment'].hist()"
   ]
  },
  {
   "cell_type": "code",
   "execution_count": 69,
   "metadata": {},
   "outputs": [],
   "source": [
    "sub_df_de.to_pickle('checkpoints/sub_df_de_with_thanks_with_flagged.pickle')"
   ]
  },
  {
   "cell_type": "code",
   "execution_count": 70,
   "metadata": {},
   "outputs": [],
   "source": [
    "sub_df_de = pd.read_pickle('checkpoints/sub_df_de_with_thanks_with_flagged.pickle')"
   ]
  },
  {
   "cell_type": "code",
   "execution_count": 71,
   "metadata": {},
   "outputs": [],
   "source": [
    "def make_sessions(ts_list):\n",
    "    #these structures store the timestamps\n",
    "    edit_sessions = []\n",
    "    curr_edit_session = []\n",
    "\n",
    "    #initialize prev to the earliest data possible\n",
    "    prev_timestamp = datetime.datetime(year=2001, month=1, day=1)\n",
    "\n",
    "    for index, ts in enumerate(ts_list):\n",
    "#         print('index:', index)\n",
    "        curr_timestamp = ts\n",
    "        #if curr timestamp within 1 hour of last then append\n",
    "        if curr_timestamp - prev_timestamp < datetime.timedelta(hours=1):\n",
    "            curr_edit_session.append(curr_timestamp)\n",
    "        # else start a new edit session\n",
    "        else:\n",
    "            #if there's a pre-existing session save it to the return\n",
    "            if curr_edit_session:\n",
    "                edit_sessions.append(curr_edit_session)\n",
    "            # and start a new session\n",
    "            curr_edit_session = [curr_timestamp]\n",
    "        # this is before\n",
    "        if index < len(ts_list)-1:\n",
    "            prev_timestamp = curr_timestamp\n",
    "        # this is the last item save this session too.\n",
    "        else:\n",
    "#             print('this is the end')\n",
    "            edit_sessions.append(curr_edit_session)\n",
    "        \n",
    "    return edit_sessions\n",
    "\n",
    "def labour_hours(ts_list):\n",
    "    sessions = make_sessions(ts_list)\n",
    "    total_labour_hours = 0\n",
    "    for session in sessions:\n",
    "        if len(session) == 1:\n",
    "            total_labour_hours += 1\n",
    "        else:\n",
    "            session_duration = max(session) - min(session)\n",
    "            session_seconds = session_duration.seconds\n",
    "            session_hours = session_seconds / (60*60)\n",
    "            session_hours += 1 # for this session\n",
    "            total_labour_hours += session_hours\n",
    "    return total_labour_hours\n",
    "\n",
    "def ts_in_week(ts_list, date_start, date_end):\n",
    "    in_week = []\n",
    "    for ts in ts_list:\n",
    "        if ts > date_start and ts <= date_end:\n",
    "            in_week.append(ts)\n",
    "    return in_week"
   ]
  },
  {
   "cell_type": "code",
   "execution_count": 72,
   "metadata": {},
   "outputs": [
    {
     "data": {
      "image/png": "[encoded data removed]",
      "text/plain": [
       "<Figure size 432x288 with 1 Axes>"
      ]
     },
     "metadata": {},
     "output_type": "display_data"
    },
    {
     "data": {
      "image/png": "[encoded data removed]",
      "text/plain": [
       "<Figure size 432x288 with 1 Axes>"
      ]
     },
     "metadata": {},
     "output_type": "display_data"
    }
   ],
   "source": [
    "sub_df_de['labour_hours_90_pre_treatment'] = sub_df_de['timestamps_90_before_sim_treatment'].apply(labour_hours)\n",
    "\n",
    "sub_df_de['num_edits_90_pre_treatment'] = sub_df_de['timestamps_90_before_sim_treatment'].apply(len)\n",
    "\n",
    "sub_df_de['labour_hours_90_post_treatment'] = sub_df_de['timestamps_90_after_sim_treatment'].apply(labour_hours)\n",
    "\n",
    "sub_df_de['num_edits_90_post_treatment'] = sub_df_de['timestamps_90_after_sim_treatment'].apply(len)\n",
    "\n",
    "sub_df_de[['num_edits_90_pre_treatment', 'num_edits_90_post_treatment']].plot()\n",
    "\n",
    "sub_df_de[['labour_hours_90_pre_treatment', 'labour_hours_90_post_treatment']].plot()\n",
    "\n",
    "sub_df_de.to_pickle('checkpoints/sub_df_de_revs_ts_labour_hours_1.pickle')\n",
    "\n",
    "sub_df_de = pd.read_pickle('checkpoints/sub_df_de_revs_ts_labour_hours_1.pickle')"
   ]
  },
  {
   "cell_type": "code",
   "execution_count": 73,
   "metadata": {},
   "outputs": [
    {
     "ename": "KeyboardInterrupt",
     "evalue": "",
     "output_type": "error",
     "traceback": [
      "\u001b[0;31m---------------------------------------------------------------------------\u001b[0m",
      "\u001b[0;31mKeyboardInterrupt\u001b[0m                         Traceback (most recent call last)",
      "\u001b[0;32m<ipython-input-73-b446fac66066>\u001b[0m in \u001b[0;36m<module>\u001b[0;34m()\u001b[0m\n\u001b[1;32m     11\u001b[0m \u001b[0msub_df\u001b[0m\u001b[0;34m[\u001b[0m\u001b[0;34m[\u001b[0m\u001b[0;34m'labour_hours_90_pre_treatment'\u001b[0m\u001b[0;34m,\u001b[0m \u001b[0;34m'labour_hours_90_post_treatment'\u001b[0m\u001b[0;34m]\u001b[0m\u001b[0;34m]\u001b[0m\u001b[0;34m.\u001b[0m\u001b[0mplot\u001b[0m\u001b[0;34m(\u001b[0m\u001b[0;34m)\u001b[0m\u001b[0;34m\u001b[0m\u001b[0m\n\u001b[1;32m     12\u001b[0m \u001b[0;34m\u001b[0m\u001b[0m\n\u001b[0;32m---> 13\u001b[0;31m \u001b[0msub_df\u001b[0m\u001b[0;34m.\u001b[0m\u001b[0mto_pickle\u001b[0m\u001b[0;34m(\u001b[0m\u001b[0;34m'checkpoints/sub_df_revs_ts_labour_hours_1.pickle'\u001b[0m\u001b[0;34m)\u001b[0m\u001b[0;34m\u001b[0m\u001b[0m\n\u001b[0m\u001b[1;32m     14\u001b[0m \u001b[0;34m\u001b[0m\u001b[0m\n\u001b[1;32m     15\u001b[0m \u001b[0msub_df\u001b[0m \u001b[0;34m=\u001b[0m \u001b[0mpd\u001b[0m\u001b[0;34m.\u001b[0m\u001b[0mread_pickle\u001b[0m\u001b[0;34m(\u001b[0m\u001b[0;34m'checkpoints/sub_df_revs_ts_labour_hours_1.pickle'\u001b[0m\u001b[0;34m)\u001b[0m\u001b[0;34m\u001b[0m\u001b[0m\n",
      "\u001b[0;32m/srv/paws/lib/python3.6/site-packages/pandas/core/generic.py\u001b[0m in \u001b[0;36mto_pickle\u001b[0;34m(self, path, compression, protocol)\u001b[0m\n\u001b[1;32m   2187\u001b[0m         \u001b[0;32mfrom\u001b[0m \u001b[0mpandas\u001b[0m\u001b[0;34m.\u001b[0m\u001b[0mio\u001b[0m\u001b[0;34m.\u001b[0m\u001b[0mpickle\u001b[0m \u001b[0;32mimport\u001b[0m \u001b[0mto_pickle\u001b[0m\u001b[0;34m\u001b[0m\u001b[0m\n\u001b[1;32m   2188\u001b[0m         return to_pickle(self, path, compression=compression,\n\u001b[0;32m-> 2189\u001b[0;31m                          protocol=protocol)\n\u001b[0m\u001b[1;32m   2190\u001b[0m \u001b[0;34m\u001b[0m\u001b[0m\n\u001b[1;32m   2191\u001b[0m     \u001b[0;32mdef\u001b[0m \u001b[0mto_clipboard\u001b[0m\u001b[0;34m(\u001b[0m\u001b[0mself\u001b[0m\u001b[0;34m,\u001b[0m \u001b[0mexcel\u001b[0m\u001b[0;34m=\u001b[0m\u001b[0;32mTrue\u001b[0m\u001b[0;34m,\u001b[0m \u001b[0msep\u001b[0m\u001b[0;34m=\u001b[0m\u001b[0;32mNone\u001b[0m\u001b[0;34m,\u001b[0m \u001b[0;34m**\u001b[0m\u001b[0mkwargs\u001b[0m\u001b[0;34m)\u001b[0m\u001b[0;34m:\u001b[0m\u001b[0;34m\u001b[0m\u001b[0m\n",
      "\u001b[0;32m/srv/paws/lib/python3.6/site-packages/pandas/io/pickle.py\u001b[0m in \u001b[0;36mto_pickle\u001b[0;34m(obj, path, compression, protocol)\u001b[0m\n\u001b[1;32m     78\u001b[0m     \u001b[0;32mfinally\u001b[0m\u001b[0;34m:\u001b[0m\u001b[0;34m\u001b[0m\u001b[0m\n\u001b[1;32m     79\u001b[0m         \u001b[0;32mfor\u001b[0m \u001b[0m_f\u001b[0m \u001b[0;32min\u001b[0m \u001b[0mfh\u001b[0m\u001b[0;34m:\u001b[0m\u001b[0;34m\u001b[0m\u001b[0m\n\u001b[0;32m---> 80\u001b[0;31m             \u001b[0m_f\u001b[0m\u001b[0;34m.\u001b[0m\u001b[0mclose\u001b[0m\u001b[0;34m(\u001b[0m\u001b[0;34m)\u001b[0m\u001b[0;34m\u001b[0m\u001b[0m\n\u001b[0m\u001b[1;32m     81\u001b[0m \u001b[0;34m\u001b[0m\u001b[0m\n\u001b[1;32m     82\u001b[0m \u001b[0;34m\u001b[0m\u001b[0m\n",
      "\u001b[0;31mKeyboardInterrupt\u001b[0m: "
     ]
    },
    {
     "data": {
      "image/png": "[encoded data removed]",
      "text/plain": [
       "<Figure size 432x288 with 1 Axes>"
      ]
     },
     "metadata": {},
     "output_type": "display_data"
    },
    {
     "data": {
      "image/png": "[encoded data removed]",
      "text/plain": [
       "<Figure size 432x288 with 1 Axes>"
      ]
     },
     "metadata": {},
     "output_type": "display_data"
    }
   ],
   "source": [
    "sub_df['labour_hours_90_pre_treatment'] = sub_df['timestamps_90_before_sim_treatment'].apply(labour_hours)\n",
    "\n",
    "sub_df['num_edits_90_pre_treatment'] = sub_df['timestamps_90_before_sim_treatment'].apply(len)\n",
    "\n",
    "sub_df['labour_hours_90_post_treatment'] = sub_df['timestamps_90_after_sim_treatment'].apply(labour_hours)\n",
    "\n",
    "sub_df['num_edits_90_post_treatment'] = sub_df['timestamps_90_after_sim_treatment'].apply(len)\n",
    "\n",
    "sub_df[['num_edits_90_pre_treatment', 'num_edits_90_post_treatment']].plot()\n",
    "\n",
    "sub_df[['labour_hours_90_pre_treatment', 'labour_hours_90_post_treatment']].plot()\n",
    "\n",
    "sub_df.to_pickle('checkpoints/sub_df_revs_ts_labour_hours_1.pickle')\n",
    "\n",
    "sub_df = pd.read_pickle('checkpoints/sub_df_revs_ts_labour_hours_1.pickle')\n",
    "\n",
    "inactive = sub_df[sub_df['active_in_90_pre_treatment']==False]\n",
    "active = sub_df[sub_df['active_in_90_pre_treatment']==True]\n",
    "\n",
    "active['num_edits_90_pre_treatment'].mean()\n",
    "\n",
    "active['num_edits_90_post_treatment'].mean()"
   ]
  },
  {
   "cell_type": "code",
   "execution_count": 74,
   "metadata": {},
   "outputs": [
    {
     "name": "stdout",
     "output_type": "stream",
     "text": [
      "num_edits_week_1_post_treatment\n",
      "num_edits_week_2_post_treatment\n",
      "num_edits_week_3_post_treatment\n",
      "num_edits_week_4_post_treatment\n",
      "num_edits_week_5_post_treatment\n",
      "num_edits_week_6_post_treatment\n",
      "num_edits_week_7_post_treatment\n",
      "num_edits_week_8_post_treatment\n",
      "num_edits_week_9_post_treatment\n",
      "num_edits_week_10_post_treatment\n",
      "num_edits_week_11_post_treatment\n",
      "num_edits_week_12_post_treatment\n",
      "any_edits_week_1_post_treatment\n",
      "any_edits_week_2_post_treatment\n",
      "any_edits_week_3_post_treatment\n",
      "any_edits_week_4_post_treatment\n",
      "any_edits_week_5_post_treatment\n",
      "any_edits_week_6_post_treatment\n",
      "any_edits_week_7_post_treatment\n",
      "any_edits_week_8_post_treatment\n",
      "any_edits_week_9_post_treatment\n",
      "any_edits_week_10_post_treatment\n",
      "any_edits_week_11_post_treatment\n",
      "any_edits_week_12_post_treatment\n",
      "labor_hours_week_1_post_treatment\n",
      "labor_hours_week_2_post_treatment\n",
      "labor_hours_week_3_post_treatment\n",
      "labor_hours_week_4_post_treatment\n",
      "labor_hours_week_5_post_treatment\n",
      "labor_hours_week_6_post_treatment\n",
      "labor_hours_week_7_post_treatment\n",
      "labor_hours_week_8_post_treatment\n",
      "labor_hours_week_9_post_treatment\n",
      "labor_hours_week_10_post_treatment\n",
      "labor_hours_week_11_post_treatment\n",
      "labor_hours_week_12_post_treatment\n",
      "any_labour_hours_week_1_post_treatment\n",
      "any_labour_hours_week_2_post_treatment\n",
      "any_labour_hours_week_3_post_treatment\n",
      "any_labour_hours_week_4_post_treatment\n",
      "any_labour_hours_week_5_post_treatment\n",
      "any_labour_hours_week_6_post_treatment\n",
      "any_labour_hours_week_7_post_treatment\n",
      "any_labour_hours_week_8_post_treatment\n",
      "any_labour_hours_week_9_post_treatment\n",
      "any_labour_hours_week_10_post_treatment\n",
      "any_labour_hours_week_11_post_treatment\n",
      "any_labour_hours_week_12_post_treatment\n"
     ]
    }
   ],
   "source": [
    "edit_col_f = 'num_edits_week_{ind}_post_treatment'\n",
    "anye_col_f = 'any_edits_week_{ind}_post_treatment'\n",
    "labh_col_f = 'labour_hours_week_{ind}_post_treatment'\n",
    "anyl_col_f = 'any_labour_hours_week_{ind}_post_treatment'\n",
    "\n",
    "col_fn ={edit_col_f: len,\n",
    "         anye_col_f: lambda x: len(x)>0,\n",
    "         labh_col_f: lambda x: labour_hours(x),\n",
    "         anyl_col_f: lambda x: labour_hours(x)>0}\n",
    "\n",
    "sub_df_list = []\n",
    "try:\n",
    "    sub_df_list.append(sub_df)\n",
    "except NameError:\n",
    "    pass\n",
    "try:\n",
    "    sub_df_list.append(sub_df_de)\n",
    "except NameError:\n",
    "    pass\n",
    "\n",
    "\n",
    "for col_f, fn in col_fn.items():\n",
    "    for ind, (week_n_start, week_n_end) in enumerate(window_seq(range(13))):\n",
    "        ind = ind+1\n",
    "        days_after_treat_start = week_n_start * 7 \n",
    "        days_after_treat_end = week_n_end * 7\n",
    "        date_start = sim_treatment_date + td(days=days_after_treat_start)\n",
    "        date_end = sim_treatment_date + td(days=days_after_treat_end)\n",
    "\n",
    "        col = col_f.format(ind=ind)\n",
    "        print(col)\n",
    "\n",
    "        ts_week = f'ts_in_week_{ind}'\n",
    "        \n",
    "        for sub_df in sub_df_list:\n",
    "            sub_df[ts_week] = sub_df['timestamps_90_after_sim_treatment'].apply(lambda x: ts_in_week(x, date_start, date_end))\n",
    "            sub_df[col] = sub_df[ts_week].apply(fn)\n",
    "\n",
    "\n",
    "            del sub_df[ts_week]"
   ]
  },
  {
   "cell_type": "code",
   "execution_count": 75,
   "metadata": {},
   "outputs": [],
   "source": [
    "sub_df_de.to_pickle('checkpoints/sub_df_de_revs_ts_labour_hours_survival_1.pickle')"
   ]
  },
  {
   "cell_type": "code",
   "execution_count": 78,
   "metadata": {},
   "outputs": [
    {
     "data": {
      "text/html": [
       "<div>\n",
       "<style scoped>\n",
       "    .dataframe tbody tr th:only-of-type {\n",
       "        vertical-align: middle;\n",
       "    }\n",
       "\n",
       "    .dataframe tbody tr th {\n",
       "        vertical-align: top;\n",
       "    }\n",
       "\n",
       "    .dataframe thead th {\n",
       "        text-align: right;\n",
       "    }\n",
       "</style>\n",
       "<table border=\"1\" class=\"dataframe\">\n",
       "  <thead>\n",
       "    <tr style=\"text-align: right;\">\n",
       "      <th></th>\n",
       "      <th>user_id</th>\n",
       "      <th>user_registration</th>\n",
       "      <th>first_edit</th>\n",
       "      <th>last_edit</th>\n",
       "      <th>lang</th>\n",
       "      <th>num_prev_thanks_before_treatment</th>\n",
       "      <th>active_in_30_pre_treatment</th>\n",
       "      <th>active_in_90_pre_treatment</th>\n",
       "      <th>experience_level_pre_treatment</th>\n",
       "      <th>timestamps_90_before_sim_treatment</th>\n",
       "      <th>...</th>\n",
       "      <th>any_labour_hours_week_3_post_treatment</th>\n",
       "      <th>any_labour_hours_week_4_post_treatment</th>\n",
       "      <th>any_labour_hours_week_5_post_treatment</th>\n",
       "      <th>any_labour_hours_week_6_post_treatment</th>\n",
       "      <th>any_labour_hours_week_7_post_treatment</th>\n",
       "      <th>any_labour_hours_week_8_post_treatment</th>\n",
       "      <th>any_labour_hours_week_9_post_treatment</th>\n",
       "      <th>any_labour_hours_week_10_post_treatment</th>\n",
       "      <th>any_labour_hours_week_11_post_treatment</th>\n",
       "      <th>any_labour_hours_week_12_post_treatment</th>\n",
       "    </tr>\n",
       "  </thead>\n",
       "  <tbody>\n",
       "    <tr>\n",
       "      <th>5574746</th>\n",
       "      <td>2739292</td>\n",
       "      <td>2017-09-20 11:51:19</td>\n",
       "      <td>2017-09-20 11:59:24</td>\n",
       "      <td>2018-02-06 15:20:40</td>\n",
       "      <td>de</td>\n",
       "      <td>0.0</td>\n",
       "      <td>True</td>\n",
       "      <td>True</td>\n",
       "      <td>bin_90</td>\n",
       "      <td>[2018-01-25 14:20:48, 2018-01-25 14:21:38, 201...</td>\n",
       "      <td>...</td>\n",
       "      <td>False</td>\n",
       "      <td>False</td>\n",
       "      <td>False</td>\n",
       "      <td>False</td>\n",
       "      <td>False</td>\n",
       "      <td>False</td>\n",
       "      <td>True</td>\n",
       "      <td>False</td>\n",
       "      <td>False</td>\n",
       "      <td>False</td>\n",
       "    </tr>\n",
       "    <tr>\n",
       "      <th>5606774</th>\n",
       "      <td>2771681</td>\n",
       "      <td>2017-11-06 11:20:35</td>\n",
       "      <td>2017-11-06 11:36:14</td>\n",
       "      <td>2018-03-02 13:49:52</td>\n",
       "      <td>de</td>\n",
       "      <td>0.0</td>\n",
       "      <td>True</td>\n",
       "      <td>True</td>\n",
       "      <td>bin_90</td>\n",
       "      <td>[2018-01-01 15:44:44, 2018-01-23 20:38:29, 201...</td>\n",
       "      <td>...</td>\n",
       "      <td>True</td>\n",
       "      <td>False</td>\n",
       "      <td>False</td>\n",
       "      <td>False</td>\n",
       "      <td>False</td>\n",
       "      <td>False</td>\n",
       "      <td>False</td>\n",
       "      <td>False</td>\n",
       "      <td>False</td>\n",
       "      <td>False</td>\n",
       "    </tr>\n",
       "    <tr>\n",
       "      <th>5585628</th>\n",
       "      <td>2750297</td>\n",
       "      <td>2017-10-06 20:48:31</td>\n",
       "      <td>2017-10-06 20:53:43</td>\n",
       "      <td>2018-02-25 23:16:04</td>\n",
       "      <td>de</td>\n",
       "      <td>0.0</td>\n",
       "      <td>True</td>\n",
       "      <td>True</td>\n",
       "      <td>bin_90</td>\n",
       "      <td>[2018-01-07 23:40:46, 2018-01-14 18:45:04, 201...</td>\n",
       "      <td>...</td>\n",
       "      <td>False</td>\n",
       "      <td>False</td>\n",
       "      <td>False</td>\n",
       "      <td>False</td>\n",
       "      <td>False</td>\n",
       "      <td>False</td>\n",
       "      <td>False</td>\n",
       "      <td>False</td>\n",
       "      <td>False</td>\n",
       "      <td>False</td>\n",
       "    </tr>\n",
       "    <tr>\n",
       "      <th>5595824</th>\n",
       "      <td>2760580</td>\n",
       "      <td>2017-10-21 10:25:22</td>\n",
       "      <td>2017-10-21 10:42:13</td>\n",
       "      <td>2018-02-25 11:45:25</td>\n",
       "      <td>de</td>\n",
       "      <td>0.0</td>\n",
       "      <td>True</td>\n",
       "      <td>True</td>\n",
       "      <td>bin_90</td>\n",
       "      <td>[2017-12-29 13:26:00, 2018-02-04 14:28:32, 201...</td>\n",
       "      <td>...</td>\n",
       "      <td>False</td>\n",
       "      <td>False</td>\n",
       "      <td>False</td>\n",
       "      <td>False</td>\n",
       "      <td>False</td>\n",
       "      <td>True</td>\n",
       "      <td>True</td>\n",
       "      <td>False</td>\n",
       "      <td>False</td>\n",
       "      <td>False</td>\n",
       "    </tr>\n",
       "    <tr>\n",
       "      <th>5617590</th>\n",
       "      <td>2782552</td>\n",
       "      <td>2017-11-20 19:02:25</td>\n",
       "      <td>2017-11-21 13:40:40</td>\n",
       "      <td>2018-02-26 15:37:22</td>\n",
       "      <td>de</td>\n",
       "      <td>8.0</td>\n",
       "      <td>True</td>\n",
       "      <td>True</td>\n",
       "      <td>bin_90</td>\n",
       "      <td>[2017-12-06 10:11:13, 2017-12-07 16:52:08, 201...</td>\n",
       "      <td>...</td>\n",
       "      <td>True</td>\n",
       "      <td>False</td>\n",
       "      <td>False</td>\n",
       "      <td>False</td>\n",
       "      <td>False</td>\n",
       "      <td>True</td>\n",
       "      <td>False</td>\n",
       "      <td>False</td>\n",
       "      <td>False</td>\n",
       "      <td>False</td>\n",
       "    </tr>\n",
       "  </tbody>\n",
       "</table>\n",
       "<p>5 rows × 64 columns</p>\n",
       "</div>"
      ],
      "text/plain": [
       "         user_id   user_registration          first_edit           last_edit  \\\n",
       "5574746  2739292 2017-09-20 11:51:19 2017-09-20 11:59:24 2018-02-06 15:20:40   \n",
       "5606774  2771681 2017-11-06 11:20:35 2017-11-06 11:36:14 2018-03-02 13:49:52   \n",
       "5585628  2750297 2017-10-06 20:48:31 2017-10-06 20:53:43 2018-02-25 23:16:04   \n",
       "5595824  2760580 2017-10-21 10:25:22 2017-10-21 10:42:13 2018-02-25 11:45:25   \n",
       "5617590  2782552 2017-11-20 19:02:25 2017-11-21 13:40:40 2018-02-26 15:37:22   \n",
       "\n",
       "        lang  num_prev_thanks_before_treatment  active_in_30_pre_treatment  \\\n",
       "5574746   de                               0.0                        True   \n",
       "5606774   de                               0.0                        True   \n",
       "5585628   de                               0.0                        True   \n",
       "5595824   de                               0.0                        True   \n",
       "5617590   de                               8.0                        True   \n",
       "\n",
       "         active_in_90_pre_treatment experience_level_pre_treatment  \\\n",
       "5574746                        True                         bin_90   \n",
       "5606774                        True                         bin_90   \n",
       "5585628                        True                         bin_90   \n",
       "5595824                        True                         bin_90   \n",
       "5617590                        True                         bin_90   \n",
       "\n",
       "                        timestamps_90_before_sim_treatment  \\\n",
       "5574746  [2018-01-25 14:20:48, 2018-01-25 14:21:38, 201...   \n",
       "5606774  [2018-01-01 15:44:44, 2018-01-23 20:38:29, 201...   \n",
       "5585628  [2018-01-07 23:40:46, 2018-01-14 18:45:04, 201...   \n",
       "5595824  [2017-12-29 13:26:00, 2018-02-04 14:28:32, 201...   \n",
       "5617590  [2017-12-06 10:11:13, 2017-12-07 16:52:08, 201...   \n",
       "\n",
       "                          ...                     \\\n",
       "5574746                   ...                      \n",
       "5606774                   ...                      \n",
       "5585628                   ...                      \n",
       "5595824                   ...                      \n",
       "5617590                   ...                      \n",
       "\n",
       "        any_labour_hours_week_3_post_treatment  \\\n",
       "5574746                                  False   \n",
       "5606774                                   True   \n",
       "5585628                                  False   \n",
       "5595824                                  False   \n",
       "5617590                                   True   \n",
       "\n",
       "         any_labour_hours_week_4_post_treatment  \\\n",
       "5574746                                   False   \n",
       "5606774                                   False   \n",
       "5585628                                   False   \n",
       "5595824                                   False   \n",
       "5617590                                   False   \n",
       "\n",
       "         any_labour_hours_week_5_post_treatment  \\\n",
       "5574746                                   False   \n",
       "5606774                                   False   \n",
       "5585628                                   False   \n",
       "5595824                                   False   \n",
       "5617590                                   False   \n",
       "\n",
       "         any_labour_hours_week_6_post_treatment  \\\n",
       "5574746                                   False   \n",
       "5606774                                   False   \n",
       "5585628                                   False   \n",
       "5595824                                   False   \n",
       "5617590                                   False   \n",
       "\n",
       "         any_labour_hours_week_7_post_treatment  \\\n",
       "5574746                                   False   \n",
       "5606774                                   False   \n",
       "5585628                                   False   \n",
       "5595824                                   False   \n",
       "5617590                                   False   \n",
       "\n",
       "         any_labour_hours_week_8_post_treatment  \\\n",
       "5574746                                   False   \n",
       "5606774                                   False   \n",
       "5585628                                   False   \n",
       "5595824                                    True   \n",
       "5617590                                    True   \n",
       "\n",
       "         any_labour_hours_week_9_post_treatment  \\\n",
       "5574746                                    True   \n",
       "5606774                                   False   \n",
       "5585628                                   False   \n",
       "5595824                                    True   \n",
       "5617590                                   False   \n",
       "\n",
       "         any_labour_hours_week_10_post_treatment  \\\n",
       "5574746                                    False   \n",
       "5606774                                    False   \n",
       "5585628                                    False   \n",
       "5595824                                    False   \n",
       "5617590                                    False   \n",
       "\n",
       "         any_labour_hours_week_11_post_treatment  \\\n",
       "5574746                                    False   \n",
       "5606774                                    False   \n",
       "5585628                                    False   \n",
       "5595824                                    False   \n",
       "5617590                                    False   \n",
       "\n",
       "         any_labour_hours_week_12_post_treatment  \n",
       "5574746                                    False  \n",
       "5606774                                    False  \n",
       "5585628                                    False  \n",
       "5595824                                    False  \n",
       "5617590                                    False  \n",
       "\n",
       "[5 rows x 64 columns]"
      ]
     },
     "execution_count": 78,
     "metadata": {},
     "output_type": "execute_result"
    }
   ],
   "source": [
    "sub_df_de.tail()"
   ]
  },
  {
   "cell_type": "code",
   "execution_count": null,
   "metadata": {},
   "outputs": [],
   "source": [
    "sub_df.to_pickle('checkpoints/sub_df_revs_ts_labour_hours_survival_1.pickle')"
   ]
  },
  {
   "cell_type": "code",
   "execution_count": 33,
   "metadata": {},
   "outputs": [],
   "source": [
    "sub_df = pd.read_pickle('checkpoints/sub_df_revs_ts_labour_hours_survival_1.pickle')"
   ]
  },
  {
   "cell_type": "code",
   "execution_count": 29,
   "metadata": {},
   "outputs": [
    {
     "data": {
      "text/plain": [
       "108196.2"
      ]
     },
     "execution_count": 29,
     "metadata": {},
     "output_type": "execute_result"
    }
   ],
   "source": [
    "sub_df.memory_usage().sum().sum()"
   ]
  },
  {
   "cell_type": "code",
   "execution_count": 79,
   "metadata": {},
   "outputs": [
    {
     "data": {
      "text/plain": [
       "608400"
      ]
     },
     "execution_count": 79,
     "metadata": {},
     "output_type": "execute_result"
    }
   ],
   "source": [
    "sub_df_de.memory_usage().sum().sum()"
   ]
  },
  {
   "cell_type": "code",
   "execution_count": null,
   "metadata": {},
   "outputs": [],
   "source": [
    "del sub_df['timestamps_90_before_sim_treatment']\n",
    "del sub_df['timestamps_90_after_sim_treatment']\n",
    "\n",
    "del sub_df['revisions_before_sim_treatment_50']\n",
    "del sub_df['len_revs']\n",
    "del sub_df['ores_damaging_data']\n",
    "del sub_df['ores_goodfaith_data']"
   ]
  },
  {
   "cell_type": "code",
   "execution_count": null,
   "metadata": {},
   "outputs": [],
   "source": [
    "sub_df.to_csv('outputs/gratitude_power-analysis_dataset_sim_date_{0}_v1.csv'.format(sim_treatment_date.strftime('%Y%m%d')))"
   ]
  },
  {
   "cell_type": "code",
   "execution_count": 80,
   "metadata": {},
   "outputs": [],
   "source": [
    "sub_df_de.to_csv('outputs/de_gratitude_power-analysis_dataset_sim_date_{0}_v1.csv'.format(sim_treatment_date.strftime('%Y%m%d')))"
   ]
  },
  {
   "cell_type": "code",
   "execution_count": 34,
   "metadata": {},
   "outputs": [
    {
     "data": {
      "text/plain": [
       "array([[<matplotlib.axes._subplots.AxesSubplot object at 0x7fd64af91358>,\n",
       "        <matplotlib.axes._subplots.AxesSubplot object at 0x7fd64ad1ef60>]],\n",
       "      dtype=object)"
      ]
     },
     "execution_count": 34,
     "metadata": {},
     "output_type": "execute_result"
    },
    {
     "data": {
      "image/png": "[encoded data removed]",
      "text/plain": [
       "<Figure size 432x288 with 2 Axes>"
      ]
     },
     "metadata": {},
     "output_type": "display_data"
    }
   ],
   "source": [
    "sub_df[['labour_hours_90_pre_treatment','labour_hours_90_post_treatment']].hist()"
   ]
  },
  {
   "cell_type": "code",
   "execution_count": 81,
   "metadata": {},
   "outputs": [],
   "source": [
    "active = sub_df_de[sub_df_de['active_in_90_pre_treatment']]"
   ]
  },
  {
   "cell_type": "code",
   "execution_count": 82,
   "metadata": {},
   "outputs": [
    {
     "data": {
      "text/plain": [
       "array([[<matplotlib.axes._subplots.AxesSubplot object at 0x7fd64b289e80>,\n",
       "        <matplotlib.axes._subplots.AxesSubplot object at 0x7fd649eed8d0>]],\n",
       "      dtype=object)"
      ]
     },
     "execution_count": 82,
     "metadata": {},
     "output_type": "execute_result"
    },
    {
     "data": {
      "image/png": "[encoded data removed]",
      "text/plain": [
       "<Figure size 432x288 with 2 Axes>"
      ]
     },
     "metadata": {},
     "output_type": "display_data"
    }
   ],
   "source": [
    "active[['labour_hours_90_pre_treatment','labour_hours_90_post_treatment']].hist()"
   ]
  }
 ],
 "metadata": {
  "kernelspec": {
   "display_name": "Python 3",
   "language": "python",
   "name": "python3"
  },
  "language_info": {
   "codemirror_mode": {
    "name": "ipython",
    "version": 3
   },
   "file_extension": ".py",
   "mimetype": "text/x-python",
   "name": "python",
   "nbconvert_exporter": "python",
   "pygments_lexer": "ipython3",
   "version": "3.6.3"
  }
 },
 "nbformat": 4,
 "nbformat_minor": 2
}
